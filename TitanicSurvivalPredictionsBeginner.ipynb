{
 "cells": [
  {
   "cell_type": "markdown",
   "metadata": {
    "_cell_guid": "730aa0c8-dff2-4f89-8fef-349350d33935",
    "_uuid": "dd7eb0082ace007f5c0c63c924769b271976e511"
   },
   "source": [
    "# Titanic Survival Predictions (Beginner)\n",
    "I am a newbie to data science and machine learning, and will be attempting to work my way through the Titanic: Machine Learning from Disaster dataset. Please consider upvoting if this is useful to you! :)\n",
    "\n",
    "### Contents:\n",
    "1. Import Necessary Libraries\n",
    "2. Read In and Explore the Data\n",
    "3. Data Analysis\n",
    "4. Data Visualization\n",
    "5. Cleaning Data\n",
    "6. Choosing the Best Model\n",
    "7. Creating Submission File\n",
    "\n",
    "Any and all feedback is welcome! "
   ]
  },
  {
   "cell_type": "markdown",
   "metadata": {
    "_cell_guid": "f20a268f-e8ab-4c51-a1e5-00a5fef70824",
    "_uuid": "16f8521e8886e34460820e853d5de539451a82f7"
   },
   "source": [
    "## 1) Import Necessary Libraries\n",
    "First off, we need to import several Python libraries such as numpy, pandas, matplotlib and seaborn."
   ]
  },
  {
   "cell_type": "code",
<<<<<<< HEAD
   "execution_count": 97,
=======
   "execution_count": 31,
>>>>>>> 637820ec704844114c0182c69fae6f202aa19823
   "metadata": {
    "_cell_guid": "8b547494-0ee2-4596-bd96-fe0c1654c626",
    "_uuid": "1ec634790f3cfdd372c20f8ba3d66c7b410e993f"
   },
   "outputs": [],
   "source": [
    "#data analysis libraries \n",
    "import numpy as np\n",
    "import pandas as pd\n",
    "\n",
    "#visualization libraries\n",
    "import matplotlib.pyplot as plt\n",
    "import seaborn as sns\n",
    "%matplotlib inline\n",
    "\n",
    "#ignore warnings\n",
    "import warnings\n",
    "warnings.filterwarnings('ignore')"
   ]
  },
  {
   "cell_type": "markdown",
   "metadata": {
    "_cell_guid": "2c18255f-e77f-4edf-817a-b76d2330ca70",
    "_uuid": "dc2d74e13fbcabaa244ca108a1669e2812e98075"
   },
   "source": [
    "## 2) Read in and Explore the Data \n",
    "It's time to read in our training and testing data using `pd.read_csv`, and take a first look at the training data using the `describe()` function."
   ]
  },
  {
   "cell_type": "code",
<<<<<<< HEAD
   "execution_count": 98,
=======
   "execution_count": 32,
>>>>>>> 637820ec704844114c0182c69fae6f202aa19823
   "metadata": {
    "_cell_guid": "b8200d17-9f26-4507-9161-2e3dd1ef154d",
    "_uuid": "31e1c08d3f6633be24186295ceb5ef7305205c87"
   },
   "outputs": [
    {
     "data": {
      "text/html": [
       "<div>\n",
       "<style scoped>\n",
       "    .dataframe tbody tr th:only-of-type {\n",
       "        vertical-align: middle;\n",
       "    }\n",
       "\n",
       "    .dataframe tbody tr th {\n",
       "        vertical-align: top;\n",
       "    }\n",
       "\n",
       "    .dataframe thead th {\n",
       "        text-align: right;\n",
       "    }\n",
       "</style>\n",
       "<table border=\"1\" class=\"dataframe\">\n",
       "  <thead>\n",
       "    <tr style=\"text-align: right;\">\n",
       "      <th></th>\n",
       "      <th>PassengerId</th>\n",
       "      <th>Survived</th>\n",
       "      <th>Pclass</th>\n",
       "      <th>Name</th>\n",
       "      <th>Sex</th>\n",
       "      <th>Age</th>\n",
       "      <th>SibSp</th>\n",
       "      <th>Parch</th>\n",
       "      <th>Ticket</th>\n",
       "      <th>Fare</th>\n",
       "      <th>Cabin</th>\n",
       "      <th>Embarked</th>\n",
       "    </tr>\n",
       "  </thead>\n",
       "  <tbody>\n",
       "    <tr>\n",
       "      <th>count</th>\n",
       "      <td>891.000000</td>\n",
       "      <td>891.000000</td>\n",
       "      <td>891.000000</td>\n",
       "      <td>891</td>\n",
       "      <td>891</td>\n",
       "      <td>714.000000</td>\n",
       "      <td>891.000000</td>\n",
       "      <td>891.000000</td>\n",
       "      <td>891</td>\n",
       "      <td>891.000000</td>\n",
       "      <td>204</td>\n",
       "      <td>889</td>\n",
       "    </tr>\n",
       "    <tr>\n",
       "      <th>unique</th>\n",
       "      <td>NaN</td>\n",
       "      <td>NaN</td>\n",
       "      <td>NaN</td>\n",
       "      <td>891</td>\n",
       "      <td>2</td>\n",
       "      <td>NaN</td>\n",
       "      <td>NaN</td>\n",
       "      <td>NaN</td>\n",
       "      <td>681</td>\n",
       "      <td>NaN</td>\n",
       "      <td>147</td>\n",
       "      <td>3</td>\n",
       "    </tr>\n",
       "    <tr>\n",
       "      <th>top</th>\n",
       "      <td>NaN</td>\n",
       "      <td>NaN</td>\n",
       "      <td>NaN</td>\n",
<<<<<<< HEAD
       "      <td>Parr, Mr. William Henry Marsh</td>\n",
=======
       "      <td>Palsson, Miss. Stina Viola</td>\n",
>>>>>>> 637820ec704844114c0182c69fae6f202aa19823
       "      <td>male</td>\n",
       "      <td>NaN</td>\n",
       "      <td>NaN</td>\n",
       "      <td>NaN</td>\n",
       "      <td>347082</td>\n",
       "      <td>NaN</td>\n",
       "      <td>C23 C25 C27</td>\n",
       "      <td>S</td>\n",
       "    </tr>\n",
       "    <tr>\n",
       "      <th>freq</th>\n",
       "      <td>NaN</td>\n",
       "      <td>NaN</td>\n",
       "      <td>NaN</td>\n",
       "      <td>1</td>\n",
       "      <td>577</td>\n",
       "      <td>NaN</td>\n",
       "      <td>NaN</td>\n",
       "      <td>NaN</td>\n",
       "      <td>7</td>\n",
       "      <td>NaN</td>\n",
       "      <td>4</td>\n",
       "      <td>644</td>\n",
       "    </tr>\n",
       "    <tr>\n",
       "      <th>mean</th>\n",
       "      <td>446.000000</td>\n",
       "      <td>0.383838</td>\n",
       "      <td>2.308642</td>\n",
       "      <td>NaN</td>\n",
       "      <td>NaN</td>\n",
       "      <td>29.699118</td>\n",
       "      <td>0.523008</td>\n",
       "      <td>0.381594</td>\n",
       "      <td>NaN</td>\n",
       "      <td>32.204208</td>\n",
       "      <td>NaN</td>\n",
       "      <td>NaN</td>\n",
       "    </tr>\n",
       "    <tr>\n",
       "      <th>std</th>\n",
       "      <td>257.353842</td>\n",
       "      <td>0.486592</td>\n",
       "      <td>0.836071</td>\n",
       "      <td>NaN</td>\n",
       "      <td>NaN</td>\n",
       "      <td>14.526497</td>\n",
       "      <td>1.102743</td>\n",
       "      <td>0.806057</td>\n",
       "      <td>NaN</td>\n",
       "      <td>49.693429</td>\n",
       "      <td>NaN</td>\n",
       "      <td>NaN</td>\n",
       "    </tr>\n",
       "    <tr>\n",
       "      <th>min</th>\n",
       "      <td>1.000000</td>\n",
       "      <td>0.000000</td>\n",
       "      <td>1.000000</td>\n",
       "      <td>NaN</td>\n",
       "      <td>NaN</td>\n",
       "      <td>0.420000</td>\n",
       "      <td>0.000000</td>\n",
       "      <td>0.000000</td>\n",
       "      <td>NaN</td>\n",
       "      <td>0.000000</td>\n",
       "      <td>NaN</td>\n",
       "      <td>NaN</td>\n",
       "    </tr>\n",
       "    <tr>\n",
       "      <th>25%</th>\n",
       "      <td>223.500000</td>\n",
       "      <td>0.000000</td>\n",
       "      <td>2.000000</td>\n",
       "      <td>NaN</td>\n",
       "      <td>NaN</td>\n",
       "      <td>20.125000</td>\n",
       "      <td>0.000000</td>\n",
       "      <td>0.000000</td>\n",
       "      <td>NaN</td>\n",
       "      <td>7.910400</td>\n",
       "      <td>NaN</td>\n",
       "      <td>NaN</td>\n",
       "    </tr>\n",
       "    <tr>\n",
       "      <th>50%</th>\n",
       "      <td>446.000000</td>\n",
       "      <td>0.000000</td>\n",
       "      <td>3.000000</td>\n",
       "      <td>NaN</td>\n",
       "      <td>NaN</td>\n",
       "      <td>28.000000</td>\n",
       "      <td>0.000000</td>\n",
       "      <td>0.000000</td>\n",
       "      <td>NaN</td>\n",
       "      <td>14.454200</td>\n",
       "      <td>NaN</td>\n",
       "      <td>NaN</td>\n",
       "    </tr>\n",
       "    <tr>\n",
       "      <th>75%</th>\n",
       "      <td>668.500000</td>\n",
       "      <td>1.000000</td>\n",
       "      <td>3.000000</td>\n",
       "      <td>NaN</td>\n",
       "      <td>NaN</td>\n",
       "      <td>38.000000</td>\n",
       "      <td>1.000000</td>\n",
       "      <td>0.000000</td>\n",
       "      <td>NaN</td>\n",
       "      <td>31.000000</td>\n",
       "      <td>NaN</td>\n",
       "      <td>NaN</td>\n",
       "    </tr>\n",
       "    <tr>\n",
       "      <th>max</th>\n",
       "      <td>891.000000</td>\n",
       "      <td>1.000000</td>\n",
       "      <td>3.000000</td>\n",
       "      <td>NaN</td>\n",
       "      <td>NaN</td>\n",
       "      <td>80.000000</td>\n",
       "      <td>8.000000</td>\n",
       "      <td>6.000000</td>\n",
       "      <td>NaN</td>\n",
       "      <td>512.329200</td>\n",
       "      <td>NaN</td>\n",
       "      <td>NaN</td>\n",
       "    </tr>\n",
       "  </tbody>\n",
       "</table>\n",
       "</div>"
      ],
      "text/plain": [
<<<<<<< HEAD
       "        PassengerId    Survived      Pclass                           Name  \\\n",
       "count    891.000000  891.000000  891.000000                            891   \n",
       "unique          NaN         NaN         NaN                            891   \n",
       "top             NaN         NaN         NaN  Parr, Mr. William Henry Marsh   \n",
       "freq            NaN         NaN         NaN                              1   \n",
       "mean     446.000000    0.383838    2.308642                            NaN   \n",
       "std      257.353842    0.486592    0.836071                            NaN   \n",
       "min        1.000000    0.000000    1.000000                            NaN   \n",
       "25%      223.500000    0.000000    2.000000                            NaN   \n",
       "50%      446.000000    0.000000    3.000000                            NaN   \n",
       "75%      668.500000    1.000000    3.000000                            NaN   \n",
       "max      891.000000    1.000000    3.000000                            NaN   \n",
       "\n",
       "         Sex         Age       SibSp       Parch    Ticket        Fare Cabin  \\\n",
       "count    891  714.000000  891.000000  891.000000       891  891.000000   204   \n",
       "unique     2         NaN         NaN         NaN       681         NaN   147   \n",
       "top     male         NaN         NaN         NaN  CA. 2343         NaN    G6   \n",
       "freq     577         NaN         NaN         NaN         7         NaN     4   \n",
       "mean     NaN   29.699118    0.523008    0.381594       NaN   32.204208   NaN   \n",
       "std      NaN   14.526497    1.102743    0.806057       NaN   49.693429   NaN   \n",
       "min      NaN    0.420000    0.000000    0.000000       NaN    0.000000   NaN   \n",
       "25%      NaN   20.125000    0.000000    0.000000       NaN    7.910400   NaN   \n",
       "50%      NaN   28.000000    0.000000    0.000000       NaN   14.454200   NaN   \n",
       "75%      NaN   38.000000    1.000000    0.000000       NaN   31.000000   NaN   \n",
       "max      NaN   80.000000    8.000000    6.000000       NaN  512.329200   NaN   \n",
=======
       "        PassengerId    Survived      Pclass                        Name   Sex  \\\n",
       "count    891.000000  891.000000  891.000000                         891   891   \n",
       "unique          NaN         NaN         NaN                         891     2   \n",
       "top             NaN         NaN         NaN  Palsson, Miss. Stina Viola  male   \n",
       "freq            NaN         NaN         NaN                           1   577   \n",
       "mean     446.000000    0.383838    2.308642                         NaN   NaN   \n",
       "std      257.353842    0.486592    0.836071                         NaN   NaN   \n",
       "min        1.000000    0.000000    1.000000                         NaN   NaN   \n",
       "25%      223.500000    0.000000    2.000000                         NaN   NaN   \n",
       "50%      446.000000    0.000000    3.000000                         NaN   NaN   \n",
       "75%      668.500000    1.000000    3.000000                         NaN   NaN   \n",
       "max      891.000000    1.000000    3.000000                         NaN   NaN   \n",
       "\n",
       "               Age       SibSp       Parch  Ticket        Fare        Cabin  \\\n",
       "count   714.000000  891.000000  891.000000     891  891.000000          204   \n",
       "unique         NaN         NaN         NaN     681         NaN          147   \n",
       "top            NaN         NaN         NaN  347082         NaN  C23 C25 C27   \n",
       "freq           NaN         NaN         NaN       7         NaN            4   \n",
       "mean     29.699118    0.523008    0.381594     NaN   32.204208          NaN   \n",
       "std      14.526497    1.102743    0.806057     NaN   49.693429          NaN   \n",
       "min       0.420000    0.000000    0.000000     NaN    0.000000          NaN   \n",
       "25%      20.125000    0.000000    0.000000     NaN    7.910400          NaN   \n",
       "50%      28.000000    0.000000    0.000000     NaN   14.454200          NaN   \n",
       "75%      38.000000    1.000000    0.000000     NaN   31.000000          NaN   \n",
       "max      80.000000    8.000000    6.000000     NaN  512.329200          NaN   \n",
>>>>>>> 637820ec704844114c0182c69fae6f202aa19823
       "\n",
       "       Embarked  \n",
       "count       889  \n",
       "unique        3  \n",
       "top           S  \n",
       "freq        644  \n",
       "mean        NaN  \n",
       "std         NaN  \n",
       "min         NaN  \n",
       "25%         NaN  \n",
       "50%         NaN  \n",
       "75%         NaN  \n",
       "max         NaN  "
      ]
     },
<<<<<<< HEAD
     "execution_count": 98,
=======
     "execution_count": 32,
>>>>>>> 637820ec704844114c0182c69fae6f202aa19823
     "metadata": {},
     "output_type": "execute_result"
    }
   ],
   "source": [
    "#import train and test CSV files\n",
    "train = pd.read_csv(\"./titanic_data_set/train.csv\")\n",
    "test = pd.read_csv(\"./titanic_data_set/test.csv\")\n",
    "\n",
    "#take a look at the training data\n",
    "train.describe(include=\"all\")"
   ]
  },
  {
   "cell_type": "markdown",
   "metadata": {
    "_cell_guid": "01f965ef-bd23-48c0-b6fc-44b7766c2ad8",
    "_uuid": "76d0ea2d3a1259aa2b8ccf33dbe794c432d20f70"
   },
   "source": [
    "## 3) Data Analysis\n",
    "We're going to consider the features in the dataset and how complete they are. "
   ]
  },
  {
   "cell_type": "code",
<<<<<<< HEAD
   "execution_count": 99,
=======
   "execution_count": 33,
>>>>>>> 637820ec704844114c0182c69fae6f202aa19823
   "metadata": {
    "_cell_guid": "a6ee4c59-0af2-4f83-8698-e5a273bf4fbe",
    "_uuid": "20ad8f96b508e388aa060cd9dd6cb4d03bc1e9bf"
   },
   "outputs": [
    {
     "name": "stdout",
     "output_type": "stream",
     "text": [
      "Index(['PassengerId', 'Survived', 'Pclass', 'Name', 'Sex', 'Age', 'SibSp',\n",
      "       'Parch', 'Ticket', 'Fare', 'Cabin', 'Embarked'],\n",
      "      dtype='object')\n"
     ]
    }
   ],
   "source": [
    "#get a list of the features within the dataset\n",
    "print(train.columns)"
   ]
  },
  {
   "cell_type": "code",
<<<<<<< HEAD
   "execution_count": 100,
=======
   "execution_count": 34,
>>>>>>> 637820ec704844114c0182c69fae6f202aa19823
   "metadata": {
    "_cell_guid": "31308e14-a2cf-41fd-b60d-a2a764431e7f",
    "_uuid": "0b4b77818ea8e573f25b44841c5235ee8d2a2af3"
   },
   "outputs": [
    {
     "data": {
      "text/html": [
       "<div>\n",
       "<style scoped>\n",
       "    .dataframe tbody tr th:only-of-type {\n",
       "        vertical-align: middle;\n",
       "    }\n",
       "\n",
       "    .dataframe tbody tr th {\n",
       "        vertical-align: top;\n",
       "    }\n",
       "\n",
       "    .dataframe thead th {\n",
       "        text-align: right;\n",
       "    }\n",
       "</style>\n",
       "<table border=\"1\" class=\"dataframe\">\n",
       "  <thead>\n",
       "    <tr style=\"text-align: right;\">\n",
       "      <th></th>\n",
       "      <th>PassengerId</th>\n",
       "      <th>Survived</th>\n",
       "      <th>Pclass</th>\n",
       "      <th>Name</th>\n",
       "      <th>Sex</th>\n",
       "      <th>Age</th>\n",
       "      <th>SibSp</th>\n",
       "      <th>Parch</th>\n",
       "      <th>Ticket</th>\n",
       "      <th>Fare</th>\n",
       "      <th>Cabin</th>\n",
       "      <th>Embarked</th>\n",
       "    </tr>\n",
       "  </thead>\n",
       "  <tbody>\n",
       "    <tr>\n",
<<<<<<< HEAD
       "      <th>268</th>\n",
       "      <td>269</td>\n",
       "      <td>1</td>\n",
       "      <td>1</td>\n",
       "      <td>Graham, Mrs. William Thompson (Edith Junkins)</td>\n",
       "      <td>female</td>\n",
       "      <td>58.0</td>\n",
       "      <td>0</td>\n",
       "      <td>1</td>\n",
       "      <td>PC 17582</td>\n",
       "      <td>153.4625</td>\n",
       "      <td>C125</td>\n",
       "      <td>S</td>\n",
       "    </tr>\n",
       "    <tr>\n",
       "      <th>387</th>\n",
       "      <td>388</td>\n",
       "      <td>1</td>\n",
       "      <td>2</td>\n",
       "      <td>Buss, Miss. Kate</td>\n",
       "      <td>female</td>\n",
       "      <td>36.0</td>\n",
       "      <td>0</td>\n",
       "      <td>0</td>\n",
       "      <td>27849</td>\n",
       "      <td>13.0000</td>\n",
=======
       "      <th>884</th>\n",
       "      <td>885</td>\n",
       "      <td>0</td>\n",
       "      <td>3</td>\n",
       "      <td>Sutehall, Mr. Henry Jr</td>\n",
       "      <td>male</td>\n",
       "      <td>25.0</td>\n",
       "      <td>0</td>\n",
       "      <td>0</td>\n",
       "      <td>SOTON/OQ 392076</td>\n",
       "      <td>7.050</td>\n",
>>>>>>> 637820ec704844114c0182c69fae6f202aa19823
       "      <td>NaN</td>\n",
       "      <td>S</td>\n",
       "    </tr>\n",
       "    <tr>\n",
<<<<<<< HEAD
       "      <th>406</th>\n",
       "      <td>407</td>\n",
       "      <td>0</td>\n",
       "      <td>3</td>\n",
       "      <td>Widegren, Mr. Carl/Charles Peter</td>\n",
       "      <td>male</td>\n",
       "      <td>51.0</td>\n",
       "      <td>0</td>\n",
       "      <td>0</td>\n",
       "      <td>347064</td>\n",
       "      <td>7.7500</td>\n",
=======
       "      <th>799</th>\n",
       "      <td>800</td>\n",
       "      <td>0</td>\n",
       "      <td>3</td>\n",
       "      <td>Van Impe, Mrs. Jean Baptiste (Rosalie Paula Go...</td>\n",
       "      <td>female</td>\n",
       "      <td>30.0</td>\n",
       "      <td>1</td>\n",
       "      <td>1</td>\n",
       "      <td>345773</td>\n",
       "      <td>24.150</td>\n",
>>>>>>> 637820ec704844114c0182c69fae6f202aa19823
       "      <td>NaN</td>\n",
       "      <td>S</td>\n",
       "    </tr>\n",
       "    <tr>\n",
<<<<<<< HEAD
       "      <th>426</th>\n",
       "      <td>427</td>\n",
       "      <td>1</td>\n",
       "      <td>2</td>\n",
       "      <td>Clarke, Mrs. Charles V (Ada Maria Winfield)</td>\n",
       "      <td>female</td>\n",
       "      <td>28.0</td>\n",
       "      <td>1</td>\n",
       "      <td>0</td>\n",
       "      <td>2003</td>\n",
       "      <td>26.0000</td>\n",
=======
       "      <th>408</th>\n",
       "      <td>409</td>\n",
       "      <td>0</td>\n",
       "      <td>3</td>\n",
       "      <td>Birkeland, Mr. Hans Martin Monsen</td>\n",
       "      <td>male</td>\n",
       "      <td>21.0</td>\n",
       "      <td>0</td>\n",
       "      <td>0</td>\n",
       "      <td>312992</td>\n",
       "      <td>7.775</td>\n",
>>>>>>> 637820ec704844114c0182c69fae6f202aa19823
       "      <td>NaN</td>\n",
       "      <td>S</td>\n",
       "    </tr>\n",
       "    <tr>\n",
<<<<<<< HEAD
       "      <th>731</th>\n",
       "      <td>732</td>\n",
       "      <td>0</td>\n",
       "      <td>3</td>\n",
       "      <td>Hassan, Mr. Houssein G N</td>\n",
       "      <td>male</td>\n",
       "      <td>11.0</td>\n",
       "      <td>0</td>\n",
       "      <td>0</td>\n",
       "      <td>2699</td>\n",
       "      <td>18.7875</td>\n",
=======
       "      <th>208</th>\n",
       "      <td>209</td>\n",
       "      <td>1</td>\n",
       "      <td>3</td>\n",
       "      <td>Carr, Miss. Helen \"Ellen\"</td>\n",
       "      <td>female</td>\n",
       "      <td>16.0</td>\n",
       "      <td>0</td>\n",
       "      <td>0</td>\n",
       "      <td>367231</td>\n",
       "      <td>7.750</td>\n",
       "      <td>NaN</td>\n",
       "      <td>Q</td>\n",
       "    </tr>\n",
       "    <tr>\n",
       "      <th>746</th>\n",
       "      <td>747</td>\n",
       "      <td>0</td>\n",
       "      <td>3</td>\n",
       "      <td>Abbott, Mr. Rossmore Edward</td>\n",
       "      <td>male</td>\n",
       "      <td>16.0</td>\n",
       "      <td>1</td>\n",
       "      <td>1</td>\n",
       "      <td>C.A. 2673</td>\n",
       "      <td>20.250</td>\n",
>>>>>>> 637820ec704844114c0182c69fae6f202aa19823
       "      <td>NaN</td>\n",
       "      <td>C</td>\n",
       "    </tr>\n",
       "  </tbody>\n",
       "</table>\n",
       "</div>"
      ],
      "text/plain": [
       "     PassengerId  Survived  Pclass  \\\n",
<<<<<<< HEAD
       "268          269         1       1   \n",
       "387          388         1       2   \n",
       "406          407         0       3   \n",
       "426          427         1       2   \n",
       "731          732         0       3   \n",
       "\n",
       "                                              Name     Sex   Age  SibSp  \\\n",
       "268  Graham, Mrs. William Thompson (Edith Junkins)  female  58.0      0   \n",
       "387                               Buss, Miss. Kate  female  36.0      0   \n",
       "406               Widegren, Mr. Carl/Charles Peter    male  51.0      0   \n",
       "426    Clarke, Mrs. Charles V (Ada Maria Winfield)  female  28.0      1   \n",
       "731                       Hassan, Mr. Houssein G N    male  11.0      0   \n",
       "\n",
       "     Parch    Ticket      Fare Cabin Embarked  \n",
       "268      1  PC 17582  153.4625  C125        S  \n",
       "387      0     27849   13.0000   NaN        S  \n",
       "406      0    347064    7.7500   NaN        S  \n",
       "426      0      2003   26.0000   NaN        S  \n",
       "731      0      2699   18.7875   NaN        C  "
      ]
     },
     "execution_count": 100,
=======
       "884          885         0       3   \n",
       "799          800         0       3   \n",
       "408          409         0       3   \n",
       "208          209         1       3   \n",
       "746          747         0       3   \n",
       "\n",
       "                                                  Name     Sex   Age  SibSp  \\\n",
       "884                             Sutehall, Mr. Henry Jr    male  25.0      0   \n",
       "799  Van Impe, Mrs. Jean Baptiste (Rosalie Paula Go...  female  30.0      1   \n",
       "408                  Birkeland, Mr. Hans Martin Monsen    male  21.0      0   \n",
       "208                          Carr, Miss. Helen \"Ellen\"  female  16.0      0   \n",
       "746                        Abbott, Mr. Rossmore Edward    male  16.0      1   \n",
       "\n",
       "     Parch           Ticket    Fare Cabin Embarked  \n",
       "884      0  SOTON/OQ 392076   7.050   NaN        S  \n",
       "799      1           345773  24.150   NaN        S  \n",
       "408      0           312992   7.775   NaN        S  \n",
       "208      0           367231   7.750   NaN        Q  \n",
       "746      1        C.A. 2673  20.250   NaN        S  "
      ]
     },
     "execution_count": 34,
>>>>>>> 637820ec704844114c0182c69fae6f202aa19823
     "metadata": {},
     "output_type": "execute_result"
    }
   ],
   "source": [
    "#see a sample of the dataset to get an idea of the variables\n",
    "train.sample(5)"
   ]
  },
  {
   "cell_type": "markdown",
   "metadata": {
    "_cell_guid": "eab5b420-e1e1-4bcd-a0f5-bc7509e97956",
    "_uuid": "2af87b84cf76320f0b4ab6cc104eff78279f03cb"
   },
   "source": [
    "* **Numerical Features:** Age (Continuous), Fare (Continuous), SibSp (Discrete), Parch (Discrete)\n",
    "* **Categorical Features:** Survived, Sex, Embarked, Pclass\n",
    "* **Alphanumeric Features:** Ticket, Cabin\n",
    "\n",
    "#### What are the data types for each feature?\n",
    "* Survived: int\n",
    "* Pclass: int\n",
    "* Name: string\n",
    "* Sex: string\n",
    "* Age: float\n",
    "* SibSp: int\n",
    "* Parch: int\n",
    "* Ticket: string\n",
    "* Fare: float\n",
    "* Cabin: string\n",
    "* Embarked: string\n",
    "\n",
    "Now that we have an idea of what kinds of features we're working with, we can see how much information we have about each of them.\n"
   ]
  },
  {
   "cell_type": "code",
<<<<<<< HEAD
   "execution_count": 101,
=======
   "execution_count": 35,
>>>>>>> 637820ec704844114c0182c69fae6f202aa19823
   "metadata": {
    "_cell_guid": "02b24c5c-2c30-4b9e-ab81-9417fc2ca244",
    "_uuid": "f1a6b393e85252e9e85ef9b8e0aeb7dd99fe510d"
   },
   "outputs": [
    {
     "data": {
      "text/html": [
       "<div>\n",
       "<style scoped>\n",
       "    .dataframe tbody tr th:only-of-type {\n",
       "        vertical-align: middle;\n",
       "    }\n",
       "\n",
       "    .dataframe tbody tr th {\n",
       "        vertical-align: top;\n",
       "    }\n",
       "\n",
       "    .dataframe thead th {\n",
       "        text-align: right;\n",
       "    }\n",
       "</style>\n",
       "<table border=\"1\" class=\"dataframe\">\n",
       "  <thead>\n",
       "    <tr style=\"text-align: right;\">\n",
       "      <th></th>\n",
       "      <th>PassengerId</th>\n",
       "      <th>Survived</th>\n",
       "      <th>Pclass</th>\n",
       "      <th>Name</th>\n",
       "      <th>Sex</th>\n",
       "      <th>Age</th>\n",
       "      <th>SibSp</th>\n",
       "      <th>Parch</th>\n",
       "      <th>Ticket</th>\n",
       "      <th>Fare</th>\n",
       "      <th>Cabin</th>\n",
       "      <th>Embarked</th>\n",
       "    </tr>\n",
       "  </thead>\n",
       "  <tbody>\n",
       "    <tr>\n",
       "      <th>count</th>\n",
       "      <td>891.000000</td>\n",
       "      <td>891.000000</td>\n",
       "      <td>891.000000</td>\n",
       "      <td>891</td>\n",
       "      <td>891</td>\n",
       "      <td>714.000000</td>\n",
       "      <td>891.000000</td>\n",
       "      <td>891.000000</td>\n",
       "      <td>891</td>\n",
       "      <td>891.000000</td>\n",
       "      <td>204</td>\n",
       "      <td>889</td>\n",
       "    </tr>\n",
       "    <tr>\n",
       "      <th>unique</th>\n",
       "      <td>NaN</td>\n",
       "      <td>NaN</td>\n",
       "      <td>NaN</td>\n",
       "      <td>891</td>\n",
       "      <td>2</td>\n",
       "      <td>NaN</td>\n",
       "      <td>NaN</td>\n",
       "      <td>NaN</td>\n",
       "      <td>681</td>\n",
       "      <td>NaN</td>\n",
       "      <td>147</td>\n",
       "      <td>3</td>\n",
       "    </tr>\n",
       "    <tr>\n",
       "      <th>top</th>\n",
       "      <td>NaN</td>\n",
       "      <td>NaN</td>\n",
       "      <td>NaN</td>\n",
<<<<<<< HEAD
       "      <td>Parr, Mr. William Henry Marsh</td>\n",
=======
       "      <td>Palsson, Miss. Stina Viola</td>\n",
>>>>>>> 637820ec704844114c0182c69fae6f202aa19823
       "      <td>male</td>\n",
       "      <td>NaN</td>\n",
       "      <td>NaN</td>\n",
       "      <td>NaN</td>\n",
       "      <td>347082</td>\n",
       "      <td>NaN</td>\n",
       "      <td>C23 C25 C27</td>\n",
       "      <td>S</td>\n",
       "    </tr>\n",
       "    <tr>\n",
       "      <th>freq</th>\n",
       "      <td>NaN</td>\n",
       "      <td>NaN</td>\n",
       "      <td>NaN</td>\n",
       "      <td>1</td>\n",
       "      <td>577</td>\n",
       "      <td>NaN</td>\n",
       "      <td>NaN</td>\n",
       "      <td>NaN</td>\n",
       "      <td>7</td>\n",
       "      <td>NaN</td>\n",
       "      <td>4</td>\n",
       "      <td>644</td>\n",
       "    </tr>\n",
       "    <tr>\n",
       "      <th>mean</th>\n",
       "      <td>446.000000</td>\n",
       "      <td>0.383838</td>\n",
       "      <td>2.308642</td>\n",
       "      <td>NaN</td>\n",
       "      <td>NaN</td>\n",
       "      <td>29.699118</td>\n",
       "      <td>0.523008</td>\n",
       "      <td>0.381594</td>\n",
       "      <td>NaN</td>\n",
       "      <td>32.204208</td>\n",
       "      <td>NaN</td>\n",
       "      <td>NaN</td>\n",
       "    </tr>\n",
       "    <tr>\n",
       "      <th>std</th>\n",
       "      <td>257.353842</td>\n",
       "      <td>0.486592</td>\n",
       "      <td>0.836071</td>\n",
       "      <td>NaN</td>\n",
       "      <td>NaN</td>\n",
       "      <td>14.526497</td>\n",
       "      <td>1.102743</td>\n",
       "      <td>0.806057</td>\n",
       "      <td>NaN</td>\n",
       "      <td>49.693429</td>\n",
       "      <td>NaN</td>\n",
       "      <td>NaN</td>\n",
       "    </tr>\n",
       "    <tr>\n",
       "      <th>min</th>\n",
       "      <td>1.000000</td>\n",
       "      <td>0.000000</td>\n",
       "      <td>1.000000</td>\n",
       "      <td>NaN</td>\n",
       "      <td>NaN</td>\n",
       "      <td>0.420000</td>\n",
       "      <td>0.000000</td>\n",
       "      <td>0.000000</td>\n",
       "      <td>NaN</td>\n",
       "      <td>0.000000</td>\n",
       "      <td>NaN</td>\n",
       "      <td>NaN</td>\n",
       "    </tr>\n",
       "    <tr>\n",
       "      <th>25%</th>\n",
       "      <td>223.500000</td>\n",
       "      <td>0.000000</td>\n",
       "      <td>2.000000</td>\n",
       "      <td>NaN</td>\n",
       "      <td>NaN</td>\n",
       "      <td>20.125000</td>\n",
       "      <td>0.000000</td>\n",
       "      <td>0.000000</td>\n",
       "      <td>NaN</td>\n",
       "      <td>7.910400</td>\n",
       "      <td>NaN</td>\n",
       "      <td>NaN</td>\n",
       "    </tr>\n",
       "    <tr>\n",
       "      <th>50%</th>\n",
       "      <td>446.000000</td>\n",
       "      <td>0.000000</td>\n",
       "      <td>3.000000</td>\n",
       "      <td>NaN</td>\n",
       "      <td>NaN</td>\n",
       "      <td>28.000000</td>\n",
       "      <td>0.000000</td>\n",
       "      <td>0.000000</td>\n",
       "      <td>NaN</td>\n",
       "      <td>14.454200</td>\n",
       "      <td>NaN</td>\n",
       "      <td>NaN</td>\n",
       "    </tr>\n",
       "    <tr>\n",
       "      <th>75%</th>\n",
       "      <td>668.500000</td>\n",
       "      <td>1.000000</td>\n",
       "      <td>3.000000</td>\n",
       "      <td>NaN</td>\n",
       "      <td>NaN</td>\n",
       "      <td>38.000000</td>\n",
       "      <td>1.000000</td>\n",
       "      <td>0.000000</td>\n",
       "      <td>NaN</td>\n",
       "      <td>31.000000</td>\n",
       "      <td>NaN</td>\n",
       "      <td>NaN</td>\n",
       "    </tr>\n",
       "    <tr>\n",
       "      <th>max</th>\n",
       "      <td>891.000000</td>\n",
       "      <td>1.000000</td>\n",
       "      <td>3.000000</td>\n",
       "      <td>NaN</td>\n",
       "      <td>NaN</td>\n",
       "      <td>80.000000</td>\n",
       "      <td>8.000000</td>\n",
       "      <td>6.000000</td>\n",
       "      <td>NaN</td>\n",
       "      <td>512.329200</td>\n",
       "      <td>NaN</td>\n",
       "      <td>NaN</td>\n",
       "    </tr>\n",
       "  </tbody>\n",
       "</table>\n",
       "</div>"
      ],
      "text/plain": [
<<<<<<< HEAD
       "        PassengerId    Survived      Pclass                           Name  \\\n",
       "count    891.000000  891.000000  891.000000                            891   \n",
       "unique          NaN         NaN         NaN                            891   \n",
       "top             NaN         NaN         NaN  Parr, Mr. William Henry Marsh   \n",
       "freq            NaN         NaN         NaN                              1   \n",
       "mean     446.000000    0.383838    2.308642                            NaN   \n",
       "std      257.353842    0.486592    0.836071                            NaN   \n",
       "min        1.000000    0.000000    1.000000                            NaN   \n",
       "25%      223.500000    0.000000    2.000000                            NaN   \n",
       "50%      446.000000    0.000000    3.000000                            NaN   \n",
       "75%      668.500000    1.000000    3.000000                            NaN   \n",
       "max      891.000000    1.000000    3.000000                            NaN   \n",
       "\n",
       "         Sex         Age       SibSp       Parch    Ticket        Fare Cabin  \\\n",
       "count    891  714.000000  891.000000  891.000000       891  891.000000   204   \n",
       "unique     2         NaN         NaN         NaN       681         NaN   147   \n",
       "top     male         NaN         NaN         NaN  CA. 2343         NaN    G6   \n",
       "freq     577         NaN         NaN         NaN         7         NaN     4   \n",
       "mean     NaN   29.699118    0.523008    0.381594       NaN   32.204208   NaN   \n",
       "std      NaN   14.526497    1.102743    0.806057       NaN   49.693429   NaN   \n",
       "min      NaN    0.420000    0.000000    0.000000       NaN    0.000000   NaN   \n",
       "25%      NaN   20.125000    0.000000    0.000000       NaN    7.910400   NaN   \n",
       "50%      NaN   28.000000    0.000000    0.000000       NaN   14.454200   NaN   \n",
       "75%      NaN   38.000000    1.000000    0.000000       NaN   31.000000   NaN   \n",
       "max      NaN   80.000000    8.000000    6.000000       NaN  512.329200   NaN   \n",
=======
       "        PassengerId    Survived      Pclass                        Name   Sex  \\\n",
       "count    891.000000  891.000000  891.000000                         891   891   \n",
       "unique          NaN         NaN         NaN                         891     2   \n",
       "top             NaN         NaN         NaN  Palsson, Miss. Stina Viola  male   \n",
       "freq            NaN         NaN         NaN                           1   577   \n",
       "mean     446.000000    0.383838    2.308642                         NaN   NaN   \n",
       "std      257.353842    0.486592    0.836071                         NaN   NaN   \n",
       "min        1.000000    0.000000    1.000000                         NaN   NaN   \n",
       "25%      223.500000    0.000000    2.000000                         NaN   NaN   \n",
       "50%      446.000000    0.000000    3.000000                         NaN   NaN   \n",
       "75%      668.500000    1.000000    3.000000                         NaN   NaN   \n",
       "max      891.000000    1.000000    3.000000                         NaN   NaN   \n",
       "\n",
       "               Age       SibSp       Parch  Ticket        Fare        Cabin  \\\n",
       "count   714.000000  891.000000  891.000000     891  891.000000          204   \n",
       "unique         NaN         NaN         NaN     681         NaN          147   \n",
       "top            NaN         NaN         NaN  347082         NaN  C23 C25 C27   \n",
       "freq           NaN         NaN         NaN       7         NaN            4   \n",
       "mean     29.699118    0.523008    0.381594     NaN   32.204208          NaN   \n",
       "std      14.526497    1.102743    0.806057     NaN   49.693429          NaN   \n",
       "min       0.420000    0.000000    0.000000     NaN    0.000000          NaN   \n",
       "25%      20.125000    0.000000    0.000000     NaN    7.910400          NaN   \n",
       "50%      28.000000    0.000000    0.000000     NaN   14.454200          NaN   \n",
       "75%      38.000000    1.000000    0.000000     NaN   31.000000          NaN   \n",
       "max      80.000000    8.000000    6.000000     NaN  512.329200          NaN   \n",
>>>>>>> 637820ec704844114c0182c69fae6f202aa19823
       "\n",
       "       Embarked  \n",
       "count       889  \n",
       "unique        3  \n",
       "top           S  \n",
       "freq        644  \n",
       "mean        NaN  \n",
       "std         NaN  \n",
       "min         NaN  \n",
       "25%         NaN  \n",
       "50%         NaN  \n",
       "75%         NaN  \n",
       "max         NaN  "
      ]
     },
<<<<<<< HEAD
     "execution_count": 101,
=======
     "execution_count": 35,
>>>>>>> 637820ec704844114c0182c69fae6f202aa19823
     "metadata": {},
     "output_type": "execute_result"
    }
   ],
   "source": [
    "#see a summary of the training dataset\n",
    "train.describe(include = \"all\")"
   ]
  },
  {
   "cell_type": "markdown",
   "metadata": {
    "_cell_guid": "644cc349-70e6-4650-9d26-b429802f5efa",
    "_uuid": "97bb9b0e680db92ab2fe5f4392210156aae1e989"
   },
   "source": [
    "#### Some Observations:\n",
    "* There are a total of 891 passengers in our training set.\n",
    "* The Age feature is missing approximately 19.8% of its values. I'm guessing that the Age feature is pretty important to survival, so we should probably attempt to fill these gaps. \n",
    "* The Cabin feature is missing approximately 77.1% of its values. Since so much of the feature is missing, it would be hard to fill in the missing values. We'll probably drop these values from our dataset.\n",
    "* The Embarked feature is missing 0.22% of its values, which should be relatively harmless."
   ]
  },
  {
   "cell_type": "code",
<<<<<<< HEAD
   "execution_count": 102,
=======
   "execution_count": 36,
>>>>>>> 637820ec704844114c0182c69fae6f202aa19823
   "metadata": {
    "_cell_guid": "1f65770d-4c54-4605-9fd8-80d99eadbbab",
    "_uuid": "42dddbd08a428f4e3548d36e8619663d561fbf3b"
   },
   "outputs": [
    {
     "name": "stdout",
     "output_type": "stream",
     "text": [
      "PassengerId      0\n",
      "Survived         0\n",
      "Pclass           0\n",
      "Name             0\n",
      "Sex              0\n",
      "Age            177\n",
      "SibSp            0\n",
      "Parch            0\n",
      "Ticket           0\n",
      "Fare             0\n",
      "Cabin          687\n",
      "Embarked         2\n",
      "dtype: int64\n"
     ]
    }
   ],
   "source": [
    "#check for any other unusable values\n",
    "print(pd.isnull(train).sum())"
   ]
  },
  {
   "cell_type": "markdown",
   "metadata": {
    "_cell_guid": "7c83809f-48cd-47f2-836b-c13e34ec9356",
    "_uuid": "62f63111ad2ce761785782995126aa06979296ba"
   },
   "source": [
    "We can see that except for the abovementioned missing values, no NaN values exist."
   ]
  },
  {
   "cell_type": "markdown",
   "metadata": {
    "_cell_guid": "0a23ca84-ed03-4073-9bba-1d5ffd52c925",
    "_uuid": "ac6896faf20480d1d0dd2cdb38324833a6fff650"
   },
   "source": [
    "### Some Predictions:\n",
    "* Sex: Females are more likely to survive.\n",
    "* SibSp/Parch: People traveling alone are more likely to survive.\n",
    "* Age: Young children are more likely to survive.\n",
    "* Pclass: People of higher socioeconomic class are more likely to survive."
   ]
  },
  {
   "cell_type": "markdown",
   "metadata": {
    "_cell_guid": "3de7077c-bac3-4a75-bd33-9438063d8d8e",
    "_uuid": "799a64948fd1b9e1486a14024df46e3b585ca426"
   },
   "source": [
    "## 4) Data Visualization\n",
    "It's time to visualize our data so we can see whether our predictions were accurate! "
   ]
  },
  {
   "cell_type": "markdown",
   "metadata": {
    "_cell_guid": "d8f5581e-66d7-4901-8806-d1c92351f471",
    "_uuid": "96ecfe7a43dabb3d0554eb2553b29619fcb829e8"
   },
   "source": [
    "### Sex Feature"
   ]
  },
  {
   "cell_type": "code",
<<<<<<< HEAD
   "execution_count": 103,
=======
   "execution_count": 37,
>>>>>>> 637820ec704844114c0182c69fae6f202aa19823
   "metadata": {
    "_cell_guid": "6cacebc8-5657-4abc-8f2b-0fec7e52f48c",
    "_uuid": "06f30fcae6e792e7ef9e011d69711ca6fcab3d36"
   },
   "outputs": [
    {
     "name": "stdout",
     "output_type": "stream",
     "text": [
      "Percentage of females who survived: 74.20382165605095\n",
      "Percentage of males who survived: 18.890814558058924\n"
     ]
    },
    {
     "data": {
<<<<<<< HEAD
      "image/png": "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\n",
=======
      "image/png": "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\n",
>>>>>>> 637820ec704844114c0182c69fae6f202aa19823
      "text/plain": [
       "<Figure size 432x288 with 1 Axes>"
      ]
     },
     "metadata": {},
     "output_type": "display_data"
    }
   ],
   "source": [
    "#draw a bar plot of survival by sex\n",
    "sns.barplot(x=\"Sex\", y=\"Survived\", data=train)\n",
    "\n",
    "#print percentages of females vs. males that survive\n",
    "print(\"Percentage of females who survived:\", train[\"Survived\"][train[\"Sex\"] == 'female'].value_counts(normalize = True)[1]*100)\n",
    "\n",
    "print(\"Percentage of males who survived:\", train[\"Survived\"][train[\"Sex\"] == 'male'].value_counts(normalize = True)[1]*100)"
   ]
  },
  {
   "cell_type": "markdown",
   "metadata": {
    "_cell_guid": "e4b6333c-7f43-4f8f-a199-17fcf5806db0",
    "_uuid": "876d73b47f56dd7fa188b8ec69b5d91a4d62c917"
   },
   "source": [
    "As predicted, females have a much higher chance of survival than males. The Sex feature is essential in our predictions."
   ]
  },
  {
   "cell_type": "markdown",
   "metadata": {
    "_cell_guid": "340385a2-a794-41a8-890c-0d5566b22f76",
    "_uuid": "d9e28854048a4a514f0c038d97baa26b0ee40831"
   },
   "source": [
    "### Pclass Feature"
   ]
  },
  {
   "cell_type": "code",
<<<<<<< HEAD
   "execution_count": 104,
=======
   "execution_count": 38,
>>>>>>> 637820ec704844114c0182c69fae6f202aa19823
   "metadata": {
    "_cell_guid": "6c987807-3ff8-4927-b648-e66b669702d8",
    "_uuid": "014f972c4d2fb7fe62902f2c9b177c569ee174b2"
   },
   "outputs": [
    {
     "name": "stdout",
     "output_type": "stream",
     "text": [
      "Percentage of Pclass = 1 who survived: 62.96296296296296\n",
      "Percentage of Pclass = 2 who survived: 47.28260869565217\n",
      "Percentage of Pclass = 3 who survived: 24.236252545824847\n"
     ]
    },
    {
     "data": {
<<<<<<< HEAD
      "image/png": "iVBORw0KGgoAAAANSUhEUgAAAYUAAAEKCAYAAAD9xUlFAAAABHNCSVQICAgIfAhkiAAAAAlwSFlzAAALEgAACxIB0t1+/AAAADl0RVh0U29mdHdhcmUAbWF0cGxvdGxpYiB2ZXJzaW9uIDIuMi4yLCBodHRwOi8vbWF0cGxvdGxpYi5vcmcvhp/UCwAAEu5JREFUeJzt3X2QXXd93/H3R3JUgnGSgrcjjyVhBQSpIC6ebJTOeIYQYlI5mUqZ8hAZp4lnCBpmENAyoJg+qKCUaSsyMAlVMiiFhjABxbEzrcKoVVMwD3GxIxmEQRJKVPGgldggYQx26kZe+9s/9urXy3q190reo7trvV8zd3TP7/7uuZ/VndnPnnPvOSdVhSRJAEtGHUCStHBYCpKkxlKQJDWWgiSpsRQkSY2lIElqLAVJUmMpSJIaS0GS1Fwx6gAX6uqrr67rrrtu1DEkaVG5//77z1TV2KB5i64UrrvuOg4cODDqGJK0qCT5+jDz3H0kSWosBUlSYylIkppOSyHJ+iRHkxxLcvssj78vycHe7S+TPNRlHknS3Dr7oDnJUmAn8ApgAtifZE9VHT43p6r+ed/8NwE3dJVHkjRYl1sK64BjVXW8qs4Cu4GNc8y/BfhYh3kkSQN0WQrXAif6lid6Y0+S5LnAauCTHeaRJA3QZSlklrHzXftzE3BnVT0+64qSzUkOJDlw+vTpeQsoSfp+XR68NgGs7FteAZw6z9xNwBvPt6Kq2gXsAhgfH3/aXlR669atTE5Osnz5cnbs2DHqOJIuQ12Wwn5gTZLVwEmmf/G/duakJC8E/i7wuQ6zLAqTk5OcPHly1DEkXcY6231UVVPAFmAfcAS4o6oOJdmeZEPf1FuA3VX1tN0CkKTFotNzH1XVXmDvjLFtM5bf2WUGSdLwPKJZktRYCpKkxlKQJDWWgiSpsRQkSY2lIElqLAVJUmMpSJIaS0GS1FgKkqTGUpAkNZaCJKmxFCRJjaUgSWosBUlSYylIkppOL7Izaj/x9j8YdYQLctWZh1kKfOPMw4sq+/3v+ZVRR5A0T9xSkCQ1loIkqbEUJEmNpSBJajothSTrkxxNcizJ7eeZ85okh5McSvLRLvNIkubW2bePkiwFdgKvACaA/Un2VNXhvjlrgHcAN1bVd5L8va7ySJIG63JLYR1wrKqOV9VZYDewccac1wM7q+o7AFX1rQ7zSJIG6LIUrgVO9C1P9Mb6vQB4QZJ7ktybZH2HeSRJA3R58FpmGatZXn8N8DJgBfDZJC+uqoe+b0XJZmAzwKpVq+Y/qSQJ6HZLYQJY2be8Ajg1y5z/WlWPVdVXgaNMl8T3qapdVTVeVeNjY2OdBZaky12XpbAfWJNkdZJlwCZgz4w5/wX4GYAkVzO9O+l4h5kkSXPorBSqagrYAuwDjgB3VNWhJNuTbOhN2wd8O8lh4G7g7VX17a4ySZLm1ukJ8apqL7B3xti2vvsFvLV3kySNmEc0S5IaS0GS1FgKkqTGUpAkNZaCJKmxFCRJzdP6Gs2LzRPLrvy+fyXpUrMUFpC/WfNzo44g6TLn7iNJUmMpSJIaS0GS1PiZgjQPtm7dyuTkJMuXL2fHjh2jjiNdNEtBmgeTk5OcPHly1DGkp8zdR5KkxlKQJDWWgiSpsRQkSY2lIElqLAVJUmMpSJIaS0GS1HRaCknWJzma5FiS22d5/LYkp5Mc7N1+rcs8kqS5dXZEc5KlwE7gFcAEsD/Jnqo6PGPqH1XVlq5ySJKG1+WWwjrgWFUdr6qzwG5gY4evJ0l6iroshWuBE33LE72xmV6Z5IEkdyZZ2WEeSdIAXZZCZhmrGct/ClxXVdcD/xP48KwrSjYnOZDkwOnTp+c5piTpnC5LYQLo/8t/BXCqf0JVfbuq/ra3+HvAT8y2oqraVVXjVTU+NjbWSVhJUrelsB9Yk2R1kmXAJmBP/4Qk1/QtbgCOdJhHkjRAZ98+qqqpJFuAfcBS4ENVdSjJduBAVe0B3pxkAzAFPAjc1lUeSdJgnV5kp6r2AntnjG3ru/8O4B1dZpAkDc8jmiVJjaUgSWosBUlS0+lnCtJT8Y3tPz7qCEObevDZwBVMPfj1RZV71bYvjTqCFhi3FCRJjaUgSWosBUlSYylIkhpLQZLUWAqSpMZSkCQ1loIkqbEUJEmNpSBJaiwFSVJjKUiSmjlPiJfkYaDO93hV/dC8J5IkjcycpVBVVwH0LqE5CXwECHArcFXn6SRJl9Swu4/+UVX9TlU9XFXfq6rfBV7ZZTBJ0qU3bCk8nuTWJEuTLElyK/B4l8EkSZfesKXwWuA1wF/3bq/ujUmSnkaGKoWq+lpVbayqq6tqrKp+saq+Nuh5SdYnOZrkWJLb55j3qiSVZPwCskuS5tlQpZDkBUk+keTLveXrk/yrAc9ZCuwEbgbWArckWTvLvKuANwP3XWh4SdL8Gnb30e8B7wAeA6iqB4BNA56zDjhWVcer6iywG9g4y7zfAHYA/3fILJKkjgxbCs+sqr+YMTY14DnXAif6lid6Y02SG4CVVfXxIXNIkjo053EKfc4keR69A9mSvAr45oDnZJaxdiBckiXA+4DbBr14ks3AZoBVq1YNl1i6hK5+xhPAVO9fafEathTeCOwCfizJSeCrTB/ANpcJYGXf8grgVN/yVcCLgU8lAVgO7EmyoaoO9K+oqnb1Xp/x8fHzHmEtjcrbrn9o1BGkeTFsKXy9qm5KciWwpKoeHuI5+4E1SVYDJ5n+DKJ9jbWqvgtcfW45yaeAt80sBEnSpTPsZwpfTbIL+IfAI8M8oaqmgC3APuAIcEdVHUqyPcmGi0orSerUsFsKLwT+MdO7kT6Y5OPA7qr687meVFV7gb0zxradZ+7LhswiSerIsAevPVpVd1TVPwFuAH4I+HSnySRJl9zQ11NI8tNJfgf4PPAMpk97IUl6Ghlq91GSrwIHgTuAt1fV33SaSpI0EsN+pvAPqup7nSaRJI3coCuvba2qHcC7kzzp+ICqenNnySRJl9ygLYUjvX89dkCSLgODLsf5p727D1TVFy5BHknSCA377aP3JvlKkt9I8qJOE0mSRmbY4xR+BngZcBrYleRLg66nIElafIY+TqGqJqvqt4E3MP311FmPTJYkLV7DXnnt7yd5Z+/Ka/8R+F9Mn/VUkvQ0MuxxCv8Z+Bjwc1V1atBkSdLiNLAUetda/t9V9VuXII8kaYQG7j6qqseB5yRZdgnySJJGaOiL7AD3JNkDtPMeVdV7O0klSRqJYUvhVO+2hOnLaEqSnoaGKoWqelfXQSRJozfsqbPvBmY7Id7L5z2RJGlkht199La++88AXglMzX8cSdIoDbv76P4ZQ/ck8XKckvQ0M+zuo2f3LS4BxoHlnSSSJI3MsLuP7uf/f6YwBXwNeN2gJyVZD/wWsBT4T1X172c8/gbgjcDjwCPA5qo6PGQmSdI8m/PgtSQ/mWR5Va2uqh8F3gV8pXeb85d370joncDNwFrgliRrZ0z7aFX9eFW9BNgBeNyDJI3QoCOaPwCcBUjyUuDfAR8GvgvsGvDcdcCxqjpeVWeB3cDG/gkzrvt8JbN8w0mSdOkM2n20tKoe7N3/JWBXVd0F3JXk4IDnXguc6FueAH5q5qQkbwTeCiwDZv2Ka5LNwGaAVatWDXhZSdLFGrSlsDTJueL4WeCTfY8NKpTMMjbbsQ47q+p5wK8Ds164p6p2VdV4VY2PjY0NeFlJ0sUa9Iv9Y8Cnk5wBHgU+C5Dk+UzvQprLBLCyb3kF06fKOJ/dwO8OWKckqUNzlkJVvTvJJ4BrgP9RVef+0l8CvGnAuvcDa5KsBk4Cm4DX9k9Isqaq/qq3+AvAXyFJGpmBX0mtqntnGfvLIZ43lWQLsI/pr6R+qKoOJdkOHKiqPcCWJDcBjwHfAX71Qn8ASdL8GfY4hYtSVXuBvTPGtvXdf0uXry9JujCdloIkLQZbt25lcnKS5cuXs2PHjlHHGSlLQdJlb3JykpMnT446xoIw8HKckqTLh6UgSWosBUlSYylIkhpLQZLUWAqSpMZSkCQ1loIkqbEUJEmNpSBJajzNhaR5d+P7bxx1hAuy7KFlLGEJJx46saiy3/Ome+Z9nW4pSJIaS0GS1FgKkqTGUpAkNZaCJKmxFCRJjaUgSWo6LYUk65McTXIsye2zPP7WJIeTPJDkE0me22UeSdLcOiuFJEuBncDNwFrgliRrZ0z7AjBeVdcDdwKX9xWzJWnEutxSWAccq6rjVXUW2A1s7J9QVXdX1f/pLd4LrOgwjyRpgC5L4VrgRN/yRG/sfF4H/LcO80jSrOqZxRNXPkE9s0YdZeS6PPdRZhmb9X88yS8D48BPn+fxzcBmgFWrVs1XPkkC4LEbHxt1hAWjyy2FCWBl3/IK4NTMSUluAv4lsKGq/na2FVXVrqoar6rxsbGxTsJKkrothf3AmiSrkywDNgF7+ickuQH4ANOF8K0Os0iShtBZKVTVFLAF2AccAe6oqkNJtifZ0Jv2HuBZwB8nOZhkz3lWJ0m6BDq9nkJV7QX2zhjb1nf/pi5fX5J0YTyiWZLUWAqSpMZSkCQ1loIkqbEUJEmNpSBJaiwFSVJjKUiSGktBktRYCpKkxlKQJDWWgiSpsRQkSY2lIElqLAVJUmMpSJIaS0GS1FgKkqTGUpAkNZaCJKmxFCRJTaelkGR9kqNJjiW5fZbHX5rk80mmkryqyyySpME6K4UkS4GdwM3AWuCWJGtnTPsGcBvw0a5ySJKGd0WH614HHKuq4wBJdgMbgcPnJlTV13qPPdFhDknSkLrcfXQtcKJveaI3JklaoLoshcwyVhe1omRzkgNJDpw+ffopxpIknU+XpTABrOxbXgGcupgVVdWuqhqvqvGxsbF5CSdJerIuS2E/sCbJ6iTLgE3Ang5fT5L0FHVWClU1BWwB9gFHgDuq6lCS7Uk2ACT5ySQTwKuBDyQ51FUeSdJgXX77iKraC+ydMbat7/5+pncrSZIWAI9oliQ1loIkqbEUJEmNpSBJaiwFSVJjKUiSGktBktRYCpKkxlKQJDWWgiSpsRQkSY2lIElqLAVJUmMpSJIaS0GS1FgKkqTGUpAkNZaCJKmxFCRJjaUgSWosBUlS02kpJFmf5GiSY0lun+Xxv5Pkj3qP35fkui7zSJLm1lkpJFkK7ARuBtYCtyRZO2Pa64DvVNXzgfcB/6GrPJKkwbrcUlgHHKuq41V1FtgNbJwxZyPw4d79O4GfTZIOM0mS5tBlKVwLnOhbnuiNzTqnqqaA7wLP6TCTJGkOV3S47tn+4q+LmEOSzcDm3uIjSY4+xWwL2dXAmVGHuBD5zV8ddYSFYtG9d/wbN8z7LLr3L2++oPfvucNM6rIUJoCVfcsrgFPnmTOR5Argh4EHZ66oqnYBuzrKuaAkOVBV46POoQvne7e4+f5N63L30X5gTZLVSZYBm4A9M+bsAc79mfkq4JNV9aQtBUnSpdHZlkJVTSXZAuwDlgIfqqpDSbYDB6pqD/BB4CNJjjG9hbCpqzySpMHiH+YLS5LNvd1lWmR87xY3379ploIkqfE0F5KkxlJYIJJ8KMm3knx51Fl0YZKsTHJ3kiNJDiV5y6gzaXhJnpHkL5J8sff+vWvUmUbJ3UcLRJKXAo8Af1BVLx51Hg0vyTXANVX1+SRXAfcDv1hVh0ccTUPonUXhyqp6JMkPAH8OvKWq7h1xtJFwS2GBqKrPMMsxGlr4quqbVfX53v2HgSM8+eh9LVA17ZHe4g/0bpftX8uWgjSPemf6vQG4b7RJdCGSLE1yEPgW8GdVddm+f5aCNE+SPAu4C/hnVfW9UefR8Krq8ap6CdNnXliX5LLdhWspSPOgty/6LuAPq+pPRp1HF6eqHgI+BawfcZSRsRSkp6j3QeUHgSNV9d5R59GFSTKW5Ed6938QuAn4ymhTjY6lsEAk+RjwOeCFSSaSvG7UmTS0G4F/Crw8ycHe7edHHUpDuwa4O8kDTJ+z7c+q6uMjzjQyfiVVktS4pSBJaiwFSVJjKUiSGktBktRYCpKkxlKQZkjyeO9rpV9O8sdJnjnH3HcmedulzCd1yVKQnuzRqnpJ72y1Z4E3jDqQdKlYCtLcPgs8HyDJryR5oHfe/Y/MnJjk9Un29x6/69wWRpJX97Y6vpjkM72xF/XO4X+wt841l/Snks7Dg9ekGZI8UlXPSnIF0+cz+u/AZ4A/AW6sqjNJnl1VDyZ5J/BIVf1mkudU1bd76/i3wF9X1fuTfAlYX1Unk/xIVT2U5P3AvVX1h0mWAUur6tGR/MBSH7cUpCf7wd5plA8A32D6vEYvB+6sqjMAVTXbtS9enOSzvRK4FXhRb/we4PeTvB5Y2hv7HPAvkvw68FwLQQvFFaMOIC1Aj/ZOo9z0Tno3aLP695m+4toXk9wGvAygqt6Q5KeAXwAOJnlJVX00yX29sX1Jfq2qPjnPP4d0wdxSkIbzCeA1SZ4DkOTZs8y5Cvhm7zTat54bTPK8qrqvqrYBZ4CVSX4UOF5Vvw3sAa7v/CeQhuCWgjSEqjqU5N3Ap5M8DnwBuG3GtH/N9BXXvg58iemSAHhP74PkMF0uXwRuB345yWPAJLC98x9CGoIfNEuSGncfSZIaS0GS1FgKkqTGUpAkNZaCJKmxFCRJjaUgSWosBUlS8/8ArT0xZJ2JwXIAAAAASUVORK5CYII=\n",
=======
      "image/png": "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\n",
>>>>>>> 637820ec704844114c0182c69fae6f202aa19823
      "text/plain": [
       "<Figure size 432x288 with 1 Axes>"
      ]
     },
     "metadata": {},
     "output_type": "display_data"
    }
   ],
   "source": [
    "#draw a bar plot of survival by Pclass\n",
    "sns.barplot(x=\"Pclass\", y=\"Survived\", data=train)\n",
    "\n",
    "#print percentage of people by Pclass that survived\n",
    "print(\"Percentage of Pclass = 1 who survived:\", train[\"Survived\"][train[\"Pclass\"] == 1].value_counts(normalize = True)[1]*100)\n",
    "\n",
    "print(\"Percentage of Pclass = 2 who survived:\", train[\"Survived\"][train[\"Pclass\"] == 2].value_counts(normalize = True)[1]*100)\n",
    "\n",
    "print(\"Percentage of Pclass = 3 who survived:\", train[\"Survived\"][train[\"Pclass\"] == 3].value_counts(normalize = True)[1]*100)"
   ]
  },
  {
   "cell_type": "markdown",
   "metadata": {
    "_cell_guid": "4515e73e-d53c-42e0-ad77-939e32ab7d07",
    "_uuid": "90f8c5ed32a5db00a93d741b374a1b06bda16948"
   },
   "source": [
    "As predicted, people with higher socioeconomic class had a higher rate of survival. (62.9% vs. 47.3% vs. 24.2%)"
   ]
  },
  {
   "cell_type": "markdown",
   "metadata": {
    "_cell_guid": "3d42f81e-50b2-4883-820e-74413d9f94de",
    "_uuid": "7ddbc256344324a13f35ef15b056b0edca259f3d"
   },
   "source": [
    "### SibSp Feature"
   ]
  },
  {
   "cell_type": "code",
<<<<<<< HEAD
   "execution_count": 105,
=======
   "execution_count": 39,
>>>>>>> 637820ec704844114c0182c69fae6f202aa19823
   "metadata": {
    "_cell_guid": "940ac591-bdfd-493c-8d47-e4045dcf786f",
    "_uuid": "a1c71cc0bb9faccbdd6d9dc5d127bcaadbf4303d"
   },
   "outputs": [
    {
     "name": "stdout",
     "output_type": "stream",
     "text": [
      "Percentage of SibSp = 0 who survived: 34.53947368421053\n",
      "Percentage of SibSp = 1 who survived: 53.588516746411486\n",
      "Percentage of SibSp = 2 who survived: 46.42857142857143\n"
     ]
    },
    {
     "data": {
<<<<<<< HEAD
      "image/png": "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\n",
=======
      "image/png": "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\n",
>>>>>>> 637820ec704844114c0182c69fae6f202aa19823
      "text/plain": [
       "<Figure size 432x288 with 1 Axes>"
      ]
     },
     "metadata": {},
     "output_type": "display_data"
    }
   ],
   "source": [
    "#draw a bar plot for SibSp vs. survival\n",
    "sns.barplot(x=\"SibSp\", y=\"Survived\", data=train)\n",
    "\n",
    "#I won't be printing individual percent values for all of these.\n",
    "print(\"Percentage of SibSp = 0 who survived:\", train[\"Survived\"][train[\"SibSp\"] == 0].value_counts(normalize = True)[1]*100)\n",
    "\n",
    "print(\"Percentage of SibSp = 1 who survived:\", train[\"Survived\"][train[\"SibSp\"] == 1].value_counts(normalize = True)[1]*100)\n",
    "\n",
    "print(\"Percentage of SibSp = 2 who survived:\", train[\"Survived\"][train[\"SibSp\"] == 2].value_counts(normalize = True)[1]*100)"
   ]
  },
  {
   "cell_type": "markdown",
   "metadata": {
    "_cell_guid": "906c43f7-eec5-4e5a-86df-d2abcdf04928",
    "_uuid": "c58f6e8b1e4b61d608de0d62cc6ba6ecb5f56410"
   },
   "source": [
    "In general, it's clear that people with more siblings or spouses aboard were less likely to survive. However, contrary to expectations, people with no siblings or spouses were less to likely to survive than those with one or two. (34.5% vs 53.4% vs. 46.4%)"
   ]
  },
  {
   "cell_type": "markdown",
   "metadata": {
    "_cell_guid": "48c30691-e298-4f75-b0ef-8f0ba91467f5",
    "_uuid": "4e0d401776cd132f02923852ec1183efa473349c"
   },
   "source": [
    "### Parch Feature"
   ]
  },
  {
   "cell_type": "code",
<<<<<<< HEAD
   "execution_count": 106,
=======
   "execution_count": 40,
>>>>>>> 637820ec704844114c0182c69fae6f202aa19823
   "metadata": {
    "_cell_guid": "50b8538b-d1bc-4541-b9a8-97d30fb05683",
    "_uuid": "0f1d270b132bac2faaa2ce399f5508fc94978d78"
   },
   "outputs": [
    {
     "data": {
<<<<<<< HEAD
      "image/png": "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\n",
=======
      "image/png": "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\n",
>>>>>>> 637820ec704844114c0182c69fae6f202aa19823
      "text/plain": [
       "<Figure size 432x288 with 1 Axes>"
      ]
     },
     "metadata": {},
     "output_type": "display_data"
    }
   ],
   "source": [
    "#draw a bar plot for Parch vs. survival\n",
    "sns.barplot(x=\"Parch\", y=\"Survived\", data=train)\n",
    "plt.show()"
   ]
  },
  {
   "cell_type": "markdown",
   "metadata": {
    "_cell_guid": "0b99a619-4f0f-423b-a124-55623e7bd6b6",
    "_uuid": "90f2b86d4ec449ab86fb66c6acfccc37d357cb80"
   },
   "source": [
    "People with less than four parents or children aboard are more likely to survive than those with four or more. Again, people traveling alone are less likely to survive than those with 1-3 parents or children."
   ]
  },
  {
   "cell_type": "markdown",
   "metadata": {
    "_cell_guid": "9635fa44-a884-48a4-8eae-1a38a41d1c58",
    "_uuid": "3865ab5f13074f09d9604d80761ee2c08cb1d6d9"
   },
   "source": [
    "### Age Feature"
   ]
  },
  {
   "cell_type": "code",
<<<<<<< HEAD
   "execution_count": 107,
=======
   "execution_count": 41,
>>>>>>> 637820ec704844114c0182c69fae6f202aa19823
   "metadata": {
    "_cell_guid": "9188caf6-10c5-4003-bcf1-66b54d662c09",
    "_uuid": "0467092de1cc5ffb94921516e76e0d675c772716"
   },
   "outputs": [
    {
     "data": {
<<<<<<< HEAD
      "image/png": "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\n",
=======
      "image/png": "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\n",
>>>>>>> 637820ec704844114c0182c69fae6f202aa19823
      "text/plain": [
       "<Figure size 432x288 with 1 Axes>"
      ]
     },
     "metadata": {},
     "output_type": "display_data"
    }
   ],
   "source": [
    "#sort the ages into logical categories\n",
    "train[\"Age\"] = train[\"Age\"].fillna(-0.5)\n",
    "test[\"Age\"] = test[\"Age\"].fillna(-0.5)\n",
    "bins = [-1, 0, 5, 12, 18, 24, 35, 60, np.inf]\n",
    "labels = ['Unknown', 'Baby', 'Child', 'Teenager', 'Student', 'Young Adult', 'Adult', 'Senior']\n",
    "train['AgeGroup'] = pd.cut(train[\"Age\"], bins, labels = labels)\n",
    "test['AgeGroup'] = pd.cut(test[\"Age\"], bins, labels = labels)\n",
    "\n",
    "#draw a bar plot of Age vs. survival\n",
    "sns.barplot(x=\"AgeGroup\", y=\"Survived\", data=train)\n",
    "plt.show()"
   ]
  },
  {
   "cell_type": "markdown",
   "metadata": {
    "_cell_guid": "1a439d36-4116-4b93-98da-e2befe265fd8",
    "_uuid": "780d41388683c3ed63ee4a447bf78a3e1750ea40"
   },
   "source": [
    "Babies are more likely to survive than any other age group. "
   ]
  },
  {
   "cell_type": "markdown",
   "metadata": {
    "_cell_guid": "c6e8ecf8-796e-4f30-ac88-62b21c71d2d7",
    "_uuid": "b7adbf12f57fa29860e36c827a968d9ed6eda949"
   },
   "source": [
    "### Cabin Feature\n",
    "I think the idea here is that people with recorded cabin numbers are of higher socioeconomic class, and thus more likely to survive. Thanks for the tips, [@salvus82](https://www.kaggle.com/salvus82) and [Daniel Ellis](https://www.kaggle.com/dellis83)!"
   ]
  },
  {
   "cell_type": "code",
<<<<<<< HEAD
   "execution_count": 108,
=======
   "execution_count": 42,
>>>>>>> 637820ec704844114c0182c69fae6f202aa19823
   "metadata": {
    "_cell_guid": "8732f634-3605-4dce-bd76-8c4758c7dacf",
    "_uuid": "1e2ca5a5f1f10c0f1d7c2f34a9fc92b577631556"
   },
   "outputs": [
    {
     "name": "stdout",
     "output_type": "stream",
     "text": [
      "Percentage of CabinBool = 1 who survived: 66.66666666666666\n",
      "Percentage of CabinBool = 0 who survived: 29.985443959243085\n"
     ]
    },
    {
     "data": {
<<<<<<< HEAD
      "image/png": "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\n",
=======
      "image/png": "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\n",
>>>>>>> 637820ec704844114c0182c69fae6f202aa19823
      "text/plain": [
       "<Figure size 432x288 with 1 Axes>"
      ]
     },
     "metadata": {},
     "output_type": "display_data"
    }
   ],
   "source": [
    "train[\"CabinBool\"] = (train[\"Cabin\"].notnull().astype('int'))\n",
    "test[\"CabinBool\"] = (test[\"Cabin\"].notnull().astype('int'))\n",
    "\n",
    "#calculate percentages of CabinBool vs. survived\n",
    "print(\"Percentage of CabinBool = 1 who survived:\", train[\"Survived\"][train[\"CabinBool\"] == 1].value_counts(normalize = True)[1]*100)\n",
    "\n",
    "print(\"Percentage of CabinBool = 0 who survived:\", train[\"Survived\"][train[\"CabinBool\"] == 0].value_counts(normalize = True)[1]*100)\n",
    "#draw a bar plot of CabinBool vs. survival\n",
    "sns.barplot(x=\"CabinBool\", y=\"Survived\", data=train)\n",
    "plt.show()"
   ]
  },
  {
   "cell_type": "markdown",
   "metadata": {
    "_cell_guid": "c6651960-d7f3-4f28-9759-71676c2cf93e",
    "_uuid": "7f6572c8c51c25de73665d80875267add963c2b3"
   },
   "source": [
    "People with a recorded Cabin number are, in fact, more likely to survive. (66.6% vs 29.9%)"
   ]
  },
  {
   "cell_type": "markdown",
   "metadata": {
    "_cell_guid": "1b8a795d-e4dc-4f7c-a001-26b9bcd86d67",
    "_uuid": "8a11100acd44f07a3e77b973f60cd3a8a17700f8"
   },
   "source": [
    "## 5) Cleaning Data\n",
    "Time to clean our data to account for missing values and unnecessary information!"
   ]
  },
  {
   "cell_type": "markdown",
   "metadata": {
    "_cell_guid": "1f281521-8a27-4da9-b679-f61e233b3099",
    "_uuid": "21ccaa6a70b4833c46b2eef8f98178cdc957c26e"
   },
   "source": [
    "### Looking at the Test Data\n",
    "Let's see how our test data looks!"
   ]
  },
  {
   "cell_type": "code",
<<<<<<< HEAD
   "execution_count": 109,
=======
   "execution_count": 43,
>>>>>>> 637820ec704844114c0182c69fae6f202aa19823
   "metadata": {
    "_cell_guid": "51bd144d-bc3d-4b2e-b3a4-3def3ef5a614",
    "_uuid": "ed0b5356807dae805e8f0c76c71a01c86a396ccb"
   },
   "outputs": [
    {
     "data": {
      "text/html": [
       "<div>\n",
       "<style scoped>\n",
       "    .dataframe tbody tr th:only-of-type {\n",
       "        vertical-align: middle;\n",
       "    }\n",
       "\n",
       "    .dataframe tbody tr th {\n",
       "        vertical-align: top;\n",
       "    }\n",
       "\n",
       "    .dataframe thead th {\n",
       "        text-align: right;\n",
       "    }\n",
       "</style>\n",
       "<table border=\"1\" class=\"dataframe\">\n",
       "  <thead>\n",
       "    <tr style=\"text-align: right;\">\n",
       "      <th></th>\n",
       "      <th>PassengerId</th>\n",
       "      <th>Pclass</th>\n",
       "      <th>Name</th>\n",
       "      <th>Sex</th>\n",
       "      <th>Age</th>\n",
       "      <th>SibSp</th>\n",
       "      <th>Parch</th>\n",
       "      <th>Ticket</th>\n",
       "      <th>Fare</th>\n",
       "      <th>Cabin</th>\n",
       "      <th>Embarked</th>\n",
       "      <th>AgeGroup</th>\n",
       "      <th>CabinBool</th>\n",
       "    </tr>\n",
       "  </thead>\n",
       "  <tbody>\n",
       "    <tr>\n",
       "      <th>count</th>\n",
       "      <td>418.000000</td>\n",
       "      <td>418.000000</td>\n",
       "      <td>418</td>\n",
       "      <td>418</td>\n",
       "      <td>418.000000</td>\n",
       "      <td>418.000000</td>\n",
       "      <td>418.000000</td>\n",
       "      <td>418</td>\n",
       "      <td>417.000000</td>\n",
       "      <td>91</td>\n",
       "      <td>418</td>\n",
       "      <td>418</td>\n",
       "      <td>418.000000</td>\n",
       "    </tr>\n",
       "    <tr>\n",
       "      <th>unique</th>\n",
       "      <td>NaN</td>\n",
       "      <td>NaN</td>\n",
       "      <td>418</td>\n",
       "      <td>2</td>\n",
       "      <td>NaN</td>\n",
       "      <td>NaN</td>\n",
       "      <td>NaN</td>\n",
       "      <td>363</td>\n",
       "      <td>NaN</td>\n",
       "      <td>76</td>\n",
       "      <td>3</td>\n",
       "      <td>8</td>\n",
       "      <td>NaN</td>\n",
       "    </tr>\n",
       "    <tr>\n",
       "      <th>top</th>\n",
       "      <td>NaN</td>\n",
       "      <td>NaN</td>\n",
<<<<<<< HEAD
       "      <td>Lundin, Miss. Olga Elida</td>\n",
=======
       "      <td>Coutts, Mrs. William (Winnie Minnie\" Treanor)\"</td>\n",
>>>>>>> 637820ec704844114c0182c69fae6f202aa19823
       "      <td>male</td>\n",
       "      <td>NaN</td>\n",
       "      <td>NaN</td>\n",
       "      <td>NaN</td>\n",
       "      <td>PC 17608</td>\n",
       "      <td>NaN</td>\n",
       "      <td>B57 B59 B63 B66</td>\n",
       "      <td>S</td>\n",
       "      <td>Young Adult</td>\n",
       "      <td>NaN</td>\n",
       "    </tr>\n",
       "    <tr>\n",
       "      <th>freq</th>\n",
       "      <td>NaN</td>\n",
       "      <td>NaN</td>\n",
       "      <td>1</td>\n",
       "      <td>266</td>\n",
       "      <td>NaN</td>\n",
       "      <td>NaN</td>\n",
       "      <td>NaN</td>\n",
       "      <td>5</td>\n",
       "      <td>NaN</td>\n",
       "      <td>3</td>\n",
       "      <td>270</td>\n",
       "      <td>96</td>\n",
       "      <td>NaN</td>\n",
       "    </tr>\n",
       "    <tr>\n",
       "      <th>mean</th>\n",
       "      <td>1100.500000</td>\n",
       "      <td>2.265550</td>\n",
       "      <td>NaN</td>\n",
       "      <td>NaN</td>\n",
       "      <td>23.941388</td>\n",
       "      <td>0.447368</td>\n",
       "      <td>0.392344</td>\n",
       "      <td>NaN</td>\n",
       "      <td>35.627188</td>\n",
       "      <td>NaN</td>\n",
       "      <td>NaN</td>\n",
       "      <td>NaN</td>\n",
       "      <td>0.217703</td>\n",
       "    </tr>\n",
       "    <tr>\n",
       "      <th>std</th>\n",
       "      <td>120.810458</td>\n",
       "      <td>0.841838</td>\n",
       "      <td>NaN</td>\n",
       "      <td>NaN</td>\n",
       "      <td>17.741080</td>\n",
       "      <td>0.896760</td>\n",
       "      <td>0.981429</td>\n",
       "      <td>NaN</td>\n",
       "      <td>55.907576</td>\n",
       "      <td>NaN</td>\n",
       "      <td>NaN</td>\n",
       "      <td>NaN</td>\n",
       "      <td>0.413179</td>\n",
       "    </tr>\n",
       "    <tr>\n",
       "      <th>min</th>\n",
       "      <td>892.000000</td>\n",
       "      <td>1.000000</td>\n",
       "      <td>NaN</td>\n",
       "      <td>NaN</td>\n",
       "      <td>-0.500000</td>\n",
       "      <td>0.000000</td>\n",
       "      <td>0.000000</td>\n",
       "      <td>NaN</td>\n",
       "      <td>0.000000</td>\n",
       "      <td>NaN</td>\n",
       "      <td>NaN</td>\n",
       "      <td>NaN</td>\n",
       "      <td>0.000000</td>\n",
       "    </tr>\n",
       "    <tr>\n",
       "      <th>25%</th>\n",
       "      <td>996.250000</td>\n",
       "      <td>1.000000</td>\n",
       "      <td>NaN</td>\n",
       "      <td>NaN</td>\n",
       "      <td>9.000000</td>\n",
       "      <td>0.000000</td>\n",
       "      <td>0.000000</td>\n",
       "      <td>NaN</td>\n",
       "      <td>7.895800</td>\n",
       "      <td>NaN</td>\n",
       "      <td>NaN</td>\n",
       "      <td>NaN</td>\n",
       "      <td>0.000000</td>\n",
       "    </tr>\n",
       "    <tr>\n",
       "      <th>50%</th>\n",
       "      <td>1100.500000</td>\n",
       "      <td>3.000000</td>\n",
       "      <td>NaN</td>\n",
       "      <td>NaN</td>\n",
       "      <td>24.000000</td>\n",
       "      <td>0.000000</td>\n",
       "      <td>0.000000</td>\n",
       "      <td>NaN</td>\n",
       "      <td>14.454200</td>\n",
       "      <td>NaN</td>\n",
       "      <td>NaN</td>\n",
       "      <td>NaN</td>\n",
       "      <td>0.000000</td>\n",
       "    </tr>\n",
       "    <tr>\n",
       "      <th>75%</th>\n",
       "      <td>1204.750000</td>\n",
       "      <td>3.000000</td>\n",
       "      <td>NaN</td>\n",
       "      <td>NaN</td>\n",
       "      <td>35.750000</td>\n",
       "      <td>1.000000</td>\n",
       "      <td>0.000000</td>\n",
       "      <td>NaN</td>\n",
       "      <td>31.500000</td>\n",
       "      <td>NaN</td>\n",
       "      <td>NaN</td>\n",
       "      <td>NaN</td>\n",
       "      <td>0.000000</td>\n",
       "    </tr>\n",
       "    <tr>\n",
       "      <th>max</th>\n",
       "      <td>1309.000000</td>\n",
       "      <td>3.000000</td>\n",
       "      <td>NaN</td>\n",
       "      <td>NaN</td>\n",
       "      <td>76.000000</td>\n",
       "      <td>8.000000</td>\n",
       "      <td>9.000000</td>\n",
       "      <td>NaN</td>\n",
       "      <td>512.329200</td>\n",
       "      <td>NaN</td>\n",
       "      <td>NaN</td>\n",
       "      <td>NaN</td>\n",
       "      <td>1.000000</td>\n",
       "    </tr>\n",
       "  </tbody>\n",
       "</table>\n",
       "</div>"
      ],
      "text/plain": [
<<<<<<< HEAD
       "        PassengerId      Pclass                      Name   Sex         Age  \\\n",
       "count    418.000000  418.000000                       418   418  418.000000   \n",
       "unique          NaN         NaN                       418     2         NaN   \n",
       "top             NaN         NaN  Lundin, Miss. Olga Elida  male         NaN   \n",
       "freq            NaN         NaN                         1   266         NaN   \n",
       "mean    1100.500000    2.265550                       NaN   NaN   23.941388   \n",
       "std      120.810458    0.841838                       NaN   NaN   17.741080   \n",
       "min      892.000000    1.000000                       NaN   NaN   -0.500000   \n",
       "25%      996.250000    1.000000                       NaN   NaN    9.000000   \n",
       "50%     1100.500000    3.000000                       NaN   NaN   24.000000   \n",
       "75%     1204.750000    3.000000                       NaN   NaN   35.750000   \n",
       "max     1309.000000    3.000000                       NaN   NaN   76.000000   \n",
=======
       "        PassengerId      Pclass  \\\n",
       "count    418.000000  418.000000   \n",
       "unique          NaN         NaN   \n",
       "top             NaN         NaN   \n",
       "freq            NaN         NaN   \n",
       "mean    1100.500000    2.265550   \n",
       "std      120.810458    0.841838   \n",
       "min      892.000000    1.000000   \n",
       "25%      996.250000    1.000000   \n",
       "50%     1100.500000    3.000000   \n",
       "75%     1204.750000    3.000000   \n",
       "max     1309.000000    3.000000   \n",
       "\n",
       "                                                  Name   Sex         Age  \\\n",
       "count                                              418   418  418.000000   \n",
       "unique                                             418     2         NaN   \n",
       "top     Coutts, Mrs. William (Winnie Minnie\" Treanor)\"  male         NaN   \n",
       "freq                                                 1   266         NaN   \n",
       "mean                                               NaN   NaN   23.941388   \n",
       "std                                                NaN   NaN   17.741080   \n",
       "min                                                NaN   NaN   -0.500000   \n",
       "25%                                                NaN   NaN    9.000000   \n",
       "50%                                                NaN   NaN   24.000000   \n",
       "75%                                                NaN   NaN   35.750000   \n",
       "max                                                NaN   NaN   76.000000   \n",
>>>>>>> 637820ec704844114c0182c69fae6f202aa19823
       "\n",
       "             SibSp       Parch    Ticket        Fare            Cabin  \\\n",
       "count   418.000000  418.000000       418  417.000000               91   \n",
       "unique         NaN         NaN       363         NaN               76   \n",
       "top            NaN         NaN  PC 17608         NaN  B57 B59 B63 B66   \n",
       "freq           NaN         NaN         5         NaN                3   \n",
       "mean      0.447368    0.392344       NaN   35.627188              NaN   \n",
       "std       0.896760    0.981429       NaN   55.907576              NaN   \n",
       "min       0.000000    0.000000       NaN    0.000000              NaN   \n",
       "25%       0.000000    0.000000       NaN    7.895800              NaN   \n",
       "50%       0.000000    0.000000       NaN   14.454200              NaN   \n",
       "75%       1.000000    0.000000       NaN   31.500000              NaN   \n",
       "max       8.000000    9.000000       NaN  512.329200              NaN   \n",
       "\n",
       "       Embarked     AgeGroup   CabinBool  \n",
       "count       418          418  418.000000  \n",
       "unique        3            8         NaN  \n",
       "top           S  Young Adult         NaN  \n",
       "freq        270           96         NaN  \n",
       "mean        NaN          NaN    0.217703  \n",
       "std         NaN          NaN    0.413179  \n",
       "min         NaN          NaN    0.000000  \n",
       "25%         NaN          NaN    0.000000  \n",
       "50%         NaN          NaN    0.000000  \n",
       "75%         NaN          NaN    0.000000  \n",
       "max         NaN          NaN    1.000000  "
      ]
     },
<<<<<<< HEAD
     "execution_count": 109,
=======
     "execution_count": 43,
>>>>>>> 637820ec704844114c0182c69fae6f202aa19823
     "metadata": {},
     "output_type": "execute_result"
    }
   ],
   "source": [
    "test.describe(include=\"all\")"
   ]
  },
  {
   "cell_type": "markdown",
   "metadata": {
    "_cell_guid": "10ac0007-e513-4e06-9680-b9548cb64304",
    "_uuid": "dbb4cfac71a016808d91f29ec4293ba94adea9f9"
   },
   "source": [
    "* We have a total of 418 passengers.\n",
    "* 1 value from the Fare feature is missing.\n",
    "* Around 20.5% of the Age feature is missing, we will need to fill that in."
   ]
  },
  {
   "cell_type": "markdown",
   "metadata": {
    "_cell_guid": "f065c0da-40f8-471e-9c88-7dda65d1933a",
    "_uuid": "d3d78c9beee8a8294f2ecf07fd07f07dce64e0e9"
   },
   "source": [
    "### Cabin Feature"
   ]
  },
  {
   "cell_type": "code",
<<<<<<< HEAD
   "execution_count": 110,
=======
   "execution_count": 44,
>>>>>>> 637820ec704844114c0182c69fae6f202aa19823
   "metadata": {
    "_cell_guid": "8f7829e9-fda0-424f-aec7-8e343464f5c7",
    "_uuid": "f7f0b46448c021bf75a401a9f8caeb145418debf"
   },
   "outputs": [],
   "source": [
    "#we'll start off by dropping the Cabin feature since not a lot more useful information can be extracted from it.\n",
    "train = train.drop(['Cabin'], axis = 1)\n",
    "test = test.drop(['Cabin'], axis = 1)"
   ]
  },
  {
   "cell_type": "markdown",
   "metadata": {
    "_cell_guid": "b4b91207-5ff3-48b0-b2c7-64d55310706d",
    "_uuid": "9576e0765919822abc737bce7f09eb9c022474c7"
   },
   "source": [
    "### Ticket Feature"
   ]
  },
  {
   "cell_type": "code",
<<<<<<< HEAD
   "execution_count": 111,
=======
   "execution_count": 45,
>>>>>>> 637820ec704844114c0182c69fae6f202aa19823
   "metadata": {
    "_cell_guid": "5237ae32-df22-426b-ba42-a1058e97144e",
    "_uuid": "1ef6d1564e86e9b866831a7bccff347d44889ee1"
   },
   "outputs": [],
   "source": [
    "#we can also drop the Ticket feature since it's unlikely to yield any useful information\n",
    "train = train.drop(['Ticket'], axis = 1)\n",
    "test = test.drop(['Ticket'], axis = 1)"
   ]
  },
  {
   "cell_type": "markdown",
   "metadata": {
    "_cell_guid": "19bdb486-8ad6-424b-b12a-ec711ea40a78",
    "_uuid": "d67ef4589d6744b718ab7652975cc2be38adfc34"
   },
   "source": [
    "### Embarked Feature"
   ]
  },
  {
   "cell_type": "code",
<<<<<<< HEAD
   "execution_count": 112,
=======
   "execution_count": 46,
>>>>>>> 637820ec704844114c0182c69fae6f202aa19823
   "metadata": {
    "_cell_guid": "7413f753-a675-411d-931d-e3a9ca7509f0",
    "_uuid": "2269d0172302ef9a5c0d627ec0a139d89e33f871"
   },
   "outputs": [
    {
     "name": "stdout",
     "output_type": "stream",
     "text": [
      "Number of people embarking in Southampton (S):\n",
      "644\n",
      "Number of people embarking in Cherbourg (C):\n",
      "168\n",
      "Number of people embarking in Queenstown (Q):\n",
      "77\n"
     ]
    }
   ],
   "source": [
    "#now we need to fill in the missing values in the Embarked feature\n",
    "print(\"Number of people embarking in Southampton (S):\")\n",
    "southampton = train[train[\"Embarked\"] == \"S\"].shape[0]\n",
    "print(southampton)\n",
    "\n",
    "print(\"Number of people embarking in Cherbourg (C):\")\n",
    "cherbourg = train[train[\"Embarked\"] == \"C\"].shape[0]\n",
    "print(cherbourg)\n",
    "\n",
    "print(\"Number of people embarking in Queenstown (Q):\")\n",
    "queenstown = train[train[\"Embarked\"] == \"Q\"].shape[0]\n",
    "print(queenstown)"
   ]
  },
  {
   "cell_type": "markdown",
   "metadata": {
    "_cell_guid": "2413ea4e-f8f5-47dc-8572-89cba8f7d4f0",
    "_uuid": "8bada1b635e3ed1d2de4183bcfca5a2e47a60288"
   },
   "source": [
    "It's clear that the majority of people embarked in Southampton (S). Let's go ahead and fill in the missing values with S."
   ]
  },
  {
   "cell_type": "code",
<<<<<<< HEAD
   "execution_count": 113,
=======
   "execution_count": 47,
>>>>>>> 637820ec704844114c0182c69fae6f202aa19823
   "metadata": {
    "_cell_guid": "9b4fde7b-9f44-48bf-a809-d919aec54ea3",
    "_uuid": "e930fcc94dee89f482c3689e0203c41db24501d2"
   },
   "outputs": [],
   "source": [
    "#replacing the missing values in the Embarked feature with S\n",
    "train = train.fillna({\"Embarked\": \"S\"})"
   ]
  },
  {
   "cell_type": "markdown",
   "metadata": {
    "_cell_guid": "a450e321-1857-415a-a479-234911f3d661",
    "_uuid": "5bb4686eb612f4dad5cbba0f4aae10cf463a3df3"
   },
   "source": [
    "### Age Feature"
   ]
  },
  {
   "cell_type": "markdown",
   "metadata": {
    "_cell_guid": "02704ec3-ca1b-4688-8841-8b3e37883d71",
    "_uuid": "6083d493c627a16606969e3258858d3335b0e705"
   },
   "source": [
    "Next we'll fill in the missing values in the Age feature. Since a higher percentage of values are missing, it would be illogical to fill all of them with the same value (as we did with Embarked). Instead, let's try to find a way to predict the missing ages. "
   ]
  },
  {
   "cell_type": "code",
<<<<<<< HEAD
   "execution_count": 114,
=======
   "execution_count": 48,
>>>>>>> 637820ec704844114c0182c69fae6f202aa19823
   "metadata": {
    "_cell_guid": "2962e4b6-1744-449a-86c1-239123a0016e",
    "_uuid": "b25763097363fa98fc10fcb4a377d8d2c519b238"
   },
   "outputs": [
    {
     "name": "stdout",
     "output_type": "stream",
     "text": [
      "<class 'pandas.core.frame.DataFrame'>\n",
      "<class 'pandas.core.frame.DataFrame'>\n"
     ]
    },
    {
     "data": {
      "text/html": [
       "<div>\n",
       "<style scoped>\n",
       "    .dataframe tbody tr th:only-of-type {\n",
       "        vertical-align: middle;\n",
       "    }\n",
       "\n",
       "    .dataframe tbody tr th {\n",
       "        vertical-align: top;\n",
       "    }\n",
       "\n",
       "    .dataframe thead th {\n",
       "        text-align: right;\n",
       "    }\n",
       "</style>\n",
       "<table border=\"1\" class=\"dataframe\">\n",
       "  <thead>\n",
       "    <tr style=\"text-align: right;\">\n",
       "      <th>Sex</th>\n",
       "      <th>female</th>\n",
       "      <th>male</th>\n",
       "    </tr>\n",
       "    <tr>\n",
       "      <th>Title</th>\n",
       "      <th></th>\n",
       "      <th></th>\n",
       "    </tr>\n",
       "  </thead>\n",
       "  <tbody>\n",
       "    <tr>\n",
       "      <th>Capt</th>\n",
       "      <td>0</td>\n",
       "      <td>1</td>\n",
       "    </tr>\n",
       "    <tr>\n",
       "      <th>Col</th>\n",
       "      <td>0</td>\n",
       "      <td>2</td>\n",
       "    </tr>\n",
       "    <tr>\n",
       "      <th>Countess</th>\n",
       "      <td>1</td>\n",
       "      <td>0</td>\n",
       "    </tr>\n",
       "    <tr>\n",
       "      <th>Don</th>\n",
       "      <td>0</td>\n",
       "      <td>1</td>\n",
       "    </tr>\n",
       "    <tr>\n",
       "      <th>Dr</th>\n",
       "      <td>1</td>\n",
       "      <td>6</td>\n",
       "    </tr>\n",
       "    <tr>\n",
       "      <th>Jonkheer</th>\n",
       "      <td>0</td>\n",
       "      <td>1</td>\n",
       "    </tr>\n",
       "    <tr>\n",
       "      <th>Lady</th>\n",
       "      <td>1</td>\n",
       "      <td>0</td>\n",
       "    </tr>\n",
       "    <tr>\n",
       "      <th>Major</th>\n",
       "      <td>0</td>\n",
       "      <td>2</td>\n",
       "    </tr>\n",
       "    <tr>\n",
       "      <th>Master</th>\n",
       "      <td>0</td>\n",
       "      <td>40</td>\n",
       "    </tr>\n",
       "    <tr>\n",
       "      <th>Miss</th>\n",
       "      <td>182</td>\n",
       "      <td>0</td>\n",
       "    </tr>\n",
       "    <tr>\n",
       "      <th>Mlle</th>\n",
       "      <td>2</td>\n",
       "      <td>0</td>\n",
       "    </tr>\n",
       "    <tr>\n",
       "      <th>Mme</th>\n",
       "      <td>1</td>\n",
       "      <td>0</td>\n",
       "    </tr>\n",
       "    <tr>\n",
       "      <th>Mr</th>\n",
       "      <td>0</td>\n",
       "      <td>517</td>\n",
       "    </tr>\n",
       "    <tr>\n",
       "      <th>Mrs</th>\n",
       "      <td>125</td>\n",
       "      <td>0</td>\n",
       "    </tr>\n",
       "    <tr>\n",
       "      <th>Ms</th>\n",
       "      <td>1</td>\n",
       "      <td>0</td>\n",
       "    </tr>\n",
       "    <tr>\n",
       "      <th>Rev</th>\n",
       "      <td>0</td>\n",
       "      <td>6</td>\n",
       "    </tr>\n",
       "    <tr>\n",
       "      <th>Sir</th>\n",
       "      <td>0</td>\n",
       "      <td>1</td>\n",
       "    </tr>\n",
       "  </tbody>\n",
       "</table>\n",
       "</div>"
      ],
      "text/plain": [
       "Sex       female  male\n",
       "Title                 \n",
       "Capt           0     1\n",
       "Col            0     2\n",
       "Countess       1     0\n",
       "Don            0     1\n",
       "Dr             1     6\n",
       "Jonkheer       0     1\n",
       "Lady           1     0\n",
       "Major          0     2\n",
       "Master         0    40\n",
       "Miss         182     0\n",
       "Mlle           2     0\n",
       "Mme            1     0\n",
       "Mr             0   517\n",
       "Mrs          125     0\n",
       "Ms             1     0\n",
       "Rev            0     6\n",
       "Sir            0     1"
      ]
     },
<<<<<<< HEAD
     "execution_count": 114,
=======
     "execution_count": 48,
>>>>>>> 637820ec704844114c0182c69fae6f202aa19823
     "metadata": {},
     "output_type": "execute_result"
    }
   ],
   "source": [
    "#create a combined group of both datasets\n",
    "combine = [train, test]\n",
    "\n",
    "#extract a title for each Name in the train and test datasets\n",
    "for dataset in combine:\n",
    "    dataset['Title'] = dataset.Name.str.extract(' ([A-Za-z]+)\\.', expand=False)\n",
    "    print(type(dataset))\n",
    "pd.crosstab(train['Title'], train['Sex'])"
   ]
  },
  {
   "cell_type": "code",
<<<<<<< HEAD
   "execution_count": 70,
=======
   "execution_count": 49,
>>>>>>> 637820ec704844114c0182c69fae6f202aa19823
   "metadata": {
    "_cell_guid": "cf15c356-4b9c-4d5b-8eba-9cd5eee132fe",
    "_uuid": "3ff0af2a97f14dadc8baaae5f3c35297ac56f319"
   },
   "outputs": [
    {
     "data": {
      "text/html": [
       "<div>\n",
       "<style scoped>\n",
       "    .dataframe tbody tr th:only-of-type {\n",
       "        vertical-align: middle;\n",
       "    }\n",
       "\n",
       "    .dataframe tbody tr th {\n",
       "        vertical-align: top;\n",
       "    }\n",
       "\n",
       "    .dataframe thead th {\n",
       "        text-align: right;\n",
       "    }\n",
       "</style>\n",
       "<table border=\"1\" class=\"dataframe\">\n",
       "  <thead>\n",
       "    <tr style=\"text-align: right;\">\n",
       "      <th></th>\n",
       "      <th>Title</th>\n",
       "      <th>Survived</th>\n",
       "    </tr>\n",
       "  </thead>\n",
       "  <tbody>\n",
       "    <tr>\n",
       "      <th>0</th>\n",
       "      <td>Master</td>\n",
       "      <td>0.575000</td>\n",
       "    </tr>\n",
       "    <tr>\n",
       "      <th>1</th>\n",
       "      <td>Miss</td>\n",
       "      <td>0.702703</td>\n",
       "    </tr>\n",
       "    <tr>\n",
       "      <th>2</th>\n",
       "      <td>Mr</td>\n",
       "      <td>0.156673</td>\n",
       "    </tr>\n",
       "    <tr>\n",
       "      <th>3</th>\n",
       "      <td>Mrs</td>\n",
       "      <td>0.793651</td>\n",
       "    </tr>\n",
       "    <tr>\n",
       "      <th>4</th>\n",
       "      <td>Rare</td>\n",
       "      <td>0.285714</td>\n",
       "    </tr>\n",
       "    <tr>\n",
       "      <th>5</th>\n",
       "      <td>Royal</td>\n",
       "      <td>1.000000</td>\n",
       "    </tr>\n",
       "  </tbody>\n",
       "</table>\n",
       "</div>"
      ],
      "text/plain": [
       "    Title  Survived\n",
       "0  Master  0.575000\n",
       "1    Miss  0.702703\n",
       "2      Mr  0.156673\n",
       "3     Mrs  0.793651\n",
       "4    Rare  0.285714\n",
       "5   Royal  1.000000"
      ]
     },
<<<<<<< HEAD
     "execution_count": 70,
=======
     "execution_count": 49,
>>>>>>> 637820ec704844114c0182c69fae6f202aa19823
     "metadata": {},
     "output_type": "execute_result"
    }
   ],
   "source": [
    "#replace various titles with more common names\n",
    "for dataset in combine:\n",
    "    dataset['Title'] = dataset['Title'].replace(['Lady', 'Capt', 'Col',\n",
    "    'Don', 'Dr', 'Major', 'Rev', 'Jonkheer', 'Dona'], 'Rare')\n",
    "    \n",
    "    dataset['Title'] = dataset['Title'].replace(['Countess', 'Lady', 'Sir'], 'Royal')\n",
    "    dataset['Title'] = dataset['Title'].replace('Mlle', 'Miss')\n",
    "    dataset['Title'] = dataset['Title'].replace('Ms', 'Miss')\n",
    "    dataset['Title'] = dataset['Title'].replace('Mme', 'Mrs')\n",
    "\n",
    "train[['Title', 'Survived']].groupby(['Title'], as_index=False).mean()"
   ]
  },
  {
   "cell_type": "code",
<<<<<<< HEAD
   "execution_count": 71,
=======
   "execution_count": 50,
>>>>>>> 637820ec704844114c0182c69fae6f202aa19823
   "metadata": {
    "_cell_guid": "fd348a1f-c9ee-4439-a6f4-a796077e4889",
    "_uuid": "bba482464f41b306ef0d7d6ca565a78ca59f50a8"
   },
   "outputs": [
    {
     "data": {
      "text/html": [
       "<div>\n",
       "<style scoped>\n",
       "    .dataframe tbody tr th:only-of-type {\n",
       "        vertical-align: middle;\n",
       "    }\n",
       "\n",
       "    .dataframe tbody tr th {\n",
       "        vertical-align: top;\n",
       "    }\n",
       "\n",
       "    .dataframe thead th {\n",
       "        text-align: right;\n",
       "    }\n",
       "</style>\n",
       "<table border=\"1\" class=\"dataframe\">\n",
       "  <thead>\n",
       "    <tr style=\"text-align: right;\">\n",
       "      <th></th>\n",
       "      <th>PassengerId</th>\n",
       "      <th>Survived</th>\n",
       "      <th>Pclass</th>\n",
       "      <th>Name</th>\n",
       "      <th>Sex</th>\n",
       "      <th>Age</th>\n",
       "      <th>SibSp</th>\n",
       "      <th>Parch</th>\n",
       "      <th>Fare</th>\n",
       "      <th>Embarked</th>\n",
       "      <th>AgeGroup</th>\n",
       "      <th>CabinBool</th>\n",
       "      <th>Title</th>\n",
       "    </tr>\n",
       "  </thead>\n",
       "  <tbody>\n",
       "    <tr>\n",
       "      <th>0</th>\n",
       "      <td>1</td>\n",
       "      <td>0</td>\n",
       "      <td>3</td>\n",
       "      <td>Braund, Mr. Owen Harris</td>\n",
       "      <td>male</td>\n",
       "      <td>22.0</td>\n",
       "      <td>1</td>\n",
       "      <td>0</td>\n",
       "      <td>7.2500</td>\n",
       "      <td>S</td>\n",
       "      <td>Student</td>\n",
       "      <td>0</td>\n",
       "      <td>1</td>\n",
       "    </tr>\n",
       "    <tr>\n",
       "      <th>1</th>\n",
       "      <td>2</td>\n",
       "      <td>1</td>\n",
       "      <td>1</td>\n",
       "      <td>Cumings, Mrs. John Bradley (Florence Briggs Th...</td>\n",
       "      <td>female</td>\n",
       "      <td>38.0</td>\n",
       "      <td>1</td>\n",
       "      <td>0</td>\n",
       "      <td>71.2833</td>\n",
       "      <td>C</td>\n",
       "      <td>Adult</td>\n",
       "      <td>1</td>\n",
       "      <td>3</td>\n",
       "    </tr>\n",
       "    <tr>\n",
       "      <th>2</th>\n",
       "      <td>3</td>\n",
       "      <td>1</td>\n",
       "      <td>3</td>\n",
       "      <td>Heikkinen, Miss. Laina</td>\n",
       "      <td>female</td>\n",
       "      <td>26.0</td>\n",
       "      <td>0</td>\n",
       "      <td>0</td>\n",
       "      <td>7.9250</td>\n",
       "      <td>S</td>\n",
       "      <td>Young Adult</td>\n",
       "      <td>0</td>\n",
       "      <td>2</td>\n",
       "    </tr>\n",
       "    <tr>\n",
       "      <th>3</th>\n",
       "      <td>4</td>\n",
       "      <td>1</td>\n",
       "      <td>1</td>\n",
       "      <td>Futrelle, Mrs. Jacques Heath (Lily May Peel)</td>\n",
       "      <td>female</td>\n",
       "      <td>35.0</td>\n",
       "      <td>1</td>\n",
       "      <td>0</td>\n",
       "      <td>53.1000</td>\n",
       "      <td>S</td>\n",
       "      <td>Young Adult</td>\n",
       "      <td>1</td>\n",
       "      <td>3</td>\n",
       "    </tr>\n",
       "    <tr>\n",
       "      <th>4</th>\n",
       "      <td>5</td>\n",
       "      <td>0</td>\n",
       "      <td>3</td>\n",
       "      <td>Allen, Mr. William Henry</td>\n",
       "      <td>male</td>\n",
       "      <td>35.0</td>\n",
       "      <td>0</td>\n",
       "      <td>0</td>\n",
       "      <td>8.0500</td>\n",
       "      <td>S</td>\n",
       "      <td>Young Adult</td>\n",
       "      <td>0</td>\n",
       "      <td>1</td>\n",
       "    </tr>\n",
       "  </tbody>\n",
       "</table>\n",
       "</div>"
      ],
      "text/plain": [
       "   PassengerId  Survived  Pclass  \\\n",
       "0            1         0       3   \n",
       "1            2         1       1   \n",
       "2            3         1       3   \n",
       "3            4         1       1   \n",
       "4            5         0       3   \n",
       "\n",
       "                                                Name     Sex   Age  SibSp  \\\n",
       "0                            Braund, Mr. Owen Harris    male  22.0      1   \n",
       "1  Cumings, Mrs. John Bradley (Florence Briggs Th...  female  38.0      1   \n",
       "2                             Heikkinen, Miss. Laina  female  26.0      0   \n",
       "3       Futrelle, Mrs. Jacques Heath (Lily May Peel)  female  35.0      1   \n",
       "4                           Allen, Mr. William Henry    male  35.0      0   \n",
       "\n",
       "   Parch     Fare Embarked     AgeGroup  CabinBool  Title  \n",
       "0      0   7.2500        S      Student          0      1  \n",
       "1      0  71.2833        C        Adult          1      3  \n",
       "2      0   7.9250        S  Young Adult          0      2  \n",
       "3      0  53.1000        S  Young Adult          1      3  \n",
       "4      0   8.0500        S  Young Adult          0      1  "
      ]
     },
<<<<<<< HEAD
     "execution_count": 71,
=======
     "execution_count": 50,
>>>>>>> 637820ec704844114c0182c69fae6f202aa19823
     "metadata": {},
     "output_type": "execute_result"
    }
   ],
   "source": [
    "#map each of the title groups to a numerical value\n",
    "title_mapping = {\"Mr\": 1, \"Miss\": 2, \"Mrs\": 3, \"Master\": 4, \"Royal\": 5, \"Rare\": 6}\n",
    "for dataset in combine:\n",
    "    dataset['Title'] = dataset['Title'].map(title_mapping)\n",
    "    dataset['Title'] = dataset['Title'].fillna(0)\n",
    "\n",
    "train.head()"
   ]
  },
  {
   "cell_type": "markdown",
   "metadata": {
    "_cell_guid": "dc4b06f3-53d2-4e31-bdcc-c92be4e90746",
    "_uuid": "c518b1f33b2fe849881779f7c485b09ff78e7ab9"
   },
   "source": [
    "The code I used above is from [here](https://www.kaggle.com/startupsci/titanic-data-science-solutions). Next, we'll try to predict the missing Age values from the most common age for their Title."
   ]
  },
  {
   "cell_type": "code",
<<<<<<< HEAD
   "execution_count": 72,
=======
   "execution_count": 51,
>>>>>>> 637820ec704844114c0182c69fae6f202aa19823
   "metadata": {
    "_cell_guid": "e5b5ac5c-333e-48ac-8108-c803eed83ec8",
    "_uuid": "8a5b22703431939416b3e8102d8d82208dbee6c2",
    "scrolled": true
   },
   "outputs": [],
   "source": [
    "# fill missing age with mode age group for each title\n",
    "mr_age = train[train[\"Title\"] == 1][\"AgeGroup\"].mode() #Young Adult\n",
    "miss_age = train[train[\"Title\"] == 2][\"AgeGroup\"].mode() #Student\n",
    "mrs_age = train[train[\"Title\"] == 3][\"AgeGroup\"].mode() #Adult\n",
    "master_age = train[train[\"Title\"] == 4][\"AgeGroup\"].mode() #Baby\n",
    "royal_age = train[train[\"Title\"] == 5][\"AgeGroup\"].mode() #Adult\n",
    "rare_age = train[train[\"Title\"] == 6][\"AgeGroup\"].mode() #Adult\n",
    "\n",
    "age_title_mapping = {1: \"Young Adult\", 2: \"Student\", 3: \"Adult\", 4: \"Baby\", 5: \"Adult\", 6: \"Adult\"}\n",
    "\n",
    "#I tried to get this code to work with using .map(), but couldn't.\n",
    "#I've put down a less elegant, temporary solution for now.\n",
    "#train = train.fillna({\"Age\": train[\"Title\"].map(age_title_mapping)})\n",
    "#test = test.fillna({\"Age\": test[\"Title\"].map(age_title_mapping)})\n",
    "\n",
    "for x in range(len(train[\"AgeGroup\"])):\n",
    "    if train[\"AgeGroup\"][x] == \"Unknown\":\n",
    "        train[\"AgeGroup\"][x] = age_title_mapping[train[\"Title\"][x]]\n",
    "        \n",
    "for x in range(len(test[\"AgeGroup\"])):\n",
    "    if test[\"AgeGroup\"][x] == \"Unknown\":\n",
    "        test[\"AgeGroup\"][x] = age_title_mapping[test[\"Title\"][x]]"
   ]
  },
  {
   "cell_type": "markdown",
   "metadata": {
    "_cell_guid": "f8488dbc-7824-4d1e-b697-6f711435c544",
    "_uuid": "fd807a685913a27c9c23baaf191ddb5e36b60585"
   },
   "source": [
    "Now that we've filled in the missing values at least *somewhat* accurately (I will work on a better way for predicting missing age values), it's time to map each age group to a numerical value."
   ]
  },
  {
   "cell_type": "code",
<<<<<<< HEAD
   "execution_count": 73,
=======
   "execution_count": 52,
>>>>>>> 637820ec704844114c0182c69fae6f202aa19823
   "metadata": {
    "_cell_guid": "f993cda0-12fe-47a5-a7a3-f391ac4cc701",
    "_uuid": "42cb61fd9a9e197d1cb4469cf499627ce0727f52"
   },
   "outputs": [
    {
     "name": "stdout",
     "output_type": "stream",
     "text": [
      "    PassengerId  Survived  Pclass  \\\n",
      "0             1         0       3   \n",
      "1             2         1       1   \n",
      "2             3         1       3   \n",
      "3             4         1       1   \n",
      "4             5         0       3   \n",
      "5             6         0       3   \n",
      "6             7         0       1   \n",
      "7             8         0       3   \n",
      "8             9         1       3   \n",
      "9            10         1       2   \n",
      "10           11         1       3   \n",
      "11           12         1       1   \n",
      "12           13         0       3   \n",
      "13           14         0       3   \n",
      "14           15         0       3   \n",
      "15           16         1       2   \n",
      "16           17         0       3   \n",
      "17           18         1       2   \n",
      "18           19         0       3   \n",
      "19           20         1       3   \n",
      "\n",
      "                                                 Name     Sex   Age  SibSp  \\\n",
      "0                             Braund, Mr. Owen Harris    male  22.0      1   \n",
      "1   Cumings, Mrs. John Bradley (Florence Briggs Th...  female  38.0      1   \n",
      "2                              Heikkinen, Miss. Laina  female  26.0      0   \n",
      "3        Futrelle, Mrs. Jacques Heath (Lily May Peel)  female  35.0      1   \n",
      "4                            Allen, Mr. William Henry    male  35.0      0   \n",
      "5                                    Moran, Mr. James    male  -0.5      0   \n",
      "6                             McCarthy, Mr. Timothy J    male  54.0      0   \n",
      "7                      Palsson, Master. Gosta Leonard    male   2.0      3   \n",
      "8   Johnson, Mrs. Oscar W (Elisabeth Vilhelmina Berg)  female  27.0      0   \n",
      "9                 Nasser, Mrs. Nicholas (Adele Achem)  female  14.0      1   \n",
      "10                    Sandstrom, Miss. Marguerite Rut  female   4.0      1   \n",
      "11                           Bonnell, Miss. Elizabeth  female  58.0      0   \n",
      "12                     Saundercock, Mr. William Henry    male  20.0      0   \n",
      "13                        Andersson, Mr. Anders Johan    male  39.0      1   \n",
      "14               Vestrom, Miss. Hulda Amanda Adolfina  female  14.0      0   \n",
      "15                   Hewlett, Mrs. (Mary D Kingcome)   female  55.0      0   \n",
      "16                               Rice, Master. Eugene    male   2.0      4   \n",
      "17                       Williams, Mr. Charles Eugene    male  -0.5      0   \n",
      "18  Vander Planke, Mrs. Julius (Emelia Maria Vande...  female  31.0      1   \n",
      "19                            Masselmani, Mrs. Fatima  female  -0.5      0   \n",
      "\n",
      "    Parch     Fare Embarked  AgeGroup  CabinBool  Title  \n",
      "0       0   7.2500        S         4          0      1  \n",
      "1       0  71.2833        C         6          1      3  \n",
      "2       0   7.9250        S         5          0      2  \n",
      "3       0  53.1000        S         5          1      3  \n",
      "4       0   8.0500        S         5          0      1  \n",
      "5       0   8.4583        Q         5          0      1  \n",
      "6       0  51.8625        S         6          1      1  \n",
      "7       1  21.0750        S         1          0      4  \n",
      "8       2  11.1333        S         5          0      3  \n",
      "9       0  30.0708        C         3          0      3  \n",
      "10      1  16.7000        S         1          1      2  \n",
      "11      0  26.5500        S         6          1      2  \n",
      "12      0   8.0500        S         4          0      1  \n",
      "13      5  31.2750        S         6          0      1  \n",
      "14      0   7.8542        S         3          0      2  \n",
      "15      0  16.0000        S         6          0      3  \n",
      "16      1  29.1250        Q         1          0      4  \n",
      "17      0  13.0000        S         5          0      1  \n",
      "18      0  18.0000        S         5          0      3  \n",
      "19      0   7.2250        C         6          0      3  \n"
     ]
    }
   ],
   "source": [
    "#map each Age value to a numerical value\n",
    "age_mapping = {'Baby': 1, 'Child': 2, 'Teenager': 3, 'Student': 4, 'Young Adult': 5, 'Adult': 6, 'Senior': 7}\n",
    "train['AgeGroup'] = train['AgeGroup'].map(age_mapping)\n",
    "test['AgeGroup'] = test['AgeGroup'].map(age_mapping)\n",
    "\n",
    "print(train.head(20))\n",
    "\n",
    "#dropping the Age feature for now, might change\n",
    "train = train.drop(['Age'], axis = 1)\n",
    "test = test.drop(['Age'], axis = 1)"
   ]
  },
  {
   "cell_type": "markdown",
   "metadata": {
    "_cell_guid": "4082d01c-0baa-440d-8324-4856dc49788d",
    "_uuid": "28080f4e1faf07aa11a3520f58f19010462f77ad"
   },
   "source": [
    "### Name Feature\n",
    "We can drop the name feature now that we've extracted the titles."
   ]
  },
  {
   "cell_type": "code",
<<<<<<< HEAD
   "execution_count": 74,
=======
   "execution_count": 53,
>>>>>>> 637820ec704844114c0182c69fae6f202aa19823
   "metadata": {
    "_cell_guid": "8b26bf01-16d7-4a8d-9ff0-3c36e0623d55",
    "_uuid": "1d376d44884e25d9ed4646304acc1f41c3051b6b"
   },
   "outputs": [],
   "source": [
    "#drop the name feature since it contains no more useful information.\n",
    "train = train.drop(['Name'], axis = 1)\n",
    "test = test.drop(['Name'], axis = 1)"
   ]
  },
  {
   "cell_type": "markdown",
   "metadata": {
    "_cell_guid": "7083aad2-e410-4587-82cd-3249e208cb31",
    "_uuid": "109400ad6b4acd87eb802dab44e3787b9121fb69"
   },
   "source": [
    "### Sex Feature"
   ]
  },
  {
   "cell_type": "code",
<<<<<<< HEAD
   "execution_count": 75,
=======
   "execution_count": 54,
>>>>>>> 637820ec704844114c0182c69fae6f202aa19823
   "metadata": {
    "_cell_guid": "a10f979c-f118-45dc-a1e5-3f0c17e7977f",
    "_uuid": "018ce967cf17298b7ab1157008871339d6876292",
    "scrolled": true
   },
   "outputs": [
    {
     "data": {
      "text/html": [
       "<div>\n",
       "<style scoped>\n",
       "    .dataframe tbody tr th:only-of-type {\n",
       "        vertical-align: middle;\n",
       "    }\n",
       "\n",
       "    .dataframe tbody tr th {\n",
       "        vertical-align: top;\n",
       "    }\n",
       "\n",
       "    .dataframe thead th {\n",
       "        text-align: right;\n",
       "    }\n",
       "</style>\n",
       "<table border=\"1\" class=\"dataframe\">\n",
       "  <thead>\n",
       "    <tr style=\"text-align: right;\">\n",
       "      <th></th>\n",
       "      <th>PassengerId</th>\n",
       "      <th>Survived</th>\n",
       "      <th>Pclass</th>\n",
       "      <th>Sex</th>\n",
       "      <th>SibSp</th>\n",
       "      <th>Parch</th>\n",
       "      <th>Fare</th>\n",
       "      <th>Embarked</th>\n",
       "      <th>AgeGroup</th>\n",
       "      <th>CabinBool</th>\n",
       "      <th>Title</th>\n",
       "    </tr>\n",
       "  </thead>\n",
       "  <tbody>\n",
       "    <tr>\n",
       "      <th>0</th>\n",
       "      <td>1</td>\n",
       "      <td>0</td>\n",
       "      <td>3</td>\n",
       "      <td>0</td>\n",
       "      <td>1</td>\n",
       "      <td>0</td>\n",
       "      <td>7.2500</td>\n",
       "      <td>S</td>\n",
       "      <td>4</td>\n",
       "      <td>0</td>\n",
       "      <td>1</td>\n",
       "    </tr>\n",
       "    <tr>\n",
       "      <th>1</th>\n",
       "      <td>2</td>\n",
       "      <td>1</td>\n",
       "      <td>1</td>\n",
       "      <td>1</td>\n",
       "      <td>1</td>\n",
       "      <td>0</td>\n",
       "      <td>71.2833</td>\n",
       "      <td>C</td>\n",
       "      <td>6</td>\n",
       "      <td>1</td>\n",
       "      <td>3</td>\n",
       "    </tr>\n",
       "    <tr>\n",
       "      <th>2</th>\n",
       "      <td>3</td>\n",
       "      <td>1</td>\n",
       "      <td>3</td>\n",
       "      <td>1</td>\n",
       "      <td>0</td>\n",
       "      <td>0</td>\n",
       "      <td>7.9250</td>\n",
       "      <td>S</td>\n",
       "      <td>5</td>\n",
       "      <td>0</td>\n",
       "      <td>2</td>\n",
       "    </tr>\n",
       "    <tr>\n",
       "      <th>3</th>\n",
       "      <td>4</td>\n",
       "      <td>1</td>\n",
       "      <td>1</td>\n",
       "      <td>1</td>\n",
       "      <td>1</td>\n",
       "      <td>0</td>\n",
       "      <td>53.1000</td>\n",
       "      <td>S</td>\n",
       "      <td>5</td>\n",
       "      <td>1</td>\n",
       "      <td>3</td>\n",
       "    </tr>\n",
       "    <tr>\n",
       "      <th>4</th>\n",
       "      <td>5</td>\n",
       "      <td>0</td>\n",
       "      <td>3</td>\n",
       "      <td>0</td>\n",
       "      <td>0</td>\n",
       "      <td>0</td>\n",
       "      <td>8.0500</td>\n",
       "      <td>S</td>\n",
       "      <td>5</td>\n",
       "      <td>0</td>\n",
       "      <td>1</td>\n",
       "    </tr>\n",
       "  </tbody>\n",
       "</table>\n",
       "</div>"
      ],
      "text/plain": [
       "   PassengerId  Survived  Pclass  Sex  SibSp  Parch     Fare Embarked  \\\n",
       "0            1         0       3    0      1      0   7.2500        S   \n",
       "1            2         1       1    1      1      0  71.2833        C   \n",
       "2            3         1       3    1      0      0   7.9250        S   \n",
       "3            4         1       1    1      1      0  53.1000        S   \n",
       "4            5         0       3    0      0      0   8.0500        S   \n",
       "\n",
       "   AgeGroup  CabinBool  Title  \n",
       "0         4          0      1  \n",
       "1         6          1      3  \n",
       "2         5          0      2  \n",
       "3         5          1      3  \n",
       "4         5          0      1  "
      ]
     },
<<<<<<< HEAD
     "execution_count": 75,
=======
     "execution_count": 54,
>>>>>>> 637820ec704844114c0182c69fae6f202aa19823
     "metadata": {},
     "output_type": "execute_result"
    }
   ],
   "source": [
    "#map each Sex value to a numerical value\n",
    "sex_mapping = {\"male\": 0, \"female\": 1}\n",
    "train['Sex'] = train['Sex'].map(sex_mapping)\n",
    "test['Sex'] = test['Sex'].map(sex_mapping)\n",
    "\n",
    "train.head()"
   ]
  },
  {
   "cell_type": "markdown",
   "metadata": {
    "_cell_guid": "f8143134-2180-4c58-8ee0-df0605fa8f16",
    "_uuid": "3fbd0b63a2f07e207dc04f5853ee9d6c33f28209"
   },
   "source": [
    "### Embarked Feature"
   ]
  },
  {
   "cell_type": "code",
<<<<<<< HEAD
   "execution_count": 76,
=======
   "execution_count": 55,
>>>>>>> 637820ec704844114c0182c69fae6f202aa19823
   "metadata": {
    "_cell_guid": "4027975e-21a1-4a12-9ee5-8d215e24c74f",
    "_uuid": "068136f43870636a45fab8064ada1f0fb481cfd0"
   },
   "outputs": [
    {
     "data": {
      "text/html": [
       "<div>\n",
       "<style scoped>\n",
       "    .dataframe tbody tr th:only-of-type {\n",
       "        vertical-align: middle;\n",
       "    }\n",
       "\n",
       "    .dataframe tbody tr th {\n",
       "        vertical-align: top;\n",
       "    }\n",
       "\n",
       "    .dataframe thead th {\n",
       "        text-align: right;\n",
       "    }\n",
       "</style>\n",
       "<table border=\"1\" class=\"dataframe\">\n",
       "  <thead>\n",
       "    <tr style=\"text-align: right;\">\n",
       "      <th></th>\n",
       "      <th>PassengerId</th>\n",
       "      <th>Survived</th>\n",
       "      <th>Pclass</th>\n",
       "      <th>Sex</th>\n",
       "      <th>SibSp</th>\n",
       "      <th>Parch</th>\n",
       "      <th>Fare</th>\n",
       "      <th>Embarked</th>\n",
       "      <th>AgeGroup</th>\n",
       "      <th>CabinBool</th>\n",
       "      <th>Title</th>\n",
       "    </tr>\n",
       "  </thead>\n",
       "  <tbody>\n",
       "    <tr>\n",
       "      <th>0</th>\n",
       "      <td>1</td>\n",
       "      <td>0</td>\n",
       "      <td>3</td>\n",
       "      <td>0</td>\n",
       "      <td>1</td>\n",
       "      <td>0</td>\n",
       "      <td>7.2500</td>\n",
       "      <td>1</td>\n",
       "      <td>4</td>\n",
       "      <td>0</td>\n",
       "      <td>1</td>\n",
       "    </tr>\n",
       "    <tr>\n",
       "      <th>1</th>\n",
       "      <td>2</td>\n",
       "      <td>1</td>\n",
       "      <td>1</td>\n",
       "      <td>1</td>\n",
       "      <td>1</td>\n",
       "      <td>0</td>\n",
       "      <td>71.2833</td>\n",
       "      <td>2</td>\n",
       "      <td>6</td>\n",
       "      <td>1</td>\n",
       "      <td>3</td>\n",
       "    </tr>\n",
       "    <tr>\n",
       "      <th>2</th>\n",
       "      <td>3</td>\n",
       "      <td>1</td>\n",
       "      <td>3</td>\n",
       "      <td>1</td>\n",
       "      <td>0</td>\n",
       "      <td>0</td>\n",
       "      <td>7.9250</td>\n",
       "      <td>1</td>\n",
       "      <td>5</td>\n",
       "      <td>0</td>\n",
       "      <td>2</td>\n",
       "    </tr>\n",
       "    <tr>\n",
       "      <th>3</th>\n",
       "      <td>4</td>\n",
       "      <td>1</td>\n",
       "      <td>1</td>\n",
       "      <td>1</td>\n",
       "      <td>1</td>\n",
       "      <td>0</td>\n",
       "      <td>53.1000</td>\n",
       "      <td>1</td>\n",
       "      <td>5</td>\n",
       "      <td>1</td>\n",
       "      <td>3</td>\n",
       "    </tr>\n",
       "    <tr>\n",
       "      <th>4</th>\n",
       "      <td>5</td>\n",
       "      <td>0</td>\n",
       "      <td>3</td>\n",
       "      <td>0</td>\n",
       "      <td>0</td>\n",
       "      <td>0</td>\n",
       "      <td>8.0500</td>\n",
       "      <td>1</td>\n",
       "      <td>5</td>\n",
       "      <td>0</td>\n",
       "      <td>1</td>\n",
       "    </tr>\n",
       "  </tbody>\n",
       "</table>\n",
       "</div>"
      ],
      "text/plain": [
       "   PassengerId  Survived  Pclass  Sex  SibSp  Parch     Fare  Embarked  \\\n",
       "0            1         0       3    0      1      0   7.2500         1   \n",
       "1            2         1       1    1      1      0  71.2833         2   \n",
       "2            3         1       3    1      0      0   7.9250         1   \n",
       "3            4         1       1    1      1      0  53.1000         1   \n",
       "4            5         0       3    0      0      0   8.0500         1   \n",
       "\n",
       "   AgeGroup  CabinBool  Title  \n",
       "0         4          0      1  \n",
       "1         6          1      3  \n",
       "2         5          0      2  \n",
       "3         5          1      3  \n",
       "4         5          0      1  "
      ]
     },
<<<<<<< HEAD
     "execution_count": 76,
=======
     "execution_count": 55,
>>>>>>> 637820ec704844114c0182c69fae6f202aa19823
     "metadata": {},
     "output_type": "execute_result"
    }
   ],
   "source": [
    "#map each Embarked value to a numerical value\n",
    "embarked_mapping = {\"S\": 1, \"C\": 2, \"Q\": 3}\n",
    "train['Embarked'] = train['Embarked'].map(embarked_mapping)\n",
    "test['Embarked'] = test['Embarked'].map(embarked_mapping)\n",
    "\n",
    "train.head()"
   ]
  },
  {
   "cell_type": "markdown",
   "metadata": {
    "_cell_guid": "b8fde41b-1ab3-47f3-8d53-73ac20e838e5",
    "_uuid": "4020a321be8fc14e67aafa5158c7da2dbbe0951f"
   },
   "source": [
    "### Fare Feature\n",
    "It's time separate the fare values into some logical groups as well as filling in the single missing value in the test dataset."
   ]
  },
  {
   "cell_type": "code",
<<<<<<< HEAD
   "execution_count": 77,
=======
   "execution_count": 56,
>>>>>>> 637820ec704844114c0182c69fae6f202aa19823
   "metadata": {
    "_cell_guid": "98471d35-2eb7-4926-9efb-056e2e2c2c4f",
    "_uuid": "4410a1dd3ac0c37b46193079459c630611755c17"
   },
   "outputs": [],
   "source": [
    "#fill in missing Fare value in test set based on mean fare for that Pclass \n",
    "for x in range(len(test[\"Fare\"])):\n",
    "    if pd.isnull(test[\"Fare\"][x]):\n",
    "        pclass = test[\"Pclass\"][x] #Pclass = 3\n",
    "        test[\"Fare\"][x] = round(train[train[\"Pclass\"] == pclass][\"Fare\"].mean(), 4)\n",
    "        \n",
    "#map Fare values into groups of numerical values\n",
    "train['FareBand'] = pd.qcut(train['Fare'], 4, labels = [1, 2, 3, 4])\n",
    "test['FareBand'] = pd.qcut(test['Fare'], 4, labels = [1, 2, 3, 4])\n",
    "\n",
<<<<<<< HEAD
    "#drop Fare value\n",
=======
    "#drop Fare values\n",
>>>>>>> 637820ec704844114c0182c69fae6f202aa19823
    "train = train.drop(['Fare'], axis = 1)\n",
    "test = test.drop(['Fare'], axis = 1)"
   ]
  },
  {
   "cell_type": "code",
<<<<<<< HEAD
   "execution_count": 78,
=======
   "execution_count": 57,
>>>>>>> 637820ec704844114c0182c69fae6f202aa19823
   "metadata": {
    "_cell_guid": "aa65ff69-b6ec-4cdd-b83b-7537b1e64c35",
    "_uuid": "f0a528cfdba4bc0e10bf14b3a74408a366632e44"
   },
   "outputs": [
    {
<<<<<<< HEAD
     "data": {
      "text/html": [
       "<div>\n",
       "<style scoped>\n",
       "    .dataframe tbody tr th:only-of-type {\n",
       "        vertical-align: middle;\n",
       "    }\n",
       "\n",
       "    .dataframe tbody tr th {\n",
       "        vertical-align: top;\n",
       "    }\n",
       "\n",
       "    .dataframe thead th {\n",
       "        text-align: right;\n",
       "    }\n",
       "</style>\n",
       "<table border=\"1\" class=\"dataframe\">\n",
       "  <thead>\n",
       "    <tr style=\"text-align: right;\">\n",
       "      <th></th>\n",
       "      <th>PassengerId</th>\n",
       "      <th>Survived</th>\n",
       "      <th>Pclass</th>\n",
       "      <th>Sex</th>\n",
       "      <th>SibSp</th>\n",
       "      <th>Parch</th>\n",
       "      <th>Embarked</th>\n",
       "      <th>AgeGroup</th>\n",
       "      <th>CabinBool</th>\n",
       "      <th>Title</th>\n",
       "      <th>FareBand</th>\n",
       "    </tr>\n",
       "  </thead>\n",
       "  <tbody>\n",
       "    <tr>\n",
       "      <th>0</th>\n",
       "      <td>1</td>\n",
       "      <td>0</td>\n",
       "      <td>3</td>\n",
       "      <td>0</td>\n",
       "      <td>1</td>\n",
       "      <td>0</td>\n",
       "      <td>1</td>\n",
       "      <td>4</td>\n",
       "      <td>0</td>\n",
       "      <td>1</td>\n",
       "      <td>1</td>\n",
       "    </tr>\n",
       "    <tr>\n",
       "      <th>1</th>\n",
       "      <td>2</td>\n",
       "      <td>1</td>\n",
       "      <td>1</td>\n",
       "      <td>1</td>\n",
       "      <td>1</td>\n",
       "      <td>0</td>\n",
       "      <td>2</td>\n",
       "      <td>6</td>\n",
       "      <td>1</td>\n",
       "      <td>3</td>\n",
       "      <td>4</td>\n",
       "    </tr>\n",
       "    <tr>\n",
       "      <th>2</th>\n",
       "      <td>3</td>\n",
       "      <td>1</td>\n",
       "      <td>3</td>\n",
       "      <td>1</td>\n",
       "      <td>0</td>\n",
       "      <td>0</td>\n",
       "      <td>1</td>\n",
       "      <td>5</td>\n",
       "      <td>0</td>\n",
       "      <td>2</td>\n",
       "      <td>2</td>\n",
       "    </tr>\n",
       "    <tr>\n",
       "      <th>3</th>\n",
       "      <td>4</td>\n",
       "      <td>1</td>\n",
       "      <td>1</td>\n",
       "      <td>1</td>\n",
       "      <td>1</td>\n",
       "      <td>0</td>\n",
       "      <td>1</td>\n",
       "      <td>5</td>\n",
       "      <td>1</td>\n",
       "      <td>3</td>\n",
       "      <td>4</td>\n",
       "    </tr>\n",
       "    <tr>\n",
       "      <th>4</th>\n",
       "      <td>5</td>\n",
       "      <td>0</td>\n",
       "      <td>3</td>\n",
       "      <td>0</td>\n",
       "      <td>0</td>\n",
       "      <td>0</td>\n",
       "      <td>1</td>\n",
       "      <td>5</td>\n",
       "      <td>0</td>\n",
       "      <td>1</td>\n",
       "      <td>2</td>\n",
       "    </tr>\n",
       "  </tbody>\n",
       "</table>\n",
       "</div>"
      ],
      "text/plain": [
       "   PassengerId  Survived  Pclass  Sex  SibSp  Parch  Embarked  AgeGroup  \\\n",
       "0            1         0       3    0      1      0         1         4   \n",
       "1            2         1       1    1      1      0         2         6   \n",
       "2            3         1       3    1      0      0         1         5   \n",
       "3            4         1       1    1      1      0         1         5   \n",
       "4            5         0       3    0      0      0         1         5   \n",
       "\n",
       "   CabinBool  Title FareBand  \n",
       "0          0      1        1  \n",
       "1          1      3        4  \n",
       "2          0      2        2  \n",
       "3          1      3        4  \n",
       "4          0      1        2  "
      ]
     },
     "execution_count": 78,
     "metadata": {},
     "output_type": "execute_result"
=======
     "name": "stdout",
     "output_type": "stream",
     "text": [
      "<class 'pandas.core.frame.DataFrame'>\n",
      "RangeIndex: 891 entries, 0 to 890\n",
      "Data columns (total 11 columns):\n",
      "PassengerId    891 non-null int64\n",
      "Survived       891 non-null int64\n",
      "Pclass         891 non-null int64\n",
      "Sex            891 non-null int64\n",
      "SibSp          891 non-null int64\n",
      "Parch          891 non-null int64\n",
      "Embarked       891 non-null int64\n",
      "AgeGroup       891 non-null int64\n",
      "CabinBool      891 non-null int32\n",
      "Title          891 non-null int64\n",
      "FareBand       891 non-null category\n",
      "dtypes: category(1), int32(1), int64(9)\n",
      "memory usage: 67.3 KB\n"
     ]
>>>>>>> 637820ec704844114c0182c69fae6f202aa19823
    }
   ],
   "source": [
    "#check train data\n",
<<<<<<< HEAD
    "train.head()"
=======
    "train.info()"
>>>>>>> 637820ec704844114c0182c69fae6f202aa19823
   ]
  },
  {
   "cell_type": "code",
<<<<<<< HEAD
   "execution_count": 79,
=======
   "execution_count": 58,
>>>>>>> 637820ec704844114c0182c69fae6f202aa19823
   "metadata": {
    "_cell_guid": "7b7ccca3-e1cf-4f39-8ac6-c0e1e0ca1109",
    "_uuid": "2696d461065a82ceeab852407438287a4cae3293"
   },
   "outputs": [
    {
     "data": {
      "text/html": [
       "<div>\n",
       "<style scoped>\n",
       "    .dataframe tbody tr th:only-of-type {\n",
       "        vertical-align: middle;\n",
       "    }\n",
       "\n",
       "    .dataframe tbody tr th {\n",
       "        vertical-align: top;\n",
       "    }\n",
       "\n",
       "    .dataframe thead th {\n",
       "        text-align: right;\n",
       "    }\n",
       "</style>\n",
       "<table border=\"1\" class=\"dataframe\">\n",
       "  <thead>\n",
       "    <tr style=\"text-align: right;\">\n",
       "      <th></th>\n",
       "      <th>PassengerId</th>\n",
       "      <th>Pclass</th>\n",
       "      <th>Sex</th>\n",
       "      <th>SibSp</th>\n",
       "      <th>Parch</th>\n",
       "      <th>Embarked</th>\n",
       "      <th>AgeGroup</th>\n",
       "      <th>CabinBool</th>\n",
       "      <th>Title</th>\n",
       "      <th>FareBand</th>\n",
       "    </tr>\n",
       "  </thead>\n",
       "  <tbody>\n",
       "    <tr>\n",
       "      <th>0</th>\n",
       "      <td>892</td>\n",
       "      <td>3</td>\n",
       "      <td>0</td>\n",
       "      <td>0</td>\n",
       "      <td>0</td>\n",
       "      <td>3</td>\n",
       "      <td>5</td>\n",
       "      <td>0</td>\n",
       "      <td>1</td>\n",
       "      <td>1</td>\n",
       "    </tr>\n",
       "    <tr>\n",
       "      <th>1</th>\n",
       "      <td>893</td>\n",
       "      <td>3</td>\n",
       "      <td>1</td>\n",
       "      <td>1</td>\n",
       "      <td>0</td>\n",
       "      <td>1</td>\n",
       "      <td>6</td>\n",
       "      <td>0</td>\n",
       "      <td>3</td>\n",
       "      <td>1</td>\n",
       "    </tr>\n",
       "    <tr>\n",
       "      <th>2</th>\n",
       "      <td>894</td>\n",
       "      <td>2</td>\n",
       "      <td>0</td>\n",
       "      <td>0</td>\n",
       "      <td>0</td>\n",
       "      <td>3</td>\n",
       "      <td>7</td>\n",
       "      <td>0</td>\n",
       "      <td>1</td>\n",
       "      <td>2</td>\n",
       "    </tr>\n",
       "    <tr>\n",
       "      <th>3</th>\n",
       "      <td>895</td>\n",
       "      <td>3</td>\n",
       "      <td>0</td>\n",
       "      <td>0</td>\n",
       "      <td>0</td>\n",
       "      <td>1</td>\n",
       "      <td>5</td>\n",
       "      <td>0</td>\n",
       "      <td>1</td>\n",
       "      <td>2</td>\n",
       "    </tr>\n",
       "    <tr>\n",
       "      <th>4</th>\n",
       "      <td>896</td>\n",
       "      <td>3</td>\n",
       "      <td>1</td>\n",
       "      <td>1</td>\n",
       "      <td>1</td>\n",
       "      <td>1</td>\n",
       "      <td>4</td>\n",
       "      <td>0</td>\n",
       "      <td>3</td>\n",
       "      <td>2</td>\n",
       "    </tr>\n",
       "  </tbody>\n",
       "</table>\n",
       "</div>"
      ],
      "text/plain": [
       "   PassengerId  Pclass  Sex  SibSp  Parch  Embarked  AgeGroup  CabinBool  \\\n",
       "0          892       3    0      0      0         3         5          0   \n",
       "1          893       3    1      1      0         1         6          0   \n",
       "2          894       2    0      0      0         3         7          0   \n",
       "3          895       3    0      0      0         1         5          0   \n",
       "4          896       3    1      1      1         1         4          0   \n",
       "\n",
       "   Title FareBand  \n",
       "0      1        1  \n",
       "1      3        1  \n",
       "2      1        2  \n",
       "3      1        2  \n",
       "4      3        2  "
      ]
     },
<<<<<<< HEAD
     "execution_count": 79,
=======
     "execution_count": 58,
>>>>>>> 637820ec704844114c0182c69fae6f202aa19823
     "metadata": {},
     "output_type": "execute_result"
    }
   ],
   "source": [
    "#check test data\n",
    "test.head()"
   ]
  },
  {
   "cell_type": "markdown",
   "metadata": {
    "_cell_guid": "b342b59d-501b-4711-8620-206ff34659ab",
    "_uuid": "21c87e41c2d99d5b4e2adee35247a95f23937447"
   },
   "source": [
    "## 6) Choosing the Best Model"
   ]
  },
  {
   "cell_type": "markdown",
   "metadata": {
    "_cell_guid": "ca81a095-9158-4dcf-b958-d1a8b5f466e9",
    "_uuid": "d9e2da09d1eff694aaec49cf0c68ebf4e0af1722"
   },
   "source": [
    "### Splitting the Training Data\n",
    "We will use part of our training data (22% in this case) to test the accuracy of our different models."
   ]
  },
  {
   "cell_type": "code",
<<<<<<< HEAD
   "execution_count": 80,
=======
   "execution_count": 59,
>>>>>>> 637820ec704844114c0182c69fae6f202aa19823
   "metadata": {
    "_cell_guid": "65691654-bbaf-4e13-9258-85033c0ecc21",
    "_uuid": "27b2aeb0b61c309dcbcd33d4adc37f6da14763fa"
   },
   "outputs": [],
   "source": [
    "from sklearn.model_selection import train_test_split\n",
    "\n",
    "predictors = train.drop(['Survived', 'PassengerId'], axis=1)\n",
    "target = train[\"Survived\"]\n",
    "x_train, x_val, y_train, y_val = train_test_split(predictors, target, test_size = 0.22, random_state = 0)"
   ]
  },
  {
   "cell_type": "markdown",
   "metadata": {
    "_cell_guid": "88dded62-0c57-499c-9588-4f74816b15b2",
    "_uuid": "fd9a6356a5a629243a771e47e1e64f2f579f96ef"
   },
   "source": [
    "### Testing Different Models\n",
    "I will be testing the following models with my training data (got the list from [here](http://https://www.kaggle.com/startupsci/titanic-data-science-solutions)):\n",
    "* Gaussian Naive Bayes\n",
    "* Logistic Regression\n",
    "* Support Vector Machines\n",
    "* Perceptron\n",
    "* Decision Tree Classifier\n",
    "* Random Forest Classifier\n",
    "* KNN or k-Nearest Neighbors\n",
    "* Stochastic Gradient Descent\n",
    "* Gradient Boosting Classifier\n",
    "\n",
    "For each model, we set the model, fit it with 80% of our training data, predict for 20% of the training data and check the accuracy."
   ]
  },
  {
   "cell_type": "code",
<<<<<<< HEAD
   "execution_count": 81,
=======
   "execution_count": 60,
>>>>>>> 637820ec704844114c0182c69fae6f202aa19823
   "metadata": {
    "_cell_guid": "09621103-fb65-4a5a-a3ed-11ca8220532e",
    "_uuid": "aef1d16c06bbf392b076aa5793899f6f4d0a1bfd"
   },
   "outputs": [
    {
     "name": "stdout",
     "output_type": "stream",
     "text": [
      "78.68\n"
     ]
    }
   ],
   "source": [
    "# Gaussian Naive Bayes\n",
    "from sklearn.naive_bayes import GaussianNB\n",
    "from sklearn.metrics import accuracy_score\n",
    "\n",
    "gaussian = GaussianNB()\n",
    "gaussian.fit(x_train, y_train)\n",
    "y_pred = gaussian.predict(x_val)\n",
    "acc_gaussian = round(accuracy_score(y_pred, y_val) * 100, 2)\n",
    "print(acc_gaussian)"
   ]
  },
  {
   "cell_type": "code",
<<<<<<< HEAD
   "execution_count": 82,
=======
   "execution_count": 61,
>>>>>>> 637820ec704844114c0182c69fae6f202aa19823
   "metadata": {
    "_cell_guid": "bcfef788-53b1-47b3-9415-89b551840bd7",
    "_uuid": "7d3745861c316a25489e7c03c7de706fa00f0303"
   },
   "outputs": [
    {
     "name": "stdout",
     "output_type": "stream",
     "text": [
      "79.19\n"
     ]
    }
   ],
   "source": [
    "# Logistic Regression\n",
    "from sklearn.linear_model import LogisticRegression\n",
    "\n",
    "logreg = LogisticRegression()\n",
    "logreg.fit(x_train, y_train)\n",
    "y_pred = logreg.predict(x_val)\n",
    "acc_logreg = round(accuracy_score(y_pred, y_val) * 100, 2)\n",
    "print(acc_logreg)"
   ]
  },
  {
   "cell_type": "code",
<<<<<<< HEAD
   "execution_count": 83,
=======
   "execution_count": 62,
>>>>>>> 637820ec704844114c0182c69fae6f202aa19823
   "metadata": {
    "_cell_guid": "56dac308-6168-4b68-b6b9-41687e187441",
    "_uuid": "3e665ac1a91527d72a54f743fb00f2a44b54e53b"
   },
   "outputs": [
    {
     "name": "stdout",
     "output_type": "stream",
     "text": [
      "82.74\n"
     ]
    }
   ],
   "source": [
    "# Support Vector Machines\n",
    "from sklearn.svm import SVC\n",
    "\n",
    "svc = SVC()\n",
    "svc.fit(x_train, y_train)\n",
    "y_pred = svc.predict(x_val)\n",
    "acc_svc = round(accuracy_score(y_pred, y_val) * 100, 2)\n",
    "print(acc_svc)"
   ]
  },
  {
   "cell_type": "code",
<<<<<<< HEAD
   "execution_count": 84,
=======
   "execution_count": 63,
>>>>>>> 637820ec704844114c0182c69fae6f202aa19823
   "metadata": {
    "_cell_guid": "d67c8296-38d6-4887-a314-6858b43a985e",
    "_uuid": "f6b0e28b01c274883bb8eda2e11972bed895ce86"
   },
   "outputs": [
    {
     "name": "stdout",
     "output_type": "stream",
     "text": [
      "78.17\n"
     ]
    }
   ],
   "source": [
    "# Linear SVC\n",
    "from sklearn.svm import LinearSVC\n",
    "\n",
    "linear_svc = LinearSVC()\n",
    "linear_svc.fit(x_train, y_train)\n",
    "y_pred = linear_svc.predict(x_val)\n",
    "acc_linear_svc = round(accuracy_score(y_pred, y_val) * 100, 2)\n",
    "print(acc_linear_svc)"
   ]
  },
  {
   "cell_type": "code",
<<<<<<< HEAD
   "execution_count": 85,
=======
   "execution_count": 64,
>>>>>>> 637820ec704844114c0182c69fae6f202aa19823
   "metadata": {
    "_cell_guid": "649c3e1b-0212-4102-b106-c365eb1aca76",
    "_uuid": "5093a9c5c2856bb4a3adb4c6d22f7bbad20b9f6b"
   },
   "outputs": [
    {
     "name": "stdout",
     "output_type": "stream",
     "text": [
      "79.19\n"
     ]
    }
   ],
   "source": [
    "# Perceptron\n",
    "from sklearn.linear_model import Perceptron\n",
    "\n",
    "perceptron = Perceptron()\n",
    "perceptron.fit(x_train, y_train)\n",
    "y_pred = perceptron.predict(x_val)\n",
    "acc_perceptron = round(accuracy_score(y_pred, y_val) * 100, 2)\n",
    "print(acc_perceptron)"
   ]
  },
  {
   "cell_type": "code",
<<<<<<< HEAD
   "execution_count": 86,
=======
   "execution_count": 65,
>>>>>>> 637820ec704844114c0182c69fae6f202aa19823
   "metadata": {
    "_cell_guid": "6fcd6c44-6611-44e5-a198-005f97891994",
    "_uuid": "e31d8c0a7ad10221e77309cd80f33439ccfdb746"
   },
   "outputs": [
    {
     "name": "stdout",
     "output_type": "stream",
     "text": [
<<<<<<< HEAD
      "79.19\n"
=======
      "80.2\n"
>>>>>>> 637820ec704844114c0182c69fae6f202aa19823
     ]
    }
   ],
   "source": [
    "#Decision Tree\n",
    "from sklearn.tree import DecisionTreeClassifier\n",
    "\n",
    "decisiontree = DecisionTreeClassifier()\n",
    "decisiontree.fit(x_train, y_train)\n",
    "y_pred = decisiontree.predict(x_val)\n",
    "acc_decisiontree = round(accuracy_score(y_pred, y_val) * 100, 2)\n",
    "print(acc_decisiontree)"
   ]
  },
  {
   "cell_type": "code",
<<<<<<< HEAD
   "execution_count": 87,
=======
   "execution_count": 66,
>>>>>>> 637820ec704844114c0182c69fae6f202aa19823
   "metadata": {
    "_cell_guid": "6a91127f-dc04-4b1d-9072-fa155869c0ab",
    "_uuid": "f5dd894aaf3ba31c3c4b151bc83e1fd6298312b9"
   },
   "outputs": [
    {
     "name": "stdout",
     "output_type": "stream",
     "text": [
<<<<<<< HEAD
      "82.74\n"
=======
      "83.25\n"
>>>>>>> 637820ec704844114c0182c69fae6f202aa19823
     ]
    }
   ],
   "source": [
    "# Random Forest\n",
    "from sklearn.ensemble import RandomForestClassifier\n",
    "\n",
    "randomforest = RandomForestClassifier()\n",
    "randomforest.fit(x_train, y_train)\n",
    "y_pred = randomforest.predict(x_val)\n",
    "acc_randomforest = round(accuracy_score(y_pred, y_val) * 100, 2)\n",
    "print(acc_randomforest)"
   ]
  },
  {
   "cell_type": "code",
<<<<<<< HEAD
   "execution_count": 88,
=======
   "execution_count": 67,
>>>>>>> 637820ec704844114c0182c69fae6f202aa19823
   "metadata": {
    "_cell_guid": "cf3742ce-e4ba-4b97-80fe-f0dbc1255ca4",
    "_uuid": "dd4b169685df45ef10647fe48f9309cf01bdefc1"
   },
   "outputs": [
    {
     "name": "stdout",
     "output_type": "stream",
     "text": [
<<<<<<< HEAD
      "81.22\n"
=======
      "77.66\n"
>>>>>>> 637820ec704844114c0182c69fae6f202aa19823
     ]
    }
   ],
   "source": [
    "# KNN or k-Nearest Neighbors\n",
    "from sklearn.neighbors import KNeighborsClassifier\n",
    "\n",
    "knn = KNeighborsClassifier(n_neighbors=9)\n",
    "knn.fit(x_train, y_train)\n",
    "y_pred = knn.predict(x_val)\n",
    "acc_knn = round(accuracy_score(y_pred, y_val) * 100, 2)\n",
    "print(acc_knn)"
   ]
  },
  {
   "cell_type": "code",
<<<<<<< HEAD
   "execution_count": 89,
=======
   "execution_count": 68,
>>>>>>> 637820ec704844114c0182c69fae6f202aa19823
   "metadata": {
    "_cell_guid": "39e44b70-bb5f-4f8b-9f54-cce63133f026",
    "_uuid": "18f62721f191cada9a368c22c76f30bbc97255e0"
   },
   "outputs": [
    {
     "name": "stdout",
     "output_type": "stream",
     "text": [
<<<<<<< HEAD
      "79.7\n"
=======
      "78.17\n"
>>>>>>> 637820ec704844114c0182c69fae6f202aa19823
     ]
    }
   ],
   "source": [
    "# Stochastic Gradient Descent\n",
    "from sklearn.linear_model import SGDClassifier\n",
    "\n",
    "sgd = SGDClassifier()\n",
    "sgd.fit(x_train, y_train)\n",
    "y_pred = sgd.predict(x_val)\n",
    "acc_sgd = round(accuracy_score(y_pred, y_val) * 100, 2)\n",
    "print(acc_sgd)"
   ]
  },
  {
   "cell_type": "code",
<<<<<<< HEAD
   "execution_count": 90,
=======
   "execution_count": 69,
>>>>>>> 637820ec704844114c0182c69fae6f202aa19823
   "metadata": {
    "_cell_guid": "5716dd13-ca67-4651-9e58-02a1fb59189a",
    "_uuid": "5c1099ee0d5ad5bc1e4f96ee825c36afe2611fbd"
   },
   "outputs": [
    {
     "name": "stdout",
     "output_type": "stream",
     "text": [
      "84.77\n"
     ]
    }
   ],
   "source": [
    "# Gradient Boosting Classifier\n",
    "from sklearn.ensemble import GradientBoostingClassifier\n",
    "\n",
    "gbk = GradientBoostingClassifier()\n",
    "gbk.fit(x_train, y_train)\n",
    "y_pred = gbk.predict(x_val)\n",
    "acc_gbk = round(accuracy_score(y_pred, y_val) * 100, 2)\n",
    "print(acc_gbk)"
   ]
  },
  {
   "cell_type": "code",
   "execution_count": 91,
   "metadata": {
    "_cell_guid": "5716dd13-ca67-4651-9e58-02a1fb59189a",
    "_uuid": "5c1099ee0d5ad5bc1e4f96ee825c36afe2611fbd"
   },
   "outputs": [
    {
     "name": "stdout",
     "output_type": "stream",
     "text": [
      "78.68\n"
     ]
    }
   ],
   "source": [
    "# Gradient Boosting Classifier\n",
    "from sklearn.naive_bayes import GaussianNB\n",
    "\n",
    "gbk = GaussianNB()\n",
    "gbk.fit(x_train, y_train)\n",
    "y_pred = gbk.predict(x_val)\n",
    "acc_gbk = round(accuracy_score(y_pred, y_val) * 100, 2)\n",
    "print(acc_gbk)"
   ]
  },
  {
   "cell_type": "markdown",
   "metadata": {
    "_cell_guid": "85e950c5-9ea6-4bde-8cb0-e80597bef1d1",
    "_uuid": "d2687f72c78aa8d139549ee8d0b8fd6b77e064ac"
   },
   "source": [
    "Let's compare the accuracies of each model!"
   ]
  },
  {
   "cell_type": "code",
<<<<<<< HEAD
   "execution_count": 92,
=======
   "execution_count": 70,
>>>>>>> 637820ec704844114c0182c69fae6f202aa19823
   "metadata": {
    "_cell_guid": "351eede6-d162-4420-a2f4-8637f40c4a2d",
    "_uuid": "230e7f53405181667f229b15700329f372725c10"
   },
   "outputs": [
    {
     "data": {
      "text/html": [
       "<div>\n",
       "<style scoped>\n",
       "    .dataframe tbody tr th:only-of-type {\n",
       "        vertical-align: middle;\n",
       "    }\n",
       "\n",
       "    .dataframe tbody tr th {\n",
       "        vertical-align: top;\n",
       "    }\n",
       "\n",
       "    .dataframe thead th {\n",
       "        text-align: right;\n",
       "    }\n",
       "</style>\n",
       "<table border=\"1\" class=\"dataframe\">\n",
       "  <thead>\n",
       "    <tr style=\"text-align: right;\">\n",
       "      <th></th>\n",
       "      <th>Model</th>\n",
       "      <th>Score</th>\n",
       "    </tr>\n",
       "  </thead>\n",
       "  <tbody>\n",
       "    <tr>\n",
<<<<<<< HEAD
       "      <th>0</th>\n",
       "      <td>Support Vector Machines</td>\n",
       "      <td>82.74</td>\n",
=======
       "      <th>9</th>\n",
       "      <td>Gradient Boosting Classifier</td>\n",
       "      <td>84.77</td>\n",
>>>>>>> 637820ec704844114c0182c69fae6f202aa19823
       "    </tr>\n",
       "    <tr>\n",
       "      <th>3</th>\n",
       "      <td>Random Forest</td>\n",
<<<<<<< HEAD
       "      <td>82.74</td>\n",
       "    </tr>\n",
       "    <tr>\n",
       "      <th>1</th>\n",
       "      <td>KNN</td>\n",
       "      <td>81.22</td>\n",
       "    </tr>\n",
       "    <tr>\n",
       "      <th>8</th>\n",
       "      <td>Stochastic Gradient Descent</td>\n",
       "      <td>79.70</td>\n",
=======
       "      <td>83.25</td>\n",
       "    </tr>\n",
       "    <tr>\n",
       "      <th>0</th>\n",
       "      <td>Support Vector Machines</td>\n",
       "      <td>82.74</td>\n",
       "    </tr>\n",
       "    <tr>\n",
       "      <th>7</th>\n",
       "      <td>Decision Tree</td>\n",
       "      <td>80.20</td>\n",
>>>>>>> 637820ec704844114c0182c69fae6f202aa19823
       "    </tr>\n",
       "    <tr>\n",
       "      <th>2</th>\n",
       "      <td>Logistic Regression</td>\n",
       "      <td>79.19</td>\n",
       "    </tr>\n",
       "    <tr>\n",
       "      <th>5</th>\n",
       "      <td>Perceptron</td>\n",
       "      <td>79.19</td>\n",
       "    </tr>\n",
       "    <tr>\n",
<<<<<<< HEAD
       "      <th>7</th>\n",
       "      <td>Decision Tree</td>\n",
       "      <td>79.19</td>\n",
       "    </tr>\n",
       "    <tr>\n",
=======
>>>>>>> 637820ec704844114c0182c69fae6f202aa19823
       "      <th>4</th>\n",
       "      <td>Naive Bayes</td>\n",
       "      <td>78.68</td>\n",
       "    </tr>\n",
       "    <tr>\n",
<<<<<<< HEAD
       "      <th>9</th>\n",
       "      <td>Gradient Boosting Classifier</td>\n",
       "      <td>78.68</td>\n",
       "    </tr>\n",
       "    <tr>\n",
=======
>>>>>>> 637820ec704844114c0182c69fae6f202aa19823
       "      <th>6</th>\n",
       "      <td>Linear SVC</td>\n",
       "      <td>78.17</td>\n",
       "    </tr>\n",
<<<<<<< HEAD
=======
       "    <tr>\n",
       "      <th>8</th>\n",
       "      <td>Stochastic Gradient Descent</td>\n",
       "      <td>78.17</td>\n",
       "    </tr>\n",
       "    <tr>\n",
       "      <th>1</th>\n",
       "      <td>KNN</td>\n",
       "      <td>77.66</td>\n",
       "    </tr>\n",
>>>>>>> 637820ec704844114c0182c69fae6f202aa19823
       "  </tbody>\n",
       "</table>\n",
       "</div>"
      ],
      "text/plain": [
       "                          Model  Score\n",
<<<<<<< HEAD
       "0       Support Vector Machines  82.74\n",
       "3                 Random Forest  82.74\n",
       "1                           KNN  81.22\n",
       "8   Stochastic Gradient Descent  79.70\n",
       "2           Logistic Regression  79.19\n",
       "5                    Perceptron  79.19\n",
       "7                 Decision Tree  79.19\n",
       "4                   Naive Bayes  78.68\n",
       "9  Gradient Boosting Classifier  78.68\n",
       "6                    Linear SVC  78.17"
      ]
     },
     "execution_count": 92,
=======
       "9  Gradient Boosting Classifier  84.77\n",
       "3                 Random Forest  83.25\n",
       "0       Support Vector Machines  82.74\n",
       "7                 Decision Tree  80.20\n",
       "2           Logistic Regression  79.19\n",
       "5                    Perceptron  79.19\n",
       "4                   Naive Bayes  78.68\n",
       "6                    Linear SVC  78.17\n",
       "8   Stochastic Gradient Descent  78.17\n",
       "1                           KNN  77.66"
      ]
     },
     "execution_count": 70,
>>>>>>> 637820ec704844114c0182c69fae6f202aa19823
     "metadata": {},
     "output_type": "execute_result"
    }
   ],
   "source": [
    "models = pd.DataFrame({\n",
    "    'Model': ['Support Vector Machines', 'KNN', 'Logistic Regression', \n",
    "              'Random Forest', 'Naive Bayes', 'Perceptron', 'Linear SVC', \n",
    "              'Decision Tree', 'Stochastic Gradient Descent', 'Gradient Boosting Classifier'],\n",
    "    'Score': [acc_svc, acc_knn, acc_logreg, \n",
    "              acc_randomforest, acc_gaussian, acc_perceptron,acc_linear_svc, acc_decisiontree,\n",
    "              acc_sgd, acc_gbk]})\n",
    "models.sort_values(by='Score', ascending=False)"
   ]
  },
  {
   "cell_type": "markdown",
   "metadata": {
    "_cell_guid": "4ed41dc9-f44d-4d34-8567-348e6d3ca08e",
    "_uuid": "1364d92cd96cd62fc0c9c7075e2caf3b059602af"
   },
   "source": [
    "I decided to use the Random Forest model for the testing data."
   ]
  },
  {
   "cell_type": "markdown",
   "metadata": {
    "_cell_guid": "edcb3381-4966-49b4-b691-b4d9aef3648b",
    "_uuid": "6e7a28331e10320ba474613f6976d8ad7fdbc90c"
   },
   "source": [
    "## 7) Creating Submission File\n",
    "It's time to create a submission.csv file to upload to the Kaggle competition!"
   ]
  },
  {
   "cell_type": "code",
<<<<<<< HEAD
   "execution_count": 93,
=======
   "execution_count": 71,
>>>>>>> 637820ec704844114c0182c69fae6f202aa19823
   "metadata": {
    "_cell_guid": "80ce3172-48b5-4271-ae67-0c647a0bbd4a",
    "_uuid": "1735274da7676c0c752592b0b619b6dc56ea914e"
   },
   "outputs": [
    {
     "ename": "NameError",
     "evalue": "name 'rf_cv' is not defined",
     "output_type": "error",
     "traceback": [
<<<<<<< HEAD
      "\u001b[0;31m---------------------------------------------------------------------------\u001b[0m",
      "\u001b[0;31mNameError\u001b[0m                                 Traceback (most recent call last)",
      "\u001b[0;32m<ipython-input-93-c48afd1f23c4>\u001b[0m in \u001b[0;36m<module>\u001b[0;34m()\u001b[0m\n\u001b[1;32m      1\u001b[0m \u001b[0;31m#set ids as PassengerId and predict survival\u001b[0m\u001b[0;34m\u001b[0m\u001b[0;34m\u001b[0m\u001b[0m\n\u001b[1;32m      2\u001b[0m \u001b[0mids\u001b[0m \u001b[0;34m=\u001b[0m \u001b[0mtest\u001b[0m\u001b[0;34m[\u001b[0m\u001b[0;34m'PassengerId'\u001b[0m\u001b[0;34m]\u001b[0m\u001b[0;34m\u001b[0m\u001b[0m\n\u001b[0;32m----> 3\u001b[0;31m \u001b[0mpredictions\u001b[0m \u001b[0;34m=\u001b[0m \u001b[0mrf_cv\u001b[0m\u001b[0;34m.\u001b[0m\u001b[0mpredict\u001b[0m\u001b[0;34m(\u001b[0m\u001b[0mtest\u001b[0m\u001b[0;34m.\u001b[0m\u001b[0mdrop\u001b[0m\u001b[0;34m(\u001b[0m\u001b[0;34m'PassengerId'\u001b[0m\u001b[0;34m,\u001b[0m \u001b[0maxis\u001b[0m\u001b[0;34m=\u001b[0m\u001b[0;36m1\u001b[0m\u001b[0;34m)\u001b[0m\u001b[0;34m)\u001b[0m\u001b[0;34m\u001b[0m\u001b[0m\n\u001b[0m\u001b[1;32m      4\u001b[0m \u001b[0;34m\u001b[0m\u001b[0m\n\u001b[1;32m      5\u001b[0m \u001b[0;31m#set the output as a dataframe and convert to csv file named submission.csv\u001b[0m\u001b[0;34m\u001b[0m\u001b[0;34m\u001b[0m\u001b[0m\n",
      "\u001b[0;31mNameError\u001b[0m: name 'rf_cv' is not defined"
=======
      "\u001b[1;31m---------------------------------------------------------------------------\u001b[0m",
      "\u001b[1;31mNameError\u001b[0m                                 Traceback (most recent call last)",
      "\u001b[1;32m<ipython-input-71-c48afd1f23c4>\u001b[0m in \u001b[0;36m<module>\u001b[1;34m()\u001b[0m\n\u001b[0;32m      1\u001b[0m \u001b[1;31m#set ids as PassengerId and predict survival\u001b[0m\u001b[1;33m\u001b[0m\u001b[1;33m\u001b[0m\u001b[0m\n\u001b[0;32m      2\u001b[0m \u001b[0mids\u001b[0m \u001b[1;33m=\u001b[0m \u001b[0mtest\u001b[0m\u001b[1;33m[\u001b[0m\u001b[1;34m'PassengerId'\u001b[0m\u001b[1;33m]\u001b[0m\u001b[1;33m\u001b[0m\u001b[0m\n\u001b[1;32m----> 3\u001b[1;33m \u001b[0mpredictions\u001b[0m \u001b[1;33m=\u001b[0m \u001b[0mrf_cv\u001b[0m\u001b[1;33m.\u001b[0m\u001b[0mpredict\u001b[0m\u001b[1;33m(\u001b[0m\u001b[0mtest\u001b[0m\u001b[1;33m.\u001b[0m\u001b[0mdrop\u001b[0m\u001b[1;33m(\u001b[0m\u001b[1;34m'PassengerId'\u001b[0m\u001b[1;33m,\u001b[0m \u001b[0maxis\u001b[0m\u001b[1;33m=\u001b[0m\u001b[1;36m1\u001b[0m\u001b[1;33m)\u001b[0m\u001b[1;33m)\u001b[0m\u001b[1;33m\u001b[0m\u001b[0m\n\u001b[0m\u001b[0;32m      4\u001b[0m \u001b[1;33m\u001b[0m\u001b[0m\n\u001b[0;32m      5\u001b[0m \u001b[1;31m#set the output as a dataframe and convert to csv file named submission.csv\u001b[0m\u001b[1;33m\u001b[0m\u001b[1;33m\u001b[0m\u001b[0m\n",
      "\u001b[1;31mNameError\u001b[0m: name 'rf_cv' is not defined"
>>>>>>> 637820ec704844114c0182c69fae6f202aa19823
     ]
    }
   ],
   "source": [
    "#set ids as PassengerId and predict survival \n",
    "ids = test['PassengerId']\n",
    "predictions = rf_cv.predict(test.drop('PassengerId', axis=1))\n",
    "\n",
    "#set the output as a dataframe and convert to csv file named submission.csv\n",
    "output = pd.DataFrame({ 'PassengerId' : ids, 'Survived': predictions })\n",
    "output.to_csv('submission.csv', index=False)"
   ]
  },
  {
   "cell_type": "markdown",
   "metadata": {
    "_cell_guid": "ce60044e-f4af-42b2-92ea-9d938aea34e2",
    "_uuid": "c0946bfb3798c0744a2412f62ba3f226740062af"
   },
   "source": [
    "If you've come this far, congratulations and thank you for reading! \n",
    "\n",
    "*If you use any part of this notebook in a published kernel, credit (you can simply link back here) would be greatly appreciated. :)*"
   ]
  },
  {
   "cell_type": "markdown",
   "metadata": {
    "_cell_guid": "a6a2d601-fe68-497f-8b34-876c32eb3af6",
    "_uuid": "667f5ccd37ca5a4e2e99ff06982929fa927c5356"
   },
   "source": [
    "## Sources:\n",
    "* [Titanic Data Science Solutions](https://www.kaggle.com/startupsci/titanic-data-science-solutions)\n",
    "* [Scikit-Learn ML from Start to Finish](https://www.kaggle.com/jeffd23/scikit-learn-ml-from-start-to-finish?scriptVersionId=320209)\n",
    "\n",
    "Any and all feedback is welcome! "
   ]
  }
 ],
 "metadata": {
  "kernelspec": {
   "display_name": "Python 3",
   "language": "python",
   "name": "python3"
  },
  "language_info": {
   "codemirror_mode": {
    "name": "ipython",
    "version": 3
   },
   "file_extension": ".py",
   "mimetype": "text/x-python",
   "name": "python",
   "nbconvert_exporter": "python",
   "pygments_lexer": "ipython3",
<<<<<<< HEAD
   "version": "3.6.4"
=======
   "version": "3.6.5"
>>>>>>> 637820ec704844114c0182c69fae6f202aa19823
  },
  "toc": {
   "base_numbering": 1,
   "nav_menu": {},
   "number_sections": false,
   "sideBar": true,
   "skip_h1_title": false,
   "title_cell": "Table of Contents",
   "title_sidebar": "Contents",
   "toc_cell": false,
   "toc_position": {
    "height": "calc(100% - 180px)",
    "left": "10px",
    "top": "150px",
<<<<<<< HEAD
    "width": "288px"
=======
    "width": "497px"
>>>>>>> 637820ec704844114c0182c69fae6f202aa19823
   },
   "toc_section_display": true,
   "toc_window_display": true
  }
 },
 "nbformat": 4,
 "nbformat_minor": 2
}
