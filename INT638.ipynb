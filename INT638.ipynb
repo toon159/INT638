{
 "cells": [
  {
   "cell_type": "markdown",
   "metadata": {},
   "source": [
    "# Data mining with python\n",
    "\n",
    "### Contents\n",
    "1. Import Necessary Libraries\n",
    "2. Read In and Explore the Data\n",
    "3. Data Analysis\n",
    "4. Data Visualization\n",
    "5. Cleaning Data\n",
    "6. Using ML Models\n",
    "\n",
    "### Data dict\n",
    "VariableDefinitionKey \n",
    "* **survival** Survival 0 = No, 1 = Yes \n",
    "* **pclass** Ticket class 1 = 1st, 2 = 2nd, 3 = 3rd \n",
    "* **sex** Sex \n",
    "* **age** Age in years \n",
    "* **sibsp** # of siblings / spouses aboard the Titanic parch # of parents / * children aboard the Titanic \n",
    "* **ticket** Ticket number \n",
    "* **fare** Passenger fare \n",
    "* **cabin** Cabin number \n",
    "* **embarked** Port * of Embarkation C = Cherbourg, Q = Queenstown, S = Southampton\n",
    "\n",
    "**Variable Notes**\n",
    "\n",
    "**pclass**: A proxy for socio-economic status (SES)\n",
    "* 1st = Upper\n",
    "* 2nd = Middle\n",
    "* 3rd = Lower\n",
    "\n",
    "**age**: Age is fractional if less than 1. If the age is estimated, is it in the form of xx.5\n",
    "\n",
    "**sibsp**: The dataset defines family relations in this way...\n",
    "* Sibling = brother, sister, stepbrother, stepsister\n",
    "* Spouse = husband, wife (mistresses and fiancés were ignored)\n",
    "\n",
    "**parch**: The dataset defines family relations in this way...\n",
    "* Parent = mother, father\n",
    "* Child = daughter, son, stepdaughter, stepson\n",
    "* Some children travelled only with a nanny, therefore parch=0 for them."
   ]
  },
  {
   "cell_type": "markdown",
   "metadata": {},
   "source": [
    "## Crisp-DM\n",
    "* Business understanding\n",
    "* Data understanding\n",
    "* Data preparation\n",
    "* Modeling\n",
    "* Evaluation\n",
    "* Deployment"
   ]
  },
  {
   "cell_type": "markdown",
   "metadata": {},
   "source": [
    "## 1. import necessary library"
   ]
  },
  {
   "cell_type": "code",
   "execution_count": 2,
   "metadata": {},
   "outputs": [],
   "source": [
    "# Imports\n",
    "\n",
    "# pandas\n",
    "import pandas as pd\n",
    "\n",
    "# numpy, matplotlib, seaborn\n",
    "import numpy as np\n",
    "import matplotlib.pyplot as plt\n",
    "import seaborn as sns\n",
    "sns.set_style('whitegrid')\n",
    "import graphviz\n",
    "\n",
    "%matplotlib inline"
   ]
  },
  {
   "cell_type": "markdown",
   "metadata": {},
   "source": [
    "## 2. Read In and Explore the Data"
   ]
  },
  {
   "cell_type": "code",
   "execution_count": 3,
   "metadata": {
    "scrolled": false
   },
   "outputs": [
    {
     "data": {
      "text/html": [
       "<div>\n",
       "<style scoped>\n",
       "    .dataframe tbody tr th:only-of-type {\n",
       "        vertical-align: middle;\n",
       "    }\n",
       "\n",
       "    .dataframe tbody tr th {\n",
       "        vertical-align: top;\n",
       "    }\n",
       "\n",
       "    .dataframe thead th {\n",
       "        text-align: right;\n",
       "    }\n",
       "</style>\n",
       "<table border=\"1\" class=\"dataframe\">\n",
       "  <thead>\n",
       "    <tr style=\"text-align: right;\">\n",
       "      <th></th>\n",
       "      <th>PassengerId</th>\n",
       "      <th>Survived</th>\n",
       "      <th>Pclass</th>\n",
       "      <th>Name</th>\n",
       "      <th>Sex</th>\n",
       "      <th>Age</th>\n",
       "      <th>SibSp</th>\n",
       "      <th>Parch</th>\n",
       "      <th>Ticket</th>\n",
       "      <th>Fare</th>\n",
       "      <th>Cabin</th>\n",
       "      <th>Embarked</th>\n",
       "    </tr>\n",
       "  </thead>\n",
       "  <tbody>\n",
       "    <tr>\n",
       "      <th>0</th>\n",
       "      <td>1</td>\n",
       "      <td>0</td>\n",
       "      <td>3</td>\n",
       "      <td>Braund, Mr. Owen Harris</td>\n",
       "      <td>male</td>\n",
       "      <td>22.0</td>\n",
       "      <td>1</td>\n",
       "      <td>0</td>\n",
       "      <td>A/5 21171</td>\n",
       "      <td>7.2500</td>\n",
       "      <td>NaN</td>\n",
       "      <td>S</td>\n",
       "    </tr>\n",
       "    <tr>\n",
       "      <th>1</th>\n",
       "      <td>2</td>\n",
       "      <td>1</td>\n",
       "      <td>1</td>\n",
       "      <td>Cumings, Mrs. John Bradley (Florence Briggs Th...</td>\n",
       "      <td>female</td>\n",
       "      <td>38.0</td>\n",
       "      <td>1</td>\n",
       "      <td>0</td>\n",
       "      <td>PC 17599</td>\n",
       "      <td>71.2833</td>\n",
       "      <td>C85</td>\n",
       "      <td>C</td>\n",
       "    </tr>\n",
       "    <tr>\n",
       "      <th>2</th>\n",
       "      <td>3</td>\n",
       "      <td>1</td>\n",
       "      <td>3</td>\n",
       "      <td>Heikkinen, Miss. Laina</td>\n",
       "      <td>female</td>\n",
       "      <td>26.0</td>\n",
       "      <td>0</td>\n",
       "      <td>0</td>\n",
       "      <td>STON/O2. 3101282</td>\n",
       "      <td>7.9250</td>\n",
       "      <td>NaN</td>\n",
       "      <td>S</td>\n",
       "    </tr>\n",
       "    <tr>\n",
       "      <th>3</th>\n",
       "      <td>4</td>\n",
       "      <td>1</td>\n",
       "      <td>1</td>\n",
       "      <td>Futrelle, Mrs. Jacques Heath (Lily May Peel)</td>\n",
       "      <td>female</td>\n",
       "      <td>35.0</td>\n",
       "      <td>1</td>\n",
       "      <td>0</td>\n",
       "      <td>113803</td>\n",
       "      <td>53.1000</td>\n",
       "      <td>C123</td>\n",
       "      <td>S</td>\n",
       "    </tr>\n",
       "    <tr>\n",
       "      <th>4</th>\n",
       "      <td>5</td>\n",
       "      <td>0</td>\n",
       "      <td>3</td>\n",
       "      <td>Allen, Mr. William Henry</td>\n",
       "      <td>male</td>\n",
       "      <td>35.0</td>\n",
       "      <td>0</td>\n",
       "      <td>0</td>\n",
       "      <td>373450</td>\n",
       "      <td>8.0500</td>\n",
       "      <td>NaN</td>\n",
       "      <td>S</td>\n",
       "    </tr>\n",
       "  </tbody>\n",
       "</table>\n",
       "</div>"
      ],
      "text/plain": [
       "   PassengerId  Survived  Pclass  \\\n",
       "0            1         0       3   \n",
       "1            2         1       1   \n",
       "2            3         1       3   \n",
       "3            4         1       1   \n",
       "4            5         0       3   \n",
       "\n",
       "                                                Name     Sex   Age  SibSp  \\\n",
       "0                            Braund, Mr. Owen Harris    male  22.0      1   \n",
       "1  Cumings, Mrs. John Bradley (Florence Briggs Th...  female  38.0      1   \n",
       "2                             Heikkinen, Miss. Laina  female  26.0      0   \n",
       "3       Futrelle, Mrs. Jacques Heath (Lily May Peel)  female  35.0      1   \n",
       "4                           Allen, Mr. William Henry    male  35.0      0   \n",
       "\n",
       "   Parch            Ticket     Fare Cabin Embarked  \n",
       "0      0         A/5 21171   7.2500   NaN        S  \n",
       "1      0          PC 17599  71.2833   C85        C  \n",
       "2      0  STON/O2. 3101282   7.9250   NaN        S  \n",
       "3      0            113803  53.1000  C123        S  \n",
       "4      0            373450   8.0500   NaN        S  "
      ]
     },
     "execution_count": 3,
     "metadata": {},
     "output_type": "execute_result"
    }
   ],
   "source": [
    "# get titanic & test csv files as a DataFrame\n",
    "df = pd.read_csv(\"./titanic_data_set/train.csv\")\n",
    "\n",
    "# preview the data\n",
    "df.head(5)"
   ]
  },
  {
   "cell_type": "markdown",
   "metadata": {},
   "source": [
    "## 3. Data Analysis"
   ]
  },
  {
   "cell_type": "code",
   "execution_count": 4,
   "metadata": {
    "scrolled": true
   },
   "outputs": [
    {
     "name": "stdout",
     "output_type": "stream",
     "text": [
      "Index(['PassengerId', 'Survived', 'Pclass', 'Name', 'Sex', 'Age', 'SibSp',\n",
      "       'Parch', 'Ticket', 'Fare', 'Cabin', 'Embarked'],\n",
      "      dtype='object') \n",
      " (891, 12)\n"
     ]
    }
   ],
   "source": [
    "# columns\n",
    "print(df.columns, '\\n', df.shape)"
   ]
  },
  {
   "cell_type": "code",
   "execution_count": 5,
   "metadata": {
    "scrolled": true
   },
   "outputs": [
    {
     "data": {
      "text/html": [
       "<div>\n",
       "<style scoped>\n",
       "    .dataframe tbody tr th:only-of-type {\n",
       "        vertical-align: middle;\n",
       "    }\n",
       "\n",
       "    .dataframe tbody tr th {\n",
       "        vertical-align: top;\n",
       "    }\n",
       "\n",
       "    .dataframe thead th {\n",
       "        text-align: right;\n",
       "    }\n",
       "</style>\n",
       "<table border=\"1\" class=\"dataframe\">\n",
       "  <thead>\n",
       "    <tr style=\"text-align: right;\">\n",
       "      <th></th>\n",
       "      <th>PassengerId</th>\n",
       "      <th>Survived</th>\n",
       "      <th>Pclass</th>\n",
       "      <th>Name</th>\n",
       "      <th>Sex</th>\n",
       "      <th>Age</th>\n",
       "      <th>SibSp</th>\n",
       "      <th>Parch</th>\n",
       "      <th>Ticket</th>\n",
       "      <th>Fare</th>\n",
       "      <th>Cabin</th>\n",
       "      <th>Embarked</th>\n",
       "    </tr>\n",
       "  </thead>\n",
       "  <tbody>\n",
       "    <tr>\n",
<<<<<<< HEAD
       "      <th>290</th>\n",
       "      <td>291</td>\n",
       "      <td>1</td>\n",
       "      <td>1</td>\n",
       "      <td>Barber, Miss. Ellen \"Nellie\"</td>\n",
       "      <td>female</td>\n",
       "      <td>26.0</td>\n",
       "      <td>0</td>\n",
       "      <td>0</td>\n",
       "      <td>19877</td>\n",
       "      <td>78.8500</td>\n",
=======
       "      <th>474</th>\n",
       "      <td>475</td>\n",
       "      <td>0</td>\n",
       "      <td>3</td>\n",
       "      <td>Strandberg, Miss. Ida Sofia</td>\n",
       "      <td>female</td>\n",
       "      <td>22.0</td>\n",
       "      <td>0</td>\n",
       "      <td>0</td>\n",
       "      <td>7553</td>\n",
       "      <td>9.8375</td>\n",
>>>>>>> 637820ec704844114c0182c69fae6f202aa19823
       "      <td>NaN</td>\n",
       "      <td>S</td>\n",
       "    </tr>\n",
       "    <tr>\n",
<<<<<<< HEAD
       "      <th>748</th>\n",
       "      <td>749</td>\n",
       "      <td>0</td>\n",
       "      <td>1</td>\n",
       "      <td>Marvin, Mr. Daniel Warner</td>\n",
       "      <td>male</td>\n",
       "      <td>19.0</td>\n",
       "      <td>1</td>\n",
       "      <td>0</td>\n",
       "      <td>113773</td>\n",
       "      <td>53.1000</td>\n",
       "      <td>D30</td>\n",
       "      <td>S</td>\n",
       "    </tr>\n",
       "    <tr>\n",
       "      <th>253</th>\n",
       "      <td>254</td>\n",
       "      <td>0</td>\n",
       "      <td>3</td>\n",
       "      <td>Lobb, Mr. William Arthur</td>\n",
       "      <td>male</td>\n",
       "      <td>30.0</td>\n",
       "      <td>1</td>\n",
       "      <td>0</td>\n",
       "      <td>A/5. 3336</td>\n",
       "      <td>16.1000</td>\n",
=======
       "      <th>14</th>\n",
       "      <td>15</td>\n",
       "      <td>0</td>\n",
       "      <td>3</td>\n",
       "      <td>Vestrom, Miss. Hulda Amanda Adolfina</td>\n",
       "      <td>female</td>\n",
       "      <td>14.0</td>\n",
       "      <td>0</td>\n",
       "      <td>0</td>\n",
       "      <td>350406</td>\n",
       "      <td>7.8542</td>\n",
       "      <td>NaN</td>\n",
       "      <td>S</td>\n",
       "    </tr>\n",
       "    <tr>\n",
       "      <th>158</th>\n",
       "      <td>159</td>\n",
       "      <td>0</td>\n",
       "      <td>3</td>\n",
       "      <td>Smiljanic, Mr. Mile</td>\n",
       "      <td>male</td>\n",
       "      <td>NaN</td>\n",
       "      <td>0</td>\n",
       "      <td>0</td>\n",
       "      <td>315037</td>\n",
       "      <td>8.6625</td>\n",
>>>>>>> 637820ec704844114c0182c69fae6f202aa19823
       "      <td>NaN</td>\n",
       "      <td>S</td>\n",
       "    </tr>\n",
       "    <tr>\n",
<<<<<<< HEAD
       "      <th>651</th>\n",
       "      <td>652</td>\n",
       "      <td>1</td>\n",
       "      <td>2</td>\n",
       "      <td>Doling, Miss. Elsie</td>\n",
       "      <td>female</td>\n",
       "      <td>18.0</td>\n",
       "      <td>0</td>\n",
       "      <td>1</td>\n",
       "      <td>231919</td>\n",
       "      <td>23.0000</td>\n",
=======
       "      <th>455</th>\n",
       "      <td>456</td>\n",
       "      <td>1</td>\n",
       "      <td>3</td>\n",
       "      <td>Jalsevac, Mr. Ivan</td>\n",
       "      <td>male</td>\n",
       "      <td>29.0</td>\n",
       "      <td>0</td>\n",
       "      <td>0</td>\n",
       "      <td>349240</td>\n",
       "      <td>7.8958</td>\n",
>>>>>>> 637820ec704844114c0182c69fae6f202aa19823
       "      <td>NaN</td>\n",
       "      <td>C</td>\n",
       "    </tr>\n",
       "    <tr>\n",
<<<<<<< HEAD
       "      <th>451</th>\n",
       "      <td>452</td>\n",
       "      <td>0</td>\n",
       "      <td>3</td>\n",
       "      <td>Hagland, Mr. Ingvald Olai Olsen</td>\n",
       "      <td>male</td>\n",
       "      <td>NaN</td>\n",
       "      <td>1</td>\n",
       "      <td>0</td>\n",
       "      <td>65303</td>\n",
       "      <td>19.9667</td>\n",
       "      <td>NaN</td>\n",
       "      <td>S</td>\n",
=======
       "      <th>139</th>\n",
       "      <td>140</td>\n",
       "      <td>0</td>\n",
       "      <td>1</td>\n",
       "      <td>Giglio, Mr. Victor</td>\n",
       "      <td>male</td>\n",
       "      <td>24.0</td>\n",
       "      <td>0</td>\n",
       "      <td>0</td>\n",
       "      <td>PC 17593</td>\n",
       "      <td>79.2000</td>\n",
       "      <td>B86</td>\n",
       "      <td>C</td>\n",
>>>>>>> 637820ec704844114c0182c69fae6f202aa19823
       "    </tr>\n",
       "  </tbody>\n",
       "</table>\n",
       "</div>"
      ],
      "text/plain": [
<<<<<<< HEAD
       "     PassengerId  Survived  Pclass                             Name     Sex  \\\n",
       "290          291         1       1     Barber, Miss. Ellen \"Nellie\"  female   \n",
       "748          749         0       1        Marvin, Mr. Daniel Warner    male   \n",
       "253          254         0       3         Lobb, Mr. William Arthur    male   \n",
       "651          652         1       2              Doling, Miss. Elsie  female   \n",
       "451          452         0       3  Hagland, Mr. Ingvald Olai Olsen    male   \n",
       "\n",
       "      Age  SibSp  Parch     Ticket     Fare Cabin Embarked  \n",
       "290  26.0      0      0      19877  78.8500   NaN        S  \n",
       "748  19.0      1      0     113773  53.1000   D30        S  \n",
       "253  30.0      1      0  A/5. 3336  16.1000   NaN        S  \n",
       "651  18.0      0      1     231919  23.0000   NaN        S  \n",
       "451   NaN      1      0      65303  19.9667   NaN        S  "
=======
       "     PassengerId  Survived  Pclass                                  Name  \\\n",
       "474          475         0       3           Strandberg, Miss. Ida Sofia   \n",
       "14            15         0       3  Vestrom, Miss. Hulda Amanda Adolfina   \n",
       "158          159         0       3                   Smiljanic, Mr. Mile   \n",
       "455          456         1       3                    Jalsevac, Mr. Ivan   \n",
       "139          140         0       1                    Giglio, Mr. Victor   \n",
       "\n",
       "        Sex   Age  SibSp  Parch    Ticket     Fare Cabin Embarked  \n",
       "474  female  22.0      0      0      7553   9.8375   NaN        S  \n",
       "14   female  14.0      0      0    350406   7.8542   NaN        S  \n",
       "158    male   NaN      0      0    315037   8.6625   NaN        S  \n",
       "455    male  29.0      0      0    349240   7.8958   NaN        C  \n",
       "139    male  24.0      0      0  PC 17593  79.2000   B86        C  "
>>>>>>> 637820ec704844114c0182c69fae6f202aa19823
      ]
     },
     "execution_count": 5,
     "metadata": {},
     "output_type": "execute_result"
    }
   ],
   "source": [
    "# samples\n",
    "\n",
    "df.sample(5)"
   ]
  },
  {
   "cell_type": "code",
   "execution_count": 6,
   "metadata": {},
   "outputs": [
    {
     "name": "stdout",
     "output_type": "stream",
     "text": [
      "<class 'pandas.core.frame.DataFrame'>\n",
      "RangeIndex: 891 entries, 0 to 890\n",
      "Data columns (total 12 columns):\n",
      "PassengerId    891 non-null int64\n",
      "Survived       891 non-null int64\n",
      "Pclass         891 non-null int64\n",
      "Name           891 non-null object\n",
      "Sex            891 non-null object\n",
      "Age            714 non-null float64\n",
      "SibSp          891 non-null int64\n",
      "Parch          891 non-null int64\n",
      "Ticket         891 non-null object\n",
      "Fare           891 non-null float64\n",
      "Cabin          204 non-null object\n",
      "Embarked       889 non-null object\n",
      "dtypes: float64(2), int64(5), object(5)\n",
      "memory usage: 83.6+ KB\n"
     ]
    }
   ],
   "source": [
    "# there are some null values that need to be cleaned\n",
    "\n",
    "df.info()"
   ]
  },
  {
   "cell_type": "markdown",
   "metadata": {},
   "source": [
    "### Type of Features\n",
    "* **Numerical Features:** Age (Continuous), Fare (Continuous), SibSp (Discrete), Parch (Discrete)\n",
    "* **Categorical Features:** Survived, Sex, Embarked, Pclass\n",
    "* **Alphanumeric Features:** Ticket, Cabin"
   ]
  },
  {
   "cell_type": "code",
   "execution_count": 7,
   "metadata": {},
   "outputs": [
    {
     "data": {
      "text/html": [
       "<div>\n",
       "<style scoped>\n",
       "    .dataframe tbody tr th:only-of-type {\n",
       "        vertical-align: middle;\n",
       "    }\n",
       "\n",
       "    .dataframe tbody tr th {\n",
       "        vertical-align: top;\n",
       "    }\n",
       "\n",
       "    .dataframe thead th {\n",
       "        text-align: right;\n",
       "    }\n",
       "</style>\n",
       "<table border=\"1\" class=\"dataframe\">\n",
       "  <thead>\n",
       "    <tr style=\"text-align: right;\">\n",
       "      <th></th>\n",
       "      <th>PassengerId</th>\n",
       "      <th>Survived</th>\n",
       "      <th>Pclass</th>\n",
       "      <th>Name</th>\n",
       "      <th>Sex</th>\n",
       "      <th>Age</th>\n",
       "      <th>SibSp</th>\n",
       "      <th>Parch</th>\n",
       "      <th>Ticket</th>\n",
       "      <th>Fare</th>\n",
       "      <th>Cabin</th>\n",
       "      <th>Embarked</th>\n",
       "    </tr>\n",
       "  </thead>\n",
       "  <tbody>\n",
       "    <tr>\n",
       "      <th>count</th>\n",
       "      <td>891.000000</td>\n",
       "      <td>891.000000</td>\n",
       "      <td>891.000000</td>\n",
       "      <td>891</td>\n",
       "      <td>891</td>\n",
       "      <td>714.000000</td>\n",
       "      <td>891.000000</td>\n",
       "      <td>891.000000</td>\n",
       "      <td>891</td>\n",
       "      <td>891.000000</td>\n",
       "      <td>204</td>\n",
       "      <td>889</td>\n",
       "    </tr>\n",
       "    <tr>\n",
       "      <th>unique</th>\n",
       "      <td>NaN</td>\n",
       "      <td>NaN</td>\n",
       "      <td>NaN</td>\n",
       "      <td>891</td>\n",
       "      <td>2</td>\n",
       "      <td>NaN</td>\n",
       "      <td>NaN</td>\n",
       "      <td>NaN</td>\n",
       "      <td>681</td>\n",
       "      <td>NaN</td>\n",
       "      <td>147</td>\n",
       "      <td>3</td>\n",
       "    </tr>\n",
       "    <tr>\n",
       "      <th>top</th>\n",
       "      <td>NaN</td>\n",
       "      <td>NaN</td>\n",
       "      <td>NaN</td>\n",
<<<<<<< HEAD
       "      <td>Fortune, Mr. Charles Alexander</td>\n",
=======
       "      <td>Drew, Mrs. James Vivian (Lulu Thorne Christian)</td>\n",
>>>>>>> 637820ec704844114c0182c69fae6f202aa19823
       "      <td>male</td>\n",
       "      <td>NaN</td>\n",
       "      <td>NaN</td>\n",
       "      <td>NaN</td>\n",
       "      <td>CA. 2343</td>\n",
       "      <td>NaN</td>\n",
       "      <td>B96 B98</td>\n",
       "      <td>S</td>\n",
       "    </tr>\n",
       "    <tr>\n",
       "      <th>freq</th>\n",
       "      <td>NaN</td>\n",
       "      <td>NaN</td>\n",
       "      <td>NaN</td>\n",
       "      <td>1</td>\n",
       "      <td>577</td>\n",
       "      <td>NaN</td>\n",
       "      <td>NaN</td>\n",
       "      <td>NaN</td>\n",
       "      <td>7</td>\n",
       "      <td>NaN</td>\n",
       "      <td>4</td>\n",
       "      <td>644</td>\n",
       "    </tr>\n",
       "    <tr>\n",
       "      <th>mean</th>\n",
       "      <td>446.000000</td>\n",
       "      <td>0.383838</td>\n",
       "      <td>2.308642</td>\n",
       "      <td>NaN</td>\n",
       "      <td>NaN</td>\n",
       "      <td>29.699118</td>\n",
       "      <td>0.523008</td>\n",
       "      <td>0.381594</td>\n",
       "      <td>NaN</td>\n",
       "      <td>32.204208</td>\n",
       "      <td>NaN</td>\n",
       "      <td>NaN</td>\n",
       "    </tr>\n",
       "    <tr>\n",
       "      <th>std</th>\n",
       "      <td>257.353842</td>\n",
       "      <td>0.486592</td>\n",
       "      <td>0.836071</td>\n",
       "      <td>NaN</td>\n",
       "      <td>NaN</td>\n",
       "      <td>14.526497</td>\n",
       "      <td>1.102743</td>\n",
       "      <td>0.806057</td>\n",
       "      <td>NaN</td>\n",
       "      <td>49.693429</td>\n",
       "      <td>NaN</td>\n",
       "      <td>NaN</td>\n",
       "    </tr>\n",
       "    <tr>\n",
       "      <th>min</th>\n",
       "      <td>1.000000</td>\n",
       "      <td>0.000000</td>\n",
       "      <td>1.000000</td>\n",
       "      <td>NaN</td>\n",
       "      <td>NaN</td>\n",
       "      <td>0.420000</td>\n",
       "      <td>0.000000</td>\n",
       "      <td>0.000000</td>\n",
       "      <td>NaN</td>\n",
       "      <td>0.000000</td>\n",
       "      <td>NaN</td>\n",
       "      <td>NaN</td>\n",
       "    </tr>\n",
       "    <tr>\n",
       "      <th>25%</th>\n",
       "      <td>223.500000</td>\n",
       "      <td>0.000000</td>\n",
       "      <td>2.000000</td>\n",
       "      <td>NaN</td>\n",
       "      <td>NaN</td>\n",
       "      <td>20.125000</td>\n",
       "      <td>0.000000</td>\n",
       "      <td>0.000000</td>\n",
       "      <td>NaN</td>\n",
       "      <td>7.910400</td>\n",
       "      <td>NaN</td>\n",
       "      <td>NaN</td>\n",
       "    </tr>\n",
       "    <tr>\n",
       "      <th>50%</th>\n",
       "      <td>446.000000</td>\n",
       "      <td>0.000000</td>\n",
       "      <td>3.000000</td>\n",
       "      <td>NaN</td>\n",
       "      <td>NaN</td>\n",
       "      <td>28.000000</td>\n",
       "      <td>0.000000</td>\n",
       "      <td>0.000000</td>\n",
       "      <td>NaN</td>\n",
       "      <td>14.454200</td>\n",
       "      <td>NaN</td>\n",
       "      <td>NaN</td>\n",
       "    </tr>\n",
       "    <tr>\n",
       "      <th>75%</th>\n",
       "      <td>668.500000</td>\n",
       "      <td>1.000000</td>\n",
       "      <td>3.000000</td>\n",
       "      <td>NaN</td>\n",
       "      <td>NaN</td>\n",
       "      <td>38.000000</td>\n",
       "      <td>1.000000</td>\n",
       "      <td>0.000000</td>\n",
       "      <td>NaN</td>\n",
       "      <td>31.000000</td>\n",
       "      <td>NaN</td>\n",
       "      <td>NaN</td>\n",
       "    </tr>\n",
       "    <tr>\n",
       "      <th>max</th>\n",
       "      <td>891.000000</td>\n",
       "      <td>1.000000</td>\n",
       "      <td>3.000000</td>\n",
       "      <td>NaN</td>\n",
       "      <td>NaN</td>\n",
       "      <td>80.000000</td>\n",
       "      <td>8.000000</td>\n",
       "      <td>6.000000</td>\n",
       "      <td>NaN</td>\n",
       "      <td>512.329200</td>\n",
       "      <td>NaN</td>\n",
       "      <td>NaN</td>\n",
       "    </tr>\n",
       "  </tbody>\n",
       "</table>\n",
       "</div>"
      ],
      "text/plain": [
<<<<<<< HEAD
       "        PassengerId    Survived      Pclass                            Name  \\\n",
       "count    891.000000  891.000000  891.000000                             891   \n",
       "unique          NaN         NaN         NaN                             891   \n",
       "top             NaN         NaN         NaN  Fortune, Mr. Charles Alexander   \n",
       "freq            NaN         NaN         NaN                               1   \n",
       "mean     446.000000    0.383838    2.308642                             NaN   \n",
       "std      257.353842    0.486592    0.836071                             NaN   \n",
       "min        1.000000    0.000000    1.000000                             NaN   \n",
       "25%      223.500000    0.000000    2.000000                             NaN   \n",
       "50%      446.000000    0.000000    3.000000                             NaN   \n",
       "75%      668.500000    1.000000    3.000000                             NaN   \n",
       "max      891.000000    1.000000    3.000000                             NaN   \n",
       "\n",
       "         Sex         Age       SibSp       Parch    Ticket        Fare  \\\n",
       "count    891  714.000000  891.000000  891.000000       891  891.000000   \n",
       "unique     2         NaN         NaN         NaN       681         NaN   \n",
       "top     male         NaN         NaN         NaN  CA. 2343         NaN   \n",
       "freq     577         NaN         NaN         NaN         7         NaN   \n",
       "mean     NaN   29.699118    0.523008    0.381594       NaN   32.204208   \n",
       "std      NaN   14.526497    1.102743    0.806057       NaN   49.693429   \n",
       "min      NaN    0.420000    0.000000    0.000000       NaN    0.000000   \n",
       "25%      NaN   20.125000    0.000000    0.000000       NaN    7.910400   \n",
       "50%      NaN   28.000000    0.000000    0.000000       NaN   14.454200   \n",
       "75%      NaN   38.000000    1.000000    0.000000       NaN   31.000000   \n",
       "max      NaN   80.000000    8.000000    6.000000       NaN  512.329200   \n",
       "\n",
       "          Cabin Embarked  \n",
       "count       204      889  \n",
       "unique      147        3  \n",
       "top     B96 B98        S  \n",
       "freq          4      644  \n",
       "mean        NaN      NaN  \n",
       "std         NaN      NaN  \n",
       "min         NaN      NaN  \n",
       "25%         NaN      NaN  \n",
       "50%         NaN      NaN  \n",
       "75%         NaN      NaN  \n",
       "max         NaN      NaN  "
=======
       "        PassengerId    Survived      Pclass  \\\n",
       "count    891.000000  891.000000  891.000000   \n",
       "unique          NaN         NaN         NaN   \n",
       "top             NaN         NaN         NaN   \n",
       "freq            NaN         NaN         NaN   \n",
       "mean     446.000000    0.383838    2.308642   \n",
       "std      257.353842    0.486592    0.836071   \n",
       "min        1.000000    0.000000    1.000000   \n",
       "25%      223.500000    0.000000    2.000000   \n",
       "50%      446.000000    0.000000    3.000000   \n",
       "75%      668.500000    1.000000    3.000000   \n",
       "max      891.000000    1.000000    3.000000   \n",
       "\n",
       "                                                   Name   Sex         Age  \\\n",
       "count                                               891   891  714.000000   \n",
       "unique                                              891     2         NaN   \n",
       "top     Drew, Mrs. James Vivian (Lulu Thorne Christian)  male         NaN   \n",
       "freq                                                  1   577         NaN   \n",
       "mean                                                NaN   NaN   29.699118   \n",
       "std                                                 NaN   NaN   14.526497   \n",
       "min                                                 NaN   NaN    0.420000   \n",
       "25%                                                 NaN   NaN   20.125000   \n",
       "50%                                                 NaN   NaN   28.000000   \n",
       "75%                                                 NaN   NaN   38.000000   \n",
       "max                                                 NaN   NaN   80.000000   \n",
       "\n",
       "             SibSp       Parch    Ticket        Fare    Cabin Embarked  \n",
       "count   891.000000  891.000000       891  891.000000      204      889  \n",
       "unique         NaN         NaN       681         NaN      147        3  \n",
       "top            NaN         NaN  CA. 2343         NaN  B96 B98        S  \n",
       "freq           NaN         NaN         7         NaN        4      644  \n",
       "mean      0.523008    0.381594       NaN   32.204208      NaN      NaN  \n",
       "std       1.102743    0.806057       NaN   49.693429      NaN      NaN  \n",
       "min       0.000000    0.000000       NaN    0.000000      NaN      NaN  \n",
       "25%       0.000000    0.000000       NaN    7.910400      NaN      NaN  \n",
       "50%       0.000000    0.000000       NaN   14.454200      NaN      NaN  \n",
       "75%       1.000000    0.000000       NaN   31.000000      NaN      NaN  \n",
       "max       8.000000    6.000000       NaN  512.329200      NaN      NaN  "
>>>>>>> 637820ec704844114c0182c69fae6f202aa19823
      ]
     },
     "execution_count": 7,
     "metadata": {},
     "output_type": "execute_result"
    }
   ],
   "source": [
    "df.describe(include='all')"
   ]
  },
  {
   "cell_type": "markdown",
   "metadata": {},
   "source": [
    "## 4. Data Visualization"
   ]
  },
  {
   "cell_type": "markdown",
   "metadata": {},
   "source": [
    "### Pclass Feature"
   ]
  },
  {
   "cell_type": "code",
   "execution_count": 8,
   "metadata": {
    "scrolled": true
   },
   "outputs": [
    {
     "data": {
      "text/plain": [
<<<<<<< HEAD
       "<matplotlib.axes._subplots.AxesSubplot at 0x103ffa240>"
=======
       "<matplotlib.axes._subplots.AxesSubplot at 0x199c9aa4630>"
>>>>>>> 637820ec704844114c0182c69fae6f202aa19823
      ]
     },
     "execution_count": 8,
     "metadata": {},
     "output_type": "execute_result"
    },
    {
     "data": {
<<<<<<< HEAD
      "image/png": "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\n",
=======
      "image/png": "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\n",
>>>>>>> 637820ec704844114c0182c69fae6f202aa19823
      "text/plain": [
       "<Figure size 432x288 with 1 Axes>"
      ]
     },
     "metadata": {},
     "output_type": "display_data"
    }
   ],
   "source": [
    "sns.barplot(df['Pclass'], df['Survived'], data=df)"
   ]
  },
  {
   "cell_type": "markdown",
   "metadata": {},
   "source": [
    "Higher class could survive more."
   ]
  },
  {
   "cell_type": "markdown",
   "metadata": {},
   "source": [
    "### Sex Feature"
   ]
  },
  {
   "cell_type": "code",
   "execution_count": 9,
   "metadata": {
    "scrolled": true
   },
   "outputs": [
    {
     "data": {
      "text/plain": [
<<<<<<< HEAD
       "<matplotlib.axes._subplots.AxesSubplot at 0x104f8ae48>"
=======
       "<matplotlib.axes._subplots.AxesSubplot at 0x199c79f8400>"
>>>>>>> 637820ec704844114c0182c69fae6f202aa19823
      ]
     },
     "execution_count": 9,
     "metadata": {},
     "output_type": "execute_result"
    },
    {
     "data": {
<<<<<<< HEAD
      "image/png": "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\n",
=======
      "image/png": "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\n",
>>>>>>> 637820ec704844114c0182c69fae6f202aa19823
      "text/plain": [
       "<Figure size 432x288 with 1 Axes>"
      ]
     },
     "metadata": {},
     "output_type": "display_data"
    }
   ],
   "source": [
    "sns.barplot(df['Sex'], df['Survived'], data=df)"
   ]
  },
  {
   "cell_type": "markdown",
   "metadata": {},
   "source": [
    "Female are more likely to survive."
   ]
  },
  {
   "cell_type": "markdown",
   "metadata": {},
   "source": [
    "### Age Feature"
   ]
  },
  {
   "cell_type": "code",
   "execution_count": 10,
   "metadata": {},
   "outputs": [
    {
     "name": "stdout",
     "output_type": "stream",
     "text": [
      "<class 'pandas.core.frame.DataFrame'>\n",
      "RangeIndex: 891 entries, 0 to 890\n",
      "Data columns (total 1 columns):\n",
      "Age    714 non-null float64\n",
      "dtypes: float64(1)\n",
      "memory usage: 7.0 KB\n",
      "None\n"
     ]
    },
    {
     "data": {
<<<<<<< HEAD
      "image/png": "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\n",
=======
      "image/png": "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\n",
>>>>>>> 637820ec704844114c0182c69fae6f202aa19823
      "text/plain": [
       "<Figure size 432x288 with 1 Axes>"
      ]
     },
     "metadata": {},
     "output_type": "display_data"
    }
   ],
   "source": [
    "print(df[['Age']].info())\n",
    "df['Age'] = df['Age'].astype(float).fillna(-0.5)\n",
    "bins = [-1, 0, 3, 6, 12, 18, 23, 35, 60, np.inf]\n",
    "labels = ['Unknown', 'Baby', 'Preschool', 'Primary School', 'Elementary School', 'College', 'Young Adult', 'Adult', 'Senior']\n",
    "df['AgeGroup'] = pd.cut(df['Age'], bins=bins, labels=labels)\n",
    "\n",
    "# sns.barplot(df['AgeGroup'], df['Survived'], data=df)\n",
    "#draw a bar plot of Age vs. survival\n",
    "sns.barplot(df['Survived'], df['AgeGroup'], data=df, palette='Blues')\n",
    "plt.show()"
   ]
  },
  {
   "cell_type": "markdown",
   "metadata": {},
   "source": [
    "Baby and children are more likely to survive."
   ]
  },
  {
   "cell_type": "markdown",
   "metadata": {},
   "source": [
    "### SibSp Feature"
   ]
  },
  {
   "cell_type": "code",
   "execution_count": 11,
   "metadata": {
    "scrolled": true
   },
   "outputs": [
    {
     "data": {
      "text/plain": [
<<<<<<< HEAD
       "<matplotlib.axes._subplots.AxesSubplot at 0x10d5afb38>"
=======
       "<matplotlib.axes._subplots.AxesSubplot at 0x199c9c06b38>"
>>>>>>> 637820ec704844114c0182c69fae6f202aa19823
      ]
     },
     "execution_count": 11,
     "metadata": {},
     "output_type": "execute_result"
    },
    {
     "data": {
<<<<<<< HEAD
      "image/png": "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\n",
=======
      "image/png": "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\n",
>>>>>>> 637820ec704844114c0182c69fae6f202aa19823
      "text/plain": [
       "<Figure size 432x288 with 1 Axes>"
      ]
     },
     "metadata": {},
     "output_type": "display_data"
    }
   ],
   "source": [
    "sns.barplot(df['SibSp'], df['Survived'], data=df)"
   ]
  },
  {
   "cell_type": "code",
   "execution_count": 12,
   "metadata": {},
   "outputs": [],
   "source": [
    "#map each of the sip groups to a numerical value\n",
    "sipSp_mapping = {0: 0, 1: 1, 2: 1}\n",
    "\n",
    "df['SibSpGroup'] = df['SibSp'].map(sipSp_mapping)\n",
    "df['SibSpGroup'] = df['SibSpGroup'].fillna(2)\n",
    "df['SibSpGroup'] = df['SibSpGroup'].astype('int')"
   ]
  },
  {
   "cell_type": "code",
   "execution_count": 13,
   "metadata": {
    "scrolled": true
   },
   "outputs": [
    {
     "data": {
      "text/plain": [
<<<<<<< HEAD
       "<matplotlib.axes._subplots.AxesSubplot at 0x10d5f32b0>"
=======
       "<matplotlib.axes._subplots.AxesSubplot at 0x199c9d013c8>"
>>>>>>> 637820ec704844114c0182c69fae6f202aa19823
      ]
     },
     "execution_count": 13,
     "metadata": {},
     "output_type": "execute_result"
    },
    {
     "data": {
<<<<<<< HEAD
      "image/png": "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\n",
=======
      "image/png": "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\n",
>>>>>>> 637820ec704844114c0182c69fae6f202aa19823
      "text/plain": [
       "<Figure size 432x288 with 1 Axes>"
      ]
     },
     "metadata": {},
     "output_type": "display_data"
    }
   ],
   "source": [
    "sns.barplot(df['SibSpGroup'], df['Survived'], data=df)"
   ]
  },
  {
   "cell_type": "markdown",
   "metadata": {},
   "source": [
    "Combine SipSp to groups."
   ]
  },
  {
   "cell_type": "markdown",
   "metadata": {},
   "source": [
    "### Parch Feature"
   ]
  },
  {
   "cell_type": "code",
   "execution_count": 14,
   "metadata": {},
   "outputs": [
    {
     "data": {
      "text/plain": [
<<<<<<< HEAD
       "<matplotlib.axes._subplots.AxesSubplot at 0x10d6ea3c8>"
=======
       "<matplotlib.axes._subplots.AxesSubplot at 0x199c9d61b00>"
>>>>>>> 637820ec704844114c0182c69fae6f202aa19823
      ]
     },
     "execution_count": 14,
     "metadata": {},
     "output_type": "execute_result"
    },
    {
     "data": {
<<<<<<< HEAD
      "image/png": "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\n",
=======
      "image/png": "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\n",
>>>>>>> 637820ec704844114c0182c69fae6f202aa19823
      "text/plain": [
       "<Figure size 432x288 with 1 Axes>"
      ]
     },
     "metadata": {},
     "output_type": "display_data"
    }
   ],
   "source": [
    "sns.barplot(df['Parch'], df['Survived'], data=df)"
   ]
  },
  {
   "cell_type": "markdown",
   "metadata": {},
   "source": [
    "### Fare Feature"
   ]
  },
  {
   "cell_type": "code",
   "execution_count": 15,
   "metadata": {},
   "outputs": [
    {
     "data": {
      "image/png": "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\n",
      "text/plain": [
       "<Figure size 432x288 with 1 Axes>"
      ]
     },
     "metadata": {},
     "output_type": "display_data"
    }
   ],
   "source": [
    "plt.scatter(df.index, df.Fare)\n",
    "plt.show()"
   ]
  },
  {
   "cell_type": "code",
   "execution_count": 16,
   "metadata": {
    "scrolled": false
   },
   "outputs": [
    {
     "data": {
      "text/plain": [
<<<<<<< HEAD
       "<matplotlib.axes._subplots.AxesSubplot at 0x10d887b00>"
=======
       "<matplotlib.axes._subplots.AxesSubplot at 0x199c9e1cfd0>"
>>>>>>> 637820ec704844114c0182c69fae6f202aa19823
      ]
     },
     "execution_count": 16,
     "metadata": {},
     "output_type": "execute_result"
    },
    {
     "data": {
      "image/png": "iVBORw0KGgoAAAANSUhEUgAAAXsAAAEBCAYAAACZhwWsAAAABHNCSVQICAgIfAhkiAAAAAlwSFlzAAALEgAACxIB0t1+/AAAADl0RVh0U29mdHdhcmUAbWF0cGxvdGxpYiB2ZXJzaW9uIDIuMi4yLCBodHRwOi8vbWF0cGxvdGxpYi5vcmcvhp/UCwAAEatJREFUeJzt3X2QXXV9x/F3lhAyhiRUUCNFDTr1y1Y0YhhNeBIdggalotUZfKiYGgUfa1Ol2NYnxodajApaDIpKdeogStGoFdqgFg3syCwFQ1m+slghU0UETIhEEje7/eOe4M2ym73s3pO7e3/v18zOveees+d+cvbuZ09+95xzZ42MjCBJ6m49nQ4gSaqfZS9JBbDsJakAlr0kFcCyl6QCWPaSVIDZnQ4wnv7+fo8JlaRHaOnSpbPGenzalj3A0qVLOx1BkmaM/v7+cec5jCNJBbDsJakAlr0kFcCyl6QCWPaSVIDayj4inhMRPxjj8VMj4vqIuC4i3lDX80uS/qCWso+Is4GLgbmjHt8f+ARwMvBc4I0RsaiODJKkP6hrz/524GVjPN4LDGbmbzJzJ/Aj4PiaMkjF6uvrY82aNfT19XU6iqaJWk6qyszLI2LxGLMWAFubprcBC8dbz8DAQJuTSWVYt24dmzdv5r777mPhwnF/xWaEu888q9MRpo3HXrRu0t+7r8+gvR+Y3zQ9H9gy3sK9vb21B5K60fDw8EO3M/336O5OB5hGJvpZ7u0M2n1d9gPAn0TEo4HfAicAH9vHGSSpOPuk7CPiVcCBmfnZiFgDXEXj/YIvZOb/7YsMklSy2so+M38OLKvuf6Xp8W8B36rreSVJD+dJVZJUAMtekgpg2UtSASx7SSqAZS9JBbDsJakAlr0kFcCyl6QCWPaSVADLXpIKYNlLUgEse0kqgGUvSQWw7CWpAJa9JBXAspekAlj2klQAy16SCmDZS1IBLHtJKoBlL0kFsOwlqQCWvSQVwLLXtNDX18eaNWvo6+vrdBSpK83udAAJ4JJLLuG2225j+/btLFu2rNNxpK7jnr2mhe3bt+9xK6m9LHtJKoBlL0kFsOwlqQCWvSQVwLKXpAJY9pJUAMtekgpQy0lVEdEDXAgsAXYAqzNzsGn+O4FXAsPAhzPzijpySJIa6tqzPw2Ym5nLgXOAtbtnRMRBwNuB5cDJwCdryiBJqtRV9scBVwJkZh9wdNO8B4A7gHnV13BNGSRJlbrKfgGwtWl6V0Q0DxltBm4BbgAuqCmDJKlS14XQ7gfmN033ZOZQdX8l8Hjg8Gr6qojYmJk/Hr2SgYGBmuJputm5c+dDt/7cp87t2Z2m8rOsq+w3AqcCl0XEMmBT07zfAL8DdmTmSERsAQ4aayW9vb01xdN0M2fOnIdu/blPXTdtz7s7HWAamehn2d/fP+68usr+CmBFRFwLzAJWRcQaYDAz10fESUBfRAwDPwL+s6YckiRqKvvMHAbOGvXwrU3z3we8r47nliQ9nCdVSVIBLHtJKoBlL0kFsOwlqQCWvSQVwLKXpAJY9pJUAMtekgpg2UtSASx7SSqAZS9JBajrQmiaYe489+kdff6h+x4NzGbovjs6nuWJ79008ULSDOOevSQVwLKXpAJY9pJUAMtekgpg2UtSASx7SSqAZS9JBbDsJakAlr0kFcCyl6QCWPaSVACvjSO12bGfOrbTEZizZQ499LB5y+aO5tn4to0de27tyT17SSqAZS9JBbDsJakAlr0kFcCyl6QCWPaSVADLXpIKYNlLUgEse0kqgGUvSQWo5XIJEdEDXAgsAXYAqzNzsGn+SuB91eQNwFsyc6SOLJKkCco+Ik4Yb15mXrOXbz0NmJuZyyNiGbAWeEm1zvnAecCJmXlPRJwNHAL8+pGGlyS1ZqI9+zdVt08B5gDXA0cBvwVO3Mv3HQdcCZCZfRFxdNO8Y4BNwNqIeDJwcWZa9JJUo72WfWa+EiAivgO8JDOHImI/4DsTrHcBsLVpeldEzM7MIRp78c8Dnknjj8YPI+K6zPzp6JUMDAy0/i/RlMzrdIBpxNdd+7gt22sq27PVMfvHj/qex06w/P3A/KbpnqroAe4Frs/MuwAi4hoaxf+wsu/t7W0xnqbqzk4HmEam/Lrb0J4c3aAdv8N3tyFHt5hoe/b39487r9WjcT4P/E9EXA7cCPzjBMtvBE4BqMbsNzXnAY6MiEMiYjawDLilxRySpEloac8+M/85Ir4MHAH8LDPvmeBbrgBWRMS1wCxgVUSsAQYzc31EvBu4qlr2ssy8eZL5JUktaKnsI+JpwDrgIOBfI+LmzPz2eMtn5jBw1qiHb22afylw6SOPK0majFaHcS4AVgH30BjSeX9dgSRJ7dfyGbTVSVEj1WGS2+qLJElqt1bL/r6IOBOYFxGnA1tqzCRJarNWy/71wOE0hnGOrqYlSTNEq8fZfwD4XGZ6iKQkzUCtlv1G4J+q69p8EfhqZv6uvlgqzdz9Rva4ldReLQ3jZObXM/PFwOnAC4Ff1ppKxXnp4gc4YuFOXrr4gU5HkbpSq8fZPxE4A/hzGpckXllnKJVnycE7WXLwzk7HkLpWq8M4lwMXA8dnpoddStIMs9dhnIg4rLr7GuD7wOMj4qkR8dTak0mS2maiPfs11de6UY+PAM+vJZEkqe0mup79muru+cD66po3kqQZptWTqk4CboqID1WfLiVJmkFaPfTyrcBSGtey/3RE+PEMkjSDtHwhNODZwAuAxwFX1xNHklSHVo+zvwW4icaHg6+uN5Ikqd1aPc7+i5l5Xq1JJEm1aXUYZ2VE7FdrEklSbVrds38M8IuI+F8ax9iPZOYx9cWSJLVTq2X/4lpTSJJq1WrZnzHGY+e2M4gkqT6tlv2vqttZwLN4ZIdsSpI6rKWyz8yLmqcj4rv1xJEk1aHV4+ybr3J5KPDEeuJIkurQ6jDORTSOwnk0cC/wN7UlkiS13V7LPiKeBXweeA6NI3I+AzwKmFN/NElSu0z0RuuHgDMycyfwQRofR3g08Ld1B5Mktc9Ewzg9mfmTiDgUmJeZNwBEhNe1l6QZZKI9+93zXwhsAIiIA4D5dYaSJLXXRHv2GyJiI/AE4M8i4ik0xu2/WnsySVLb7HXPPjM/CqwGjsrMG6uHP5OZH6k9mSSpbSY89DIzB5ru3w7cXmsiSVLbedkDSSpAqydVPSIR0QNcCCwBdgCrM3NwjGW+A3wzM9fVkUOS1FDXnv1pwNzMXA6cA6wdY5kP0jgjV5JUs7rK/jjgSoDM7KNxItZDIuLlwDDgBdUkaR+oZRgHWABsbZreFRGzM3MoIo4EXgW8HHjv3lYyMDCwt9kddfPNN7NhwwZOOukkjjzyyE7HmbJ5nQ4wjUzn191M47Zsr6lsz7rK/n72PPGqJzOHqvuvBf4Y+B6wGNgZET/PzCtHr6S3t7emeFN3/vnnMzg4yKxZs3jFK17R6ThTdmenA0wjU37dbWhPjm7Qjt/hu9uQo1tMtD37+/vHnVdX2W8ETgUui4hlwKbdMzLz7N33I+L9wF1jFf10t3379j1uJWk6q6vsrwBWRMS1ND7dalVErAEGM3N9Tc8pSRpHLWWfmcPAWaMevnWM5d5fx/NLkvbkSVWSVADLXpIKUNeYfe2WvutLHX3++fdsYz/gznu2dTxL/3mv7ejzS5r+3LOXpAJY9pJUAMtekgpg2UtSASx7SSqAZS9JBbDsJ2mkZ/Yet9K0MnvUrYpn2U/Sg4cexe8PXMSDhx7V6SjSwwz1DrHrkF0M9Q5NvLCK4N/9SRpaeBhDCw/rdAxpTMOLhhleNNzpGJpG3LOXpAJY9pJUAMtekgpg2UtSASx7SSqAZS9JBbDsJakAlr0kFcCyl6QCWPaSVADLXpIKYNlLUgEse0kqgGUvSQWw7CWpAJa9JBXAspekAlj2klQAy16SCmDZS1IBLHtJKoBlL0kFmF3HSiOiB7gQWALsAFZn5mDT/L8GTq8m/z0zP1BHDklSQ1179qcBczNzOXAOsHb3jIh4MvBq4BhgOXByRDyjphySJOor++OAKwEysw84umneZuCFmbkrM4eB/YEHa8ohSaKmYRxgAbC1aXpXRMzOzKHM/D1wT0TMAs4D/jszfzrWSgYGBmqK113asZ3mtSFHt/B11z5uy/aayvasq+zvB+Y3Tfdk5tDuiYiYC3wB2Aa8ebyV9Pb27uUprp9qxq6x9+3UmjvbkKNbTHl7bmhPjm7Qjtfm3W3I0S0m2p79/f3jzqtrGGcjcApARCwDNu2eUe3RfxO4KTPPzMxdNWWQJFXq2rO/AlgREdcCs4BVEbEGGAT2A54LHBARK6vl352Z19WURZKKV0vZV2+8njXq4Vub7s+t43klSWPzpCpJKoBlL0kFsOwlqQCWvSQVwLKXpAJY9pJUAMtekgpg2UtSASx7SSqAZS9JBbDsJakAlr0kFcCyl6QCWPaSVADLXpIKYNlLUgEse0kqgGUvSQWw7CWpAJa9JBXAspekAlj2klQAy16SCmDZS1IBLHtJKoBlL0kFsOwlqQCWvSQVwLKXpAJY9pJUAMtekgpg2UtSASx7SSrA7DpWGhE9wIXAEmAHsDozB5vmvwE4ExgCPpiZ364jhySpoa49+9OAuZm5HDgHWLt7RkQsAt4OHAu8APhIRBxQUw5JEvWV/XHAlQCZ2Qcc3TTv2cDGzNyRmVuBQeAZNeWQJFHTMA6wANjaNL0rImZn5tAY87YBC8daSX9//7hP8NnTn9aGmN1hb9upZS+6ZOrr6BK/nuL2vOCYC9qUZOZrx2vzwE98vA1JusNUtmddZX8/ML9puqcq+rHmzQe2jF7B0qVLZ9WUTZKKU9cwzkbgFICIWAZsapr3Y+D4iJgbEQuBXuDmmnJIkoBZIyMjbV9p09E4zwBmAatolP9gZq6vjsZ5I40/Nh/OzMvbHkKS9JBayr4UEfEc4KOZeWKns8xkEbE/8AVgMXAAjcNx13c01AwVEfsBnwMC2AWsyszbO5tq5ouIxwL9wIrMvLXTeSbDk6omKSLOBi4G5nY6Sxd4DXBvZh4PrAQ+3eE8M9mpAJl5LPBewHc3p6jaGbkI+F2ns0yFZT95twMv63SILvE14D1N00PjLai9y8xv0BgiBXgS8KsOxukWHwPWAb/odJCpsOwnqXqf4fedztENMvO3mbktIuYDXwf+odOZZrLMHIqIfwE+RWN7apIi4nXArzPzqk5nmSrLXtNCRDwB+D7w5cz8SqfzzHSZeQbwVOBzETGv03lmsL8EVkTED4BnAl+qrgIw49R1nL3Usoh4HPAfwFsz8+pO55nJIuIvgMMy8yPAdmCYxhu1moTMPGH3/arwz8rMuzqXaPIse00Hfwf8EfCeiNg9dr8yM2f0G2Id8m/AFyPiGmB/4B2Z+WCHM2ka8NBLSSqAY/aSVADLXpIKYNlLUgEse0kqgGUvSQXw0Et1pYhYDPwEuKHp4e9l5rlTWOfpwFuqyV3AjcDZmblzsuuU9hXLXt3slnZdkTQiTgHeAJyamVsiYhaNi4ydQeMqk9K0ZtmrGNXlfy8CngAcDHw3M98TEZdU0wcDLwLOBk6gMcz58cz8GvA24F2ZuQUgM0ciYk1mjlTrvgO4FRgAPgl8nsZJTSPA2zPzpoi4KzMXVctfSuPiWouBl9D4uM5DgHP9fAfVwTF7dbM/jYgf7P4ClgF9mfkC4DjgTU3Lfi8zj6mWOby6RPDzgL+PiIOAw4FBgIhYXq3vR1VpQ+MPyKsy8x00rpJ4QXWq/V/RKP69ORBYAZwMfDwi3AlT2/miUjfbYxgnIhYAr42I59H4LOQDmpbN6vbpwNKqzKGxd/4kYDONwr8pM68DToyII2jsnQPck5n3Vvd7gWsAMvPG6iJvozV/xvJ/ZeYw8KuI+A3wGOCXk/j3SuNyz14leR2wJTNfDawFHlWNvUPjgmHQGIr5fvVH4vnAZcDPaFwu+Lzqc5N3O5HGME3z90NjKOd4gIh4JrD7wln7R8SBETEHeFrT8kurZR9HYzjn7in9K6UxuGevklwNXBoRxwMPALcBh45a5ls09tp/SGN45YrM3Aasrz6x6BsRAY1SvpHGG7SjvZPGpYXfSeN/Bq+vHv8k0Efjj8cdTcsvioirgYXAmzPTq1Sq7bwQmtRB1YdjHJGZ53Q6i7qbwziSVAD37CWpAO7ZS1IBLHtJKoBlL0kFsOwlqQCWvSQVwLKXpAL8P1U1aabKcvG5AAAAAElFTkSuQmCC\n",
      "text/plain": [
       "<Figure size 432x288 with 1 Axes>"
      ]
     },
     "metadata": {},
     "output_type": "display_data"
    }
   ],
   "source": [
    "labels = [1, 2, 3, 4]\n",
    "df['FareGroup'] = pd.cut(df['Fare'], 4, labels=labels)\n",
    "\n",
    "sns.barplot(df['FareGroup'], df['Survived'], data=df)"
   ]
  },
  {
   "cell_type": "markdown",
   "metadata": {},
   "source": [
    "Rich has higher chance to survive."
   ]
  },
  {
   "cell_type": "markdown",
   "metadata": {},
   "source": [
    "### Cabin Feature"
   ]
  },
  {
   "cell_type": "code",
   "execution_count": 17,
   "metadata": {
    "scrolled": false
   },
   "outputs": [
    {
     "data": {
      "text/plain": [
<<<<<<< HEAD
       "<matplotlib.axes._subplots.AxesSubplot at 0x10d943978>"
=======
       "<matplotlib.axes._subplots.AxesSubplot at 0x199c9e97128>"
>>>>>>> 637820ec704844114c0182c69fae6f202aa19823
      ]
     },
     "execution_count": 17,
     "metadata": {},
     "output_type": "execute_result"
    },
    {
     "data": {
<<<<<<< HEAD
      "image/png": "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\n",
=======
      "image/png": "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\n",
>>>>>>> 637820ec704844114c0182c69fae6f202aa19823
      "text/plain": [
       "<Figure size 432x288 with 1 Axes>"
      ]
     },
     "metadata": {},
     "output_type": "display_data"
    }
   ],
   "source": [
    "df['hasCabin'] = df['Cabin'].notnull().astype(int)\n",
    "\n",
    "sns.barplot(df['hasCabin'], df['Survived'], data=df)"
   ]
  },
  {
   "cell_type": "markdown",
   "metadata": {},
   "source": [
    "One who has a cabin might mean he is rich."
   ]
  },
  {
   "cell_type": "markdown",
   "metadata": {},
   "source": [
    "### Embark Feature"
   ]
  },
  {
   "cell_type": "code",
   "execution_count": 18,
   "metadata": {
    "scrolled": true
   },
   "outputs": [
    {
     "data": {
      "text/plain": [
<<<<<<< HEAD
       "<matplotlib.axes._subplots.AxesSubplot at 0x10d9f41d0>"
=======
       "<matplotlib.axes._subplots.AxesSubplot at 0x199c9ed6ef0>"
>>>>>>> 637820ec704844114c0182c69fae6f202aa19823
      ]
     },
     "execution_count": 18,
     "metadata": {},
     "output_type": "execute_result"
    },
    {
     "data": {
<<<<<<< HEAD
      "image/png": "iVBORw0KGgoAAAANSUhEUgAAAXsAAAEBCAYAAACZhwWsAAAABHNCSVQICAgIfAhkiAAAAAlwSFlzAAALEgAACxIB0t1+/AAAADl0RVh0U29mdHdhcmUAbWF0cGxvdGxpYiB2ZXJzaW9uIDIuMi4yLCBodHRwOi8vbWF0cGxvdGxpYi5vcmcvhp/UCwAAEn5JREFUeJzt3X2QXXV9x/F3lhiiacAiKiJS1JYvK0qEpLqB4FNBHhVskULroLFRqE+dpmOL7YwFKzLCxI5oUfEpap3BtA6ViqQW0aqBrcxSMcjmS+IT9kEkIgmwkrCb9I9zAzdLkr0X7y832d/7NbNz7zm/c3/nuzm5n3v2dx7ujK1btyJJmt4G+l2AJKk8w16SKmDYS1IFDHtJqoBhL0kVMOwlqQIz+13AzoyMjHhOqCR1af78+TN2NH+PDXuA+fPn97sESdprjIyM7LTNYRxJqoBhL0kVMOwlqQKGvSRVwLCXpAoY9pJUAcNekipg2EtdGB4eZunSpQwPD/e7FKkre/RFVdKeZvny5axdu5axsTGGhob6XY7UMffspS6MjY1t9yjtLQx7SaqAYS9JFTDsJakCRQ7QRsQAcCUwD9gELMnMdW3tpwB/25q8FXhrZnpLY0kqpNSe/ZnA7MxcCFwILNvWEBFzgcuB0zNzCPgxcGChOiRJlAv7RcBKgMwcBha0tR0LrAaWRcS3gLsz855CdUiSKHee/X7AhrbpiYiYmZnjNHvxLwdeCDwAfCsibs7MOyd3Mjo6Wqg86fHZvHnzI4/+/9TepFTYbwTmtk0PtIIe4BfALZn5M4CI+CZN8D8m7AcHBwuVJz0+s2bNeuTR/5/a0/Tjm6pWAacCRMQQzbDNI/UAz4+IAyNiJjAE3FGoDkkS5fbsrwFOjIibgBnA4ohYCqzLzGsj4l3Av7WWXZGZtxeqQ5JEobDPzC3ABZNmr2lrvxq4usS6JUmP5UVVklQBw16SKmDYS1IFDHtJqoBhL0kVMOwlqQKGvSRVwLCXpAoY9pJUAcNekipg2EtSBUrdCE3qyF3veUG/S+jK+L0HADMZv/cne1Xth7579dQLaVpzz16SKmDYS1IFDHtJqoBhL0kVMOwlqQKGvSRVwLCXpAoY9pJUAcNekipg2EtSBQx7SaqAYS9JFTDsJakCRe56GREDwJXAPGATsCQz17W1XwEcB9zfmnVGZm4oUYskqdwtjs8EZmfmwogYApYBZ7S1HwOclJnrC61fktSm1DDOImAlQGYOAwu2NbT2+n8HuCoiVkXEGwvVIElqKRX2+wHtwzITEbHtr4g5wIeA1wEnA2+JiKMK1SFJotwwzkZgbtv0QGaOt56PAR/MzDGAiLiRZmz/e5M7GR0dLVSe9hRz+l1AJXwvqVTYrwJeBaxojdm3fyfa4cDVEXEMzV8Wi4DP7KiTwcHBQuVpT3FXvwuohO+lxvDwMCtWrODss89maGio3+X03MjIyE7bSoX9NcCJEXETMANYHBFLgXWZeW1EfB4YBh4GPpuZ3y9UhyQ9Yvny5axdu5axsbFpGfa7UiTsM3MLcMGk2Wva2i8DLiuxbknambGxse0ea+JFVZJUAcNekipg2EtdmL3P1u0epb2FYS914TWHPcgR+2/mNYc92O9SpK6UOhtHmpbmPWUz856yud9lSF1zz16SKmDYS1IFDHtJqoBhL0kVMOwlqQKGvSRVwLCXpAoY9pJUAcNekipg2EtSBQx7SaqAYS9JFTDsJakChr0kVcCwl6QKGPaSVAHDXpIqYNhLUgUMe0mqgGEvSRUw7CWpAjNLdBoRA8CVwDxgE7AkM9ftYJnrgC9l5kdL1CFJapTasz8TmJ2ZC4ELgWU7WOa9wAGF1i9JalMq7BcBKwEycxhY0N4YEWcBW4DrC61fktSmyDAOsB+woW16IiJmZuZ4RDwf+CPgLODdu+pkdHS0UHnaU8zpdwGV8L3U2Lx58yOPtf2blAr7jcDctumBzBxvPT8PeCZwI3AYsDkifpyZKyd3Mjg4WKg87Snu6ncBlfC91Jg1a9Yjj9Px32RkZGSnbaXCfhXwKmBFRAwBq7c1ZOZfbnseERcBP9tR0EuSeqdU2F8DnBgRNwEzgMURsRRYl5nXFlqnpN3suA8d1+8SujLrvlkMMMBP7/vpXlP7qrev6kk/RcI+M7cAF0yavWYHy11UYv2SpO15UZUkVWCXe/YR8ZKdtWXmN3tfjiSphKmGcf609fhcYBZwC3A08ADwsnJlSZJ6aZfDOJl5bmaeC9wDLMjMNwEvBh7aHcVNR8PDwyxdupTh4eF+lyKpIp0eoH3GpNc8rUAtVVi+fDlr165lbGyMoaGhfpcjqRKdhv0nge9HxO3A84C/LVfS9DY2NrbdoyTtDh2FfWb+Q0R8DjgC+GFmri9bliSplzo69TIijqS5HfEngSURcXrRqiRJPdXpefZXAIuB9TSBf1GpgiRJvdfxRVWtLx/Zmpn3APeXK0mS1Gudhv29EXE+MCcizgHuK1iTJKnHOg37PwGeTTOMs6A1LUnaS3R66uXFwMcz846SxUiSyug07FcBl0XEXODTwBcy81flypIk9VJHwziZ+c+ZeTpwDnAy8H9Fq5Ik9VRHe/YRcSjweuAPgFuBU0oWJUnqrU6Hcb4IfAI4PjP3uNMu57/zs/0uoWNz19/PPsBd6+/fq+oeufy8fpcg6dewy2GciDik9fR1wNeBZ0TE4RFxePHKJEk9M9We/dLWz0cnzd8KvKJIRZKknttl2Gfm0tbTDwLXtr5bVpK0l+n0oqoTgNsi4pKIeE7JgiRJvdfpqZdvA+YD3wU+HBE3FK1KktRTHd8IDXgRcBLwdOBrZcqRJJXQ6Xn2dwC3AZ/IzCVlS5Ik9Vqn59l/OjMvL1qJJKmYTsP+lIj4QGZOdLJwRAwAVwLzgE3Aktb98Le1vxV4A80pnO/JzC93VbUkqSudhv1Tgf+NiB/RBPTWzDx2F8ufCczOzIURMQQsA84AiIgDgbcALwRmA3dExHWZufXx/hKSpF3r9ADt6TQHaP+Q5mZo506x/CJgJUBmDtPcA5/W9HpgXmY+DBwE3GfQS1JZne7Zv34H896zi+X3Aza0TU9ExMzMHAfIzPGIeBvNffKv2Fkno6OjHZa399g6MHO7x71FqW0xp0ivmmw6vpdq0att12ni3N16nAEcw9R/EWwE5rZND2wL+m0y88MRcRVwfUS8PDO/PrmTwcHBDsu7pcPl+u+hg49m37u/z6anH9nvUrrS+bbozl1FetVkpbYfXnFTXDfbbmRkZKdtHYV9Zn6sfToirp/iJauAVwErWmP2q9teG8ClNLdLfpjmAG41t2EY3/8Qxvc/ZOoFJamHOj3Pvv0ulwcDh07xkmuAEyPiJpq/BhZHxFJgXWZeGxG3ATfTHOy9PjP/o/vSJUmd6nQY52M0wXwA8AvgL3a1cOuGaRdMmr2mrf1imvF6SdJusMuwj4hjgE8CL6Y5I+cjwJOAWeVLk6QemznpsSJTHWi9BHh9Zm4G3kvzdYQLgL8qXZgk9dr44DgTB04wPjg+9cLTzFSfbwOZ+b2IOBiYk5m3AkRENQdUJU0fWw7awpaD6oyvqfbst7WfTOskq4jYl+1Pq5Qk7eGm2rO/ISJWAc8CXh0Rz6UZt/9C8cokST2zyz37zHw/sAQ4OjO/25r9kcy8tHhlkqSemfKYdGaOtj3/AfCDohVJknqum2+qkiTtpQx7SaqAYS9JFTDsJakChr0kVcCwl6QKGPaSVAHDXpIqYNhLUgUMe0mqgGEvSRUw7CWpAoa9JFXAsJekChj2klQBw16SKmDYS1IFDHtJqsCUX0v4eETEAHAlMA/YBCzJzHVt7X8OnNOa/EpmXlyiDklSo9Se/ZnA7MxcCFwILNvWEBHPAf4YOBZYCLwyIo4qVIckiXJhvwhYCZCZw8CCtrafAidn5kRmbgGeADxUqA5JEoWGcYD9gA1t0xMRMTMzxzPzYWB9RMwALgf+KzPv3FEno6OjhcpTt0ptizlFetVkvpf2Xr3adqXCfiMwt216IDPHt01ExGzgU8D9wFt21sng4GCHq7vl8dSoLnS+LbpzV5FeNVmp7ccNZbrVo7rZdiMjIzttKzWMswo4FSAihoDV2xpae/RfAm7LzPMzc6JQDZKkllJ79tcAJ0bETcAMYHFELAXWAfsALwX2jYhTWsu/KzNvLlSLJFWvSNi3DrxeMGn2mrbns0usV5K0Y15UJUkVMOwlqQKGvSRVwLCXpAoY9pJUAcNekipg2EtSBQx7SaqAYS9JFTDsJakChr0kVcCwl6QKGPaSVAHDXpIqYNhLUgUMe0mqgGEvSRUw7CWpAoa9JFXAsJekChj2klQBw16SKmDYS1IFDHtJqoBhL0kVmFmi04gYAK4E5gGbgCWZuW7SMk8FbgJekJkPlahDktQotWd/JjA7MxcCFwLL2hsj4iTgq8DTC61fktSmVNgvAlYCZOYwsGBS+xbgBODeQuuXJLUpMowD7AdsaJueiIiZmTkOkJn/DhARu+xkdHS0UHnqVqltMadIr5rM99Leq1fbrlTYbwTmtk0PbAv6bgwODna45C3ddq0udb4tunNXkV41Wantxw1lutWjutl2IyMjO20rNYyzCjgVICKGgNWF1iNJ6kCpPftrgBMj4iZgBrA4IpYC6zLz2kLrlCTtRJGwz8wtwAWTZq/ZwXKHlVi/JGl7XlQlSRUw7CWpAoa9JFXAsJekChj2klQBw16SKmDYS1IFDHtJqoBhL0kVMOwlqQKGvSRVwLCXpAoY9pJUAcNekipg2EtSBQx7SaqAYS9JFTDsJakChr0kVcCwl6QKGPaSVAHDXpIqYNhLUgUMe0mqgGEvSRWYWaLTiBgArgTmAZuAJZm5rq39TcD5wDjw3sz8cok6JEmNUnv2ZwKzM3MhcCGwbFtDRBwEvAM4DjgJuDQi9i1UhySJcmG/CFgJkJnDwIK2thcBqzJzU2ZuANYBRxWqQ5JEoWEcYD9gQ9v0RETMzMzxHbTdD+y/o05GRkY6WtlV5xz5OMtUpzrdFl07bXmZfrWdewptvyuOvaJIv3pUr957pcJ+IzC3bXqgFfQ7apsL3De5g/nz588oVJskVafUMM4q4FSAiBgCVre1fQc4PiJmR8T+wCBwe6E6JEnAjK1bt/a807azcY4CZgCLacJ/XWZe2zob5800Hzbvy8wv9rwISdIjioS9di4iLgROALYAW4G/zsxCA+LqpYg4ErgMeBLwG8BXgIsy0zeR9nilxuy1AxHxPODVwHGZuTUiXgh8huZ6BO3BIuLJwNXA72fm2ojYB/gnmutFPtrX4jSliJgPXErzQT0AfB24ODM397Ww3cgraHevnwOHAm+MiGdm5ndpTkXVnu8M4MbMXAuQmRPAecCn+lqVphQRhwD/CLwtMxfRXOOzCfj7vha2mxn2u1Fmrqe1Zw/cHBFrgNP7W5U6dDDww/YZmflATXuGe7HzgE9k5p0ArWG3vwNOjYgn9rWy3ciw340i4reBjZn5xsw8FHgd8JGIOKDPpWlqPwGe1T4jIp4dES/pUz3q3G/x2A/qrcDdwEF9qagPDPvd6yiacJ/dmr6T5gKzif6VpA59GTg5Ip4LEBFPAD4APL+vVakTPwGe0z6jdcbgoTRDq1XwbJzdLCL+BjgbeIDmw/b9mfkv/a1KnWgd5LucZrvNBf6V5iCfb6I9WEQ8C/gqzRDqPcAK4L+B8cx8cz9r250Me0nTXuuD+n00p8w+CfgZzTDO0sy8t5+17S6GvaQqRcRRwA8z84F+17I7GPaSVAEP0EpSBQx7SaqAYS9JFfDeOJq2IuJlNKfZ3dE2+57MfO0Ur3sDcERmXvg41vnj1msf6uI1s4E1mXlYt+uTOmXYa7q7MTPP6XcRUr8Z9qpORHwDuI3m6tcHgG8BJwFPBl7ZWmxhRHyN5ms0L8rM6yLiLOCtNN/RAHBWq4/3A5uBq9rWcUGrr3OBIeASmiulf0Bzp8x9gc8Dv0nzPcxSUY7Za7p7RUR8o+3nna3538nM36MJ3bHMPJFmuOelrfYHab534DTgw63L6w8HTsvMlwFJ8wEBMDszj8/Mz7Wm3w4cD7yW5kPg4zS3Rn4p8D/AG1o/t2fmS4CPlfnVpUe5Z6/p7jHDOBFxGnBra/I+Hh3T/yWw7b5F327dBuHnEbEBeArNfVQ+ExEPAEcAN7eWzUnrPIHmUvyJiHga8AxgRUQAPJHm0v0DgZUAmfmfEfFwL35ZaWfcs1etprqa8HcBIuIgmkvsNwMXA+cAS4Bf8ehwzpZJrz0D+GVrKGc9zX1Yzmj9RXAJzRdnrAEWttZxNPCEX+/XkXbNPXtNd69ojdG36+Qe5k+MiBtpgv58YCOwiuYvggdp/go4GPjRTl7/DuA7wNeAPwOuaw0FbaS5v/o3gU9HxLdpgn9TF7+T1DVvlyBJFXAYR5IqYNhLUgUMe0mqgGEvSRUw7CWpAoa9JFXAsJekChj2klSB/wdftMp8VnHizQAAAABJRU5ErkJggg==\n",
=======
      "image/png": "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\n",
>>>>>>> 637820ec704844114c0182c69fae6f202aa19823
      "text/plain": [
       "<Figure size 432x288 with 1 Axes>"
      ]
     },
     "metadata": {},
     "output_type": "display_data"
    }
   ],
   "source": [
    "sns.barplot(df['Embarked'], df['Survived'], data=df)"
   ]
  },
  {
   "cell_type": "markdown",
   "metadata": {},
   "source": [
    "## 5. Cleaning Data"
   ]
  },
  {
   "cell_type": "markdown",
   "metadata": {},
   "source": [
    "### Find null values"
   ]
  },
  {
   "cell_type": "code",
   "execution_count": 19,
   "metadata": {
    "scrolled": true
   },
   "outputs": [
    {
     "name": "stdout",
     "output_type": "stream",
     "text": [
      "<class 'pandas.core.frame.DataFrame'>\n",
      "RangeIndex: 891 entries, 0 to 890\n",
      "Data columns (total 16 columns):\n",
      "PassengerId    891 non-null int64\n",
      "Survived       891 non-null int64\n",
      "Pclass         891 non-null int64\n",
      "Name           891 non-null object\n",
      "Sex            891 non-null object\n",
      "Age            891 non-null float64\n",
      "SibSp          891 non-null int64\n",
      "Parch          891 non-null int64\n",
      "Ticket         891 non-null object\n",
      "Fare           891 non-null float64\n",
      "Cabin          204 non-null object\n",
      "Embarked       889 non-null object\n",
      "AgeGroup       891 non-null category\n",
      "SibSpGroup     891 non-null int32\n",
      "FareGroup      891 non-null category\n",
      "hasCabin       891 non-null int32\n",
      "dtypes: category(2), float64(2), int32(2), int64(5), object(5)\n",
      "memory usage: 92.9+ KB\n"
     ]
    }
   ],
   "source": [
    "df.info()"
   ]
  },
  {
   "cell_type": "markdown",
   "metadata": {},
   "source": [
    "### Pclass Feature"
   ]
  },
  {
   "cell_type": "markdown",
   "metadata": {
    "scrolled": true
   },
   "source": [
    "Do nothing."
   ]
  },
  {
   "cell_type": "markdown",
   "metadata": {},
   "source": [
    "### Age Feature"
   ]
  },
  {
   "cell_type": "markdown",
   "metadata": {},
   "source": [
    "Fill null value by predicting from their titles."
   ]
  },
  {
   "cell_type": "code",
   "execution_count": 20,
   "metadata": {},
   "outputs": [
    {
     "data": {
      "text/plain": [
       "0                              Braund, Mr. Owen Harris\n",
       "1    Cumings, Mrs. John Bradley (Florence Briggs Th...\n",
       "2                               Heikkinen, Miss. Laina\n",
       "3         Futrelle, Mrs. Jacques Heath (Lily May Peel)\n",
       "4                             Allen, Mr. William Henry\n",
       "5                                     Moran, Mr. James\n",
       "6                              McCarthy, Mr. Timothy J\n",
       "7                       Palsson, Master. Gosta Leonard\n",
       "8    Johnson, Mrs. Oscar W (Elisabeth Vilhelmina Berg)\n",
       "9                  Nasser, Mrs. Nicholas (Adele Achem)\n",
       "Name: Name, dtype: object"
      ]
     },
     "execution_count": 20,
     "metadata": {},
     "output_type": "execute_result"
    }
   ],
   "source": [
    "df['Name'].head(10)"
   ]
  },
  {
   "cell_type": "code",
   "execution_count": 21,
   "metadata": {},
   "outputs": [
    {
     "data": {
      "text/html": [
       "<div>\n",
       "<style scoped>\n",
       "    .dataframe tbody tr th:only-of-type {\n",
       "        vertical-align: middle;\n",
       "    }\n",
       "\n",
       "    .dataframe tbody tr th {\n",
       "        vertical-align: top;\n",
       "    }\n",
       "\n",
       "    .dataframe thead th {\n",
       "        text-align: right;\n",
       "    }\n",
       "</style>\n",
       "<table border=\"1\" class=\"dataframe\">\n",
       "  <thead>\n",
       "    <tr style=\"text-align: right;\">\n",
       "      <th>Sex</th>\n",
       "      <th>female</th>\n",
       "      <th>male</th>\n",
       "    </tr>\n",
       "    <tr>\n",
       "      <th>Title</th>\n",
       "      <th></th>\n",
       "      <th></th>\n",
       "    </tr>\n",
       "  </thead>\n",
       "  <tbody>\n",
       "    <tr>\n",
       "      <th>Capt</th>\n",
       "      <td>0</td>\n",
       "      <td>1</td>\n",
       "    </tr>\n",
       "    <tr>\n",
       "      <th>Col</th>\n",
       "      <td>0</td>\n",
       "      <td>2</td>\n",
       "    </tr>\n",
       "    <tr>\n",
       "      <th>Countess</th>\n",
       "      <td>1</td>\n",
       "      <td>0</td>\n",
       "    </tr>\n",
       "    <tr>\n",
       "      <th>Don</th>\n",
       "      <td>0</td>\n",
       "      <td>1</td>\n",
       "    </tr>\n",
       "    <tr>\n",
       "      <th>Dr</th>\n",
       "      <td>1</td>\n",
       "      <td>6</td>\n",
       "    </tr>\n",
       "    <tr>\n",
       "      <th>Jonkheer</th>\n",
       "      <td>0</td>\n",
       "      <td>1</td>\n",
       "    </tr>\n",
       "    <tr>\n",
       "      <th>Lady</th>\n",
       "      <td>1</td>\n",
       "      <td>0</td>\n",
       "    </tr>\n",
       "    <tr>\n",
       "      <th>Major</th>\n",
       "      <td>0</td>\n",
       "      <td>2</td>\n",
       "    </tr>\n",
       "    <tr>\n",
       "      <th>Master</th>\n",
       "      <td>0</td>\n",
       "      <td>40</td>\n",
       "    </tr>\n",
       "    <tr>\n",
       "      <th>Miss</th>\n",
       "      <td>182</td>\n",
       "      <td>0</td>\n",
       "    </tr>\n",
       "    <tr>\n",
       "      <th>Mlle</th>\n",
       "      <td>2</td>\n",
       "      <td>0</td>\n",
       "    </tr>\n",
       "    <tr>\n",
       "      <th>Mme</th>\n",
       "      <td>1</td>\n",
       "      <td>0</td>\n",
       "    </tr>\n",
       "    <tr>\n",
       "      <th>Mr</th>\n",
       "      <td>0</td>\n",
       "      <td>517</td>\n",
       "    </tr>\n",
       "    <tr>\n",
       "      <th>Mrs</th>\n",
       "      <td>125</td>\n",
       "      <td>0</td>\n",
       "    </tr>\n",
       "    <tr>\n",
       "      <th>Ms</th>\n",
       "      <td>1</td>\n",
       "      <td>0</td>\n",
       "    </tr>\n",
       "    <tr>\n",
       "      <th>Rev</th>\n",
       "      <td>0</td>\n",
       "      <td>6</td>\n",
       "    </tr>\n",
       "    <tr>\n",
       "      <th>Sir</th>\n",
       "      <td>0</td>\n",
       "      <td>1</td>\n",
       "    </tr>\n",
       "  </tbody>\n",
       "</table>\n",
       "</div>"
      ],
      "text/plain": [
       "Sex       female  male\n",
       "Title                 \n",
       "Capt           0     1\n",
       "Col            0     2\n",
       "Countess       1     0\n",
       "Don            0     1\n",
       "Dr             1     6\n",
       "Jonkheer       0     1\n",
       "Lady           1     0\n",
       "Major          0     2\n",
       "Master         0    40\n",
       "Miss         182     0\n",
       "Mlle           2     0\n",
       "Mme            1     0\n",
       "Mr             0   517\n",
       "Mrs          125     0\n",
       "Ms             1     0\n",
       "Rev            0     6\n",
       "Sir            0     1"
      ]
     },
     "execution_count": 21,
     "metadata": {},
     "output_type": "execute_result"
    }
   ],
   "source": [
    "df['Title'] = df.Name.str.extract(' ([A-Za-z]+)\\.', expand=False)\n",
    "pd.crosstab(df['Title'], df['Sex'])\n",
    "\n",
    "# some of these are outlier."
   ]
  },
  {
   "cell_type": "code",
   "execution_count": 22,
   "metadata": {},
   "outputs": [
    {
     "data": {
      "text/plain": [
<<<<<<< HEAD
       "<matplotlib.axes._subplots.AxesSubplot at 0x1a16cc0d30>"
=======
       "<matplotlib.axes._subplots.AxesSubplot at 0x199c9f56dd8>"
>>>>>>> 637820ec704844114c0182c69fae6f202aa19823
      ]
     },
     "execution_count": 22,
     "metadata": {},
     "output_type": "execute_result"
    },
    {
     "data": {
<<<<<<< HEAD
      "image/png": "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\n",
=======
      "image/png": "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\n",
>>>>>>> 637820ec704844114c0182c69fae6f202aa19823
      "text/plain": [
       "<Figure size 432x288 with 1 Axes>"
      ]
     },
     "metadata": {},
     "output_type": "display_data"
    }
   ],
   "source": [
    "#replace various titles with more common names\n",
    "\n",
    "df['Title'] = df['Title'].replace(['Lady', 'Capt', 'Col', 'Don', 'Dr', 'Major', 'Rev', 'Jonkheer', 'Dona'], 'Rare')\n",
    "    \n",
    "df['Title'] = df['Title'].replace(['Countess', 'Lady', 'Sir'], 'Royal')\n",
    "df['Title'] = df['Title'].replace('Mlle', 'Miss')\n",
    "df['Title'] = df['Title'].replace('Ms', 'Miss')\n",
    "df['Title'] = df['Title'].replace('Mme', 'Mrs')\n",
    "\n",
    "sns.barplot(df['Title'], df['Survived'])"
   ]
  },
  {
   "cell_type": "code",
   "execution_count": 23,
   "metadata": {
    "scrolled": true
   },
   "outputs": [],
   "source": [
    "#map each of the title groups to a numerical value\n",
    "\n",
    "title_mapping = {\"Mr\": 1, \"Miss\": 2, \"Mrs\": 3, \"Master\": 4, \"Royal\": 5, \"Rare\": 6}\n",
    "\n",
    "df['Title'] = df['Title'].map(title_mapping)\n",
    "df['Title'] = df['Title'].fillna(0)"
   ]
  },
  {
   "cell_type": "code",
   "execution_count": 24,
   "metadata": {},
   "outputs": [
    {
     "data": {
      "text/html": [
       "<div>\n",
       "<style scoped>\n",
       "    .dataframe tbody tr th:only-of-type {\n",
       "        vertical-align: middle;\n",
       "    }\n",
       "\n",
       "    .dataframe tbody tr th {\n",
       "        vertical-align: top;\n",
       "    }\n",
       "\n",
       "    .dataframe thead th {\n",
       "        text-align: right;\n",
       "    }\n",
       "</style>\n",
       "<table border=\"1\" class=\"dataframe\">\n",
       "  <thead>\n",
       "    <tr style=\"text-align: right;\">\n",
       "      <th></th>\n",
       "      <th>Title</th>\n",
       "    </tr>\n",
       "  </thead>\n",
       "  <tbody>\n",
       "    <tr>\n",
<<<<<<< HEAD
       "      <th>337</th>\n",
       "      <td>2</td>\n",
       "    </tr>\n",
       "    <tr>\n",
       "      <th>73</th>\n",
       "      <td>1</td>\n",
       "    </tr>\n",
       "    <tr>\n",
       "      <th>412</th>\n",
       "      <td>2</td>\n",
       "    </tr>\n",
       "    <tr>\n",
       "      <th>612</th>\n",
       "      <td>2</td>\n",
       "    </tr>\n",
       "    <tr>\n",
       "      <th>364</th>\n",
=======
       "      <th>664</th>\n",
       "      <td>1</td>\n",
       "    </tr>\n",
       "    <tr>\n",
       "      <th>368</th>\n",
       "      <td>2</td>\n",
       "    </tr>\n",
       "    <tr>\n",
       "      <th>180</th>\n",
       "      <td>2</td>\n",
       "    </tr>\n",
       "    <tr>\n",
       "      <th>116</th>\n",
       "      <td>1</td>\n",
       "    </tr>\n",
       "    <tr>\n",
       "      <th>844</th>\n",
>>>>>>> 637820ec704844114c0182c69fae6f202aa19823
       "      <td>1</td>\n",
       "    </tr>\n",
       "  </tbody>\n",
       "</table>\n",
       "</div>"
      ],
      "text/plain": [
       "     Title\n",
<<<<<<< HEAD
       "337      2\n",
       "73       1\n",
       "412      2\n",
       "612      2\n",
       "364      1"
=======
       "664      1\n",
       "368      2\n",
       "180      2\n",
       "116      1\n",
       "844      1"
>>>>>>> 637820ec704844114c0182c69fae6f202aa19823
      ]
     },
     "execution_count": 24,
     "metadata": {},
     "output_type": "execute_result"
    }
   ],
   "source": [
    "# check results\n",
    "df[['Title']].sample(5)"
   ]
  },
  {
   "cell_type": "code",
   "execution_count": 25,
   "metadata": {},
   "outputs": [
    {
     "name": "stdout",
     "output_type": "stream",
     "text": [
      "[Young Adult]\n",
      "Categories (9, object): [Unknown < Baby < Preschool < Primary School ... College < Young Adult < Adult < Senior]\n",
      "[Young Adult]\n",
      "Categories (9, object): [Unknown < Baby < Preschool < Primary School ... College < Young Adult < Adult < Senior]\n",
      "[Adult]\n",
      "Categories (9, object): [Unknown < Baby < Preschool < Primary School ... College < Young Adult < Adult < Senior]\n",
      "[Baby]\n",
      "Categories (9, object): [Unknown < Baby < Preschool < Primary School ... College < Young Adult < Adult < Senior]\n",
      "[Young Adult, Adult]\n",
      "Categories (9, object): [Unknown < Baby < Preschool < Primary School ... College < Young Adult < Adult < Senior]\n",
      "[Adult]\n",
      "Categories (9, object): [Unknown < Baby < Preschool < Primary School ... College < Young Adult < Adult < Senior]\n"
     ]
    }
   ],
   "source": [
    "# find age group for each title by mode\n",
    "\n",
    "age_value = {}\n",
    "for n in range(6):\n",
    "    age_value[n+1] = df[df['Title'] == n+1]['AgeGroup'].mode()\n",
    "    print(age_value[n+1].values)"
   ]
  },
  {
   "cell_type": "code",
   "execution_count": 26,
   "metadata": {
    "scrolled": true
   },
   "outputs": [],
   "source": [
    "# age title maping from previous result\n",
    "age_title_mapping = {1: \"Young Adult\", 2: \"Young Adult\", 3: \"Adult\", 4: \"Baby\", 5: \"Young Adult\", 6: \"Adult\"}\n",
    "# fill na with previous result\n",
    "df.AgeGroup = df.AgeGroup.replace(\"Unknown\", df[\"Title\"].map(age_title_mapping))"
   ]
  },
  {
   "cell_type": "code",
   "execution_count": 27,
   "metadata": {},
   "outputs": [
    {
     "data": {
      "text/plain": [
       "0                College\n",
       "1                  Adult\n",
       "2            Young Adult\n",
       "3            Young Adult\n",
       "4            Young Adult\n",
       "5            Young Adult\n",
       "6                  Adult\n",
       "7                   Baby\n",
       "8            Young Adult\n",
       "9      Elementary School\n",
       "10             Preschool\n",
       "11                 Adult\n",
       "12               College\n",
       "13                 Adult\n",
       "14     Elementary School\n",
       "15                 Adult\n",
       "16                  Baby\n",
       "17           Young Adult\n",
       "18           Young Adult\n",
       "19                 Adult\n",
       "20           Young Adult\n",
       "21           Young Adult\n",
       "22     Elementary School\n",
       "23           Young Adult\n",
       "24        Primary School\n",
       "25                 Adult\n",
       "26           Young Adult\n",
       "27               College\n",
       "28           Young Adult\n",
       "29           Young Adult\n",
       "             ...        \n",
       "861              College\n",
       "862                Adult\n",
       "863          Young Adult\n",
       "864          Young Adult\n",
       "865                Adult\n",
       "866          Young Adult\n",
       "867          Young Adult\n",
       "868          Young Adult\n",
       "869            Preschool\n",
       "870          Young Adult\n",
       "871                Adult\n",
       "872          Young Adult\n",
       "873                Adult\n",
       "874          Young Adult\n",
       "875    Elementary School\n",
       "876              College\n",
       "877              College\n",
       "878          Young Adult\n",
       "879                Adult\n",
       "880          Young Adult\n",
       "881          Young Adult\n",
       "882              College\n",
       "883          Young Adult\n",
       "884          Young Adult\n",
       "885                Adult\n",
       "886          Young Adult\n",
       "887              College\n",
       "888          Young Adult\n",
       "889          Young Adult\n",
       "890          Young Adult\n",
       "Name: AgeGroup, Length: 891, dtype: category\n",
       "Categories (9, object): [Unknown < Baby < Preschool < Primary School ... College < Young Adult < Adult < Senior]"
      ]
     },
     "execution_count": 27,
     "metadata": {},
     "output_type": "execute_result"
    }
   ],
   "source": [
    "df.AgeGroup"
   ]
  },
  {
   "cell_type": "code",
   "execution_count": 28,
   "metadata": {},
   "outputs": [],
   "source": [
    "# change agegroup's data type from category to int\n",
    "age_mapping = {'Baby': 1, 'Preschool': 2, 'Primary School': 3, 'Elementary School': 4, 'College': 5, 'Young Adult': 6, 'Adult': 7, 'Senior': 8}\n",
    "df.AgeGroup = df.AgeGroup.map(age_mapping)"
   ]
  },
  {
   "cell_type": "markdown",
   "metadata": {},
   "source": [
    "### Sex Feature"
   ]
  },
  {
   "cell_type": "code",
   "execution_count": 29,
   "metadata": {
    "scrolled": true
   },
   "outputs": [
    {
     "data": {
      "text/plain": [
       "0    1\n",
       "1    0\n",
       "2    0\n",
       "3    0\n",
       "4    1\n",
       "Name: Sex, dtype: int32"
      ]
     },
     "execution_count": 29,
     "metadata": {},
     "output_type": "execute_result"
    }
   ],
   "source": [
    "# map Male = 1, Female = 0\n",
    "\n",
    "df.Sex = (df.Sex.values == 'male').astype(int)\n",
    "df['Sex'].head()"
   ]
  },
  {
   "cell_type": "markdown",
   "metadata": {},
   "source": [
    "### SibSp Feature"
   ]
  },
  {
   "cell_type": "markdown",
   "metadata": {},
   "source": [
    "Use SibSpGroup instead."
   ]
  },
  {
   "cell_type": "markdown",
   "metadata": {},
   "source": [
    "### Parch Feature"
   ]
  },
  {
   "cell_type": "markdown",
   "metadata": {},
   "source": [
    "Do nothing."
   ]
  },
  {
   "cell_type": "markdown",
   "metadata": {},
   "source": [
    "### Fare Feature"
   ]
  },
  {
   "cell_type": "code",
   "execution_count": 30,
   "metadata": {},
   "outputs": [
    {
     "data": {
      "text/html": [
       "<div>\n",
       "<style scoped>\n",
       "    .dataframe tbody tr th:only-of-type {\n",
       "        vertical-align: middle;\n",
       "    }\n",
       "\n",
       "    .dataframe tbody tr th {\n",
       "        vertical-align: top;\n",
       "    }\n",
       "\n",
       "    .dataframe thead th {\n",
       "        text-align: right;\n",
       "    }\n",
       "</style>\n",
       "<table border=\"1\" class=\"dataframe\">\n",
       "  <thead>\n",
       "    <tr style=\"text-align: right;\">\n",
       "      <th></th>\n",
       "      <th>Fare</th>\n",
       "      <th>FareGroup</th>\n",
       "    </tr>\n",
       "  </thead>\n",
       "  <tbody>\n",
       "    <tr>\n",
<<<<<<< HEAD
       "      <th>169</th>\n",
       "      <td>56.4958</td>\n",
       "      <td>1</td>\n",
       "    </tr>\n",
       "    <tr>\n",
       "      <th>332</th>\n",
       "      <td>153.4625</td>\n",
       "      <td>2</td>\n",
       "    </tr>\n",
       "    <tr>\n",
       "      <th>165</th>\n",
       "      <td>20.5250</td>\n",
       "      <td>1</td>\n",
       "    </tr>\n",
       "    <tr>\n",
       "      <th>45</th>\n",
       "      <td>8.0500</td>\n",
       "      <td>1</td>\n",
       "    </tr>\n",
       "    <tr>\n",
       "      <th>166</th>\n",
       "      <td>55.0000</td>\n",
       "      <td>1</td>\n",
       "    </tr>\n",
       "    <tr>\n",
       "      <th>179</th>\n",
       "      <td>0.0000</td>\n",
       "      <td>1</td>\n",
       "    </tr>\n",
       "    <tr>\n",
       "      <th>416</th>\n",
       "      <td>32.5000</td>\n",
       "      <td>1</td>\n",
       "    </tr>\n",
       "    <tr>\n",
       "      <th>392</th>\n",
       "      <td>7.9250</td>\n",
       "      <td>1</td>\n",
       "    </tr>\n",
       "    <tr>\n",
       "      <th>426</th>\n",
       "      <td>26.0000</td>\n",
       "      <td>1</td>\n",
       "    </tr>\n",
       "    <tr>\n",
       "      <th>726</th>\n",
       "      <td>21.0000</td>\n",
=======
       "      <th>503</th>\n",
       "      <td>9.5875</td>\n",
       "      <td>1</td>\n",
       "    </tr>\n",
       "    <tr>\n",
       "      <th>591</th>\n",
       "      <td>78.2667</td>\n",
       "      <td>1</td>\n",
       "    </tr>\n",
       "    <tr>\n",
       "      <th>805</th>\n",
       "      <td>7.7750</td>\n",
       "      <td>1</td>\n",
       "    </tr>\n",
       "    <tr>\n",
       "      <th>195</th>\n",
       "      <td>146.5208</td>\n",
       "      <td>2</td>\n",
       "    </tr>\n",
       "    <tr>\n",
       "      <th>492</th>\n",
       "      <td>30.5000</td>\n",
       "      <td>1</td>\n",
       "    </tr>\n",
       "    <tr>\n",
       "      <th>861</th>\n",
       "      <td>11.5000</td>\n",
       "      <td>1</td>\n",
       "    </tr>\n",
       "    <tr>\n",
       "      <th>534</th>\n",
       "      <td>8.6625</td>\n",
       "      <td>1</td>\n",
       "    </tr>\n",
       "    <tr>\n",
       "      <th>472</th>\n",
       "      <td>27.7500</td>\n",
       "      <td>1</td>\n",
       "    </tr>\n",
       "    <tr>\n",
       "      <th>323</th>\n",
       "      <td>29.0000</td>\n",
       "      <td>1</td>\n",
       "    </tr>\n",
       "    <tr>\n",
       "      <th>621</th>\n",
       "      <td>52.5542</td>\n",
>>>>>>> 637820ec704844114c0182c69fae6f202aa19823
       "      <td>1</td>\n",
       "    </tr>\n",
       "  </tbody>\n",
       "</table>\n",
       "</div>"
      ],
      "text/plain": [
       "         Fare  FareGroup\n",
<<<<<<< HEAD
       "169   56.4958          1\n",
       "332  153.4625          2\n",
       "165   20.5250          1\n",
       "45     8.0500          1\n",
       "166   55.0000          1\n",
       "179    0.0000          1\n",
       "416   32.5000          1\n",
       "392    7.9250          1\n",
       "426   26.0000          1\n",
       "726   21.0000          1"
=======
       "503    9.5875          1\n",
       "591   78.2667          1\n",
       "805    7.7750          1\n",
       "195  146.5208          2\n",
       "492   30.5000          1\n",
       "861   11.5000          1\n",
       "534    8.6625          1\n",
       "472   27.7500          1\n",
       "323   29.0000          1\n",
       "621   52.5542          1"
>>>>>>> 637820ec704844114c0182c69fae6f202aa19823
      ]
     },
     "execution_count": 30,
     "metadata": {},
     "output_type": "execute_result"
    }
   ],
   "source": [
    "#map Fare values into groups of numerical values\n",
    "\n",
    "df['FareGroup'] = pd.cut(df['Fare'], 4, labels = [1, 2, 3, 4]).astype(int)\n",
    "df[['Fare', 'FareGroup']].sample(10)"
   ]
  },
  {
   "cell_type": "markdown",
   "metadata": {},
   "source": [
    "### Cabin Feature"
   ]
  },
  {
   "cell_type": "markdown",
   "metadata": {},
   "source": [
    "Use 'hasCabin' instead of 'Cabin'"
   ]
  },
  {
   "cell_type": "markdown",
   "metadata": {},
   "source": [
    "### Embark Feature"
   ]
  },
  {
   "cell_type": "code",
   "execution_count": 31,
   "metadata": {
    "scrolled": true
   },
   "outputs": [
    {
     "data": {
      "text/html": [
       "<div>\n",
       "<style scoped>\n",
       "    .dataframe tbody tr th:only-of-type {\n",
       "        vertical-align: middle;\n",
       "    }\n",
       "\n",
       "    .dataframe tbody tr th {\n",
       "        vertical-align: top;\n",
       "    }\n",
       "\n",
       "    .dataframe thead th {\n",
       "        text-align: right;\n",
       "    }\n",
       "</style>\n",
       "<table border=\"1\" class=\"dataframe\">\n",
       "  <thead>\n",
       "    <tr style=\"text-align: right;\">\n",
       "      <th></th>\n",
       "      <th>PassengerId</th>\n",
       "      <th>Survived</th>\n",
       "      <th>Pclass</th>\n",
       "      <th>Name</th>\n",
       "      <th>Sex</th>\n",
       "      <th>Age</th>\n",
       "      <th>SibSp</th>\n",
       "      <th>Parch</th>\n",
       "      <th>Ticket</th>\n",
       "      <th>Fare</th>\n",
       "      <th>Cabin</th>\n",
       "      <th>Embarked</th>\n",
       "      <th>AgeGroup</th>\n",
       "      <th>SibSpGroup</th>\n",
       "      <th>FareGroup</th>\n",
       "      <th>hasCabin</th>\n",
       "      <th>Title</th>\n",
       "    </tr>\n",
       "  </thead>\n",
       "  <tbody>\n",
       "    <tr>\n",
<<<<<<< HEAD
       "      <th>827</th>\n",
       "      <td>828</td>\n",
       "      <td>1</td>\n",
       "      <td>2</td>\n",
       "      <td>Mallet, Master. Andre</td>\n",
       "      <td>1</td>\n",
       "      <td>1.0</td>\n",
       "      <td>0</td>\n",
       "      <td>2</td>\n",
       "      <td>S.C./PARIS 2079</td>\n",
       "      <td>37.0042</td>\n",
=======
       "      <th>379</th>\n",
       "      <td>380</td>\n",
       "      <td>0</td>\n",
       "      <td>3</td>\n",
       "      <td>Gustafsson, Mr. Karl Gideon</td>\n",
       "      <td>1</td>\n",
       "      <td>19.0</td>\n",
       "      <td>0</td>\n",
       "      <td>0</td>\n",
       "      <td>347069</td>\n",
       "      <td>7.775</td>\n",
>>>>>>> 637820ec704844114c0182c69fae6f202aa19823
       "      <td>NaN</td>\n",
       "      <td>2</td>\n",
       "      <td>1</td>\n",
<<<<<<< HEAD
=======
       "      <td>5</td>\n",
>>>>>>> 637820ec704844114c0182c69fae6f202aa19823
       "      <td>0</td>\n",
       "      <td>1</td>\n",
       "      <td>0</td>\n",
       "      <td>4</td>\n",
       "    </tr>\n",
       "    <tr>\n",
<<<<<<< HEAD
       "      <th>489</th>\n",
       "      <td>490</td>\n",
       "      <td>1</td>\n",
       "      <td>3</td>\n",
       "      <td>Coutts, Master. Eden Leslie \"Neville\"</td>\n",
       "      <td>1</td>\n",
       "      <td>9.0</td>\n",
       "      <td>1</td>\n",
       "      <td>1</td>\n",
       "      <td>C.A. 37671</td>\n",
       "      <td>15.9000</td>\n",
       "      <td>NaN</td>\n",
       "      <td>1</td>\n",
       "      <td>3</td>\n",
=======
       "      <th>363</th>\n",
       "      <td>364</td>\n",
       "      <td>0</td>\n",
       "      <td>3</td>\n",
       "      <td>Asim, Mr. Adola</td>\n",
       "      <td>1</td>\n",
       "      <td>35.0</td>\n",
       "      <td>0</td>\n",
       "      <td>0</td>\n",
       "      <td>SOTON/O.Q. 3101310</td>\n",
       "      <td>7.050</td>\n",
       "      <td>NaN</td>\n",
       "      <td>1</td>\n",
       "      <td>6</td>\n",
       "      <td>0</td>\n",
>>>>>>> 637820ec704844114c0182c69fae6f202aa19823
       "      <td>1</td>\n",
       "      <td>1</td>\n",
       "      <td>0</td>\n",
       "      <td>4</td>\n",
       "    </tr>\n",
       "    <tr>\n",
<<<<<<< HEAD
       "      <th>565</th>\n",
       "      <td>566</td>\n",
       "      <td>0</td>\n",
       "      <td>3</td>\n",
       "      <td>Davies, Mr. Alfred J</td>\n",
       "      <td>1</td>\n",
       "      <td>24.0</td>\n",
       "      <td>2</td>\n",
       "      <td>0</td>\n",
       "      <td>A/4 48871</td>\n",
       "      <td>24.1500</td>\n",
       "      <td>NaN</td>\n",
       "      <td>1</td>\n",
       "      <td>6</td>\n",
       "      <td>1</td>\n",
=======
       "      <th>525</th>\n",
       "      <td>526</td>\n",
       "      <td>0</td>\n",
       "      <td>3</td>\n",
       "      <td>Farrell, Mr. James</td>\n",
       "      <td>1</td>\n",
       "      <td>40.5</td>\n",
       "      <td>0</td>\n",
       "      <td>0</td>\n",
       "      <td>367232</td>\n",
       "      <td>7.750</td>\n",
       "      <td>NaN</td>\n",
       "      <td>3</td>\n",
       "      <td>7</td>\n",
       "      <td>0</td>\n",
>>>>>>> 637820ec704844114c0182c69fae6f202aa19823
       "      <td>1</td>\n",
       "      <td>0</td>\n",
       "      <td>1</td>\n",
       "    </tr>\n",
       "    <tr>\n",
<<<<<<< HEAD
       "      <th>267</th>\n",
       "      <td>268</td>\n",
       "      <td>1</td>\n",
       "      <td>3</td>\n",
       "      <td>Persson, Mr. Ernst Ulrik</td>\n",
       "      <td>1</td>\n",
       "      <td>25.0</td>\n",
       "      <td>1</td>\n",
       "      <td>0</td>\n",
       "      <td>347083</td>\n",
       "      <td>7.7750</td>\n",
       "      <td>NaN</td>\n",
       "      <td>1</td>\n",
       "      <td>6</td>\n",
       "      <td>1</td>\n",
=======
       "      <th>613</th>\n",
       "      <td>614</td>\n",
       "      <td>0</td>\n",
       "      <td>3</td>\n",
       "      <td>Horgan, Mr. John</td>\n",
       "      <td>1</td>\n",
       "      <td>-0.5</td>\n",
       "      <td>0</td>\n",
       "      <td>0</td>\n",
       "      <td>370377</td>\n",
       "      <td>7.750</td>\n",
       "      <td>NaN</td>\n",
       "      <td>3</td>\n",
       "      <td>6</td>\n",
       "      <td>0</td>\n",
>>>>>>> 637820ec704844114c0182c69fae6f202aa19823
       "      <td>1</td>\n",
       "      <td>0</td>\n",
       "      <td>1</td>\n",
       "    </tr>\n",
       "    <tr>\n",
<<<<<<< HEAD
       "      <th>45</th>\n",
       "      <td>46</td>\n",
       "      <td>0</td>\n",
       "      <td>3</td>\n",
       "      <td>Rogers, Mr. William John</td>\n",
       "      <td>1</td>\n",
       "      <td>-0.5</td>\n",
       "      <td>0</td>\n",
       "      <td>0</td>\n",
       "      <td>S.C./A.4. 23567</td>\n",
       "      <td>8.0500</td>\n",
       "      <td>NaN</td>\n",
       "      <td>1</td>\n",
       "      <td>6</td>\n",
       "      <td>0</td>\n",
       "      <td>1</td>\n",
       "      <td>0</td>\n",
       "      <td>1</td>\n",
=======
       "      <th>505</th>\n",
       "      <td>506</td>\n",
       "      <td>0</td>\n",
       "      <td>1</td>\n",
       "      <td>Penasco y Castellana, Mr. Victor de Satode</td>\n",
       "      <td>1</td>\n",
       "      <td>18.0</td>\n",
       "      <td>1</td>\n",
       "      <td>0</td>\n",
       "      <td>PC 17758</td>\n",
       "      <td>108.900</td>\n",
       "      <td>C65</td>\n",
       "      <td>2</td>\n",
       "      <td>4</td>\n",
       "      <td>1</td>\n",
       "      <td>1</td>\n",
       "      <td>1</td>\n",
       "      <td>1</td>\n",
>>>>>>> 637820ec704844114c0182c69fae6f202aa19823
       "    </tr>\n",
       "  </tbody>\n",
       "</table>\n",
       "</div>"
      ],
      "text/plain": [
<<<<<<< HEAD
       "     PassengerId  Survived  Pclass                                   Name  \\\n",
       "827          828         1       2                  Mallet, Master. Andre   \n",
       "489          490         1       3  Coutts, Master. Eden Leslie \"Neville\"   \n",
       "565          566         0       3                   Davies, Mr. Alfred J   \n",
       "267          268         1       3               Persson, Mr. Ernst Ulrik   \n",
       "45            46         0       3               Rogers, Mr. William John   \n",
       "\n",
       "     Sex   Age  SibSp  Parch           Ticket     Fare Cabin  Embarked  \\\n",
       "827    1   1.0      0      2  S.C./PARIS 2079  37.0042   NaN         2   \n",
       "489    1   9.0      1      1       C.A. 37671  15.9000   NaN         1   \n",
       "565    1  24.0      2      0        A/4 48871  24.1500   NaN         1   \n",
       "267    1  25.0      1      0           347083   7.7750   NaN         1   \n",
       "45     1  -0.5      0      0  S.C./A.4. 23567   8.0500   NaN         1   \n",
       "\n",
       "     AgeGroup  SibSpGroup  FareGroup  hasCabin  Title  \n",
       "827         1           0          1         0      4  \n",
       "489         3           1          1         0      4  \n",
       "565         6           1          1         0      1  \n",
       "267         6           1          1         0      1  \n",
       "45          6           0          1         0      1  "
=======
       "     PassengerId  Survived  Pclass  \\\n",
       "379          380         0       3   \n",
       "363          364         0       3   \n",
       "525          526         0       3   \n",
       "613          614         0       3   \n",
       "505          506         0       1   \n",
       "\n",
       "                                           Name  Sex   Age  SibSp  Parch  \\\n",
       "379                 Gustafsson, Mr. Karl Gideon    1  19.0      0      0   \n",
       "363                             Asim, Mr. Adola    1  35.0      0      0   \n",
       "525                          Farrell, Mr. James    1  40.5      0      0   \n",
       "613                            Horgan, Mr. John    1  -0.5      0      0   \n",
       "505  Penasco y Castellana, Mr. Victor de Satode    1  18.0      1      0   \n",
       "\n",
       "                 Ticket     Fare Cabin  Embarked  AgeGroup  SibSpGroup  \\\n",
       "379              347069    7.775   NaN         1         5           0   \n",
       "363  SOTON/O.Q. 3101310    7.050   NaN         1         6           0   \n",
       "525              367232    7.750   NaN         3         7           0   \n",
       "613              370377    7.750   NaN         3         6           0   \n",
       "505            PC 17758  108.900   C65         2         4           1   \n",
       "\n",
       "     FareGroup  hasCabin  Title  \n",
       "379          1         0      1  \n",
       "363          1         0      1  \n",
       "525          1         0      1  \n",
       "613          1         0      1  \n",
       "505          1         1      1  "
>>>>>>> 637820ec704844114c0182c69fae6f202aa19823
      ]
     },
     "execution_count": 31,
     "metadata": {},
     "output_type": "execute_result"
    }
   ],
   "source": [
    "# map each Embarked value to a numerical value\n",
    "embarked_mapping = {\"S\": 1, \"C\": 2, \"Q\": 3}\n",
    "df['Embarked'] = df['Embarked'].map(embarked_mapping)\n",
    "# fill na with Cherbourg as most people come from there\n",
    "df['Embarked'] = df['Embarked'].fillna(2).astype(int)\n",
    "df.sample(5)\n",
    "\n",
    "# Southampton : 1\n",
    "# Cherbourg : 2\n",
    "# Queenstown : 3"
   ]
  },
  {
   "cell_type": "markdown",
   "metadata": {},
   "source": [
    "### Drop unneeded columns"
   ]
  },
  {
   "cell_type": "code",
   "execution_count": 32,
   "metadata": {
    "scrolled": true
   },
   "outputs": [
    {
     "data": {
      "text/html": [
       "<div>\n",
       "<style scoped>\n",
       "    .dataframe tbody tr th:only-of-type {\n",
       "        vertical-align: middle;\n",
       "    }\n",
       "\n",
       "    .dataframe tbody tr th {\n",
       "        vertical-align: top;\n",
       "    }\n",
       "\n",
       "    .dataframe thead th {\n",
       "        text-align: right;\n",
       "    }\n",
       "</style>\n",
       "<table border=\"1\" class=\"dataframe\">\n",
       "  <thead>\n",
       "    <tr style=\"text-align: right;\">\n",
       "      <th></th>\n",
       "      <th>PassengerId</th>\n",
       "      <th>Survived</th>\n",
       "      <th>Pclass</th>\n",
       "      <th>Name</th>\n",
       "      <th>Sex</th>\n",
       "      <th>Age</th>\n",
       "      <th>SibSp</th>\n",
       "      <th>Parch</th>\n",
       "      <th>Ticket</th>\n",
       "      <th>Fare</th>\n",
       "      <th>Cabin</th>\n",
       "      <th>Embarked</th>\n",
       "      <th>AgeGroup</th>\n",
       "      <th>SibSpGroup</th>\n",
       "      <th>FareGroup</th>\n",
       "      <th>hasCabin</th>\n",
       "      <th>Title</th>\n",
       "    </tr>\n",
       "  </thead>\n",
       "  <tbody>\n",
       "    <tr>\n",
<<<<<<< HEAD
       "      <th>679</th>\n",
       "      <td>680</td>\n",
       "      <td>1</td>\n",
=======
       "      <th>508</th>\n",
       "      <td>509</td>\n",
       "      <td>0</td>\n",
       "      <td>3</td>\n",
       "      <td>Olsen, Mr. Henry Margido</td>\n",
       "      <td>1</td>\n",
       "      <td>28.0</td>\n",
       "      <td>0</td>\n",
       "      <td>0</td>\n",
       "      <td>C 4001</td>\n",
       "      <td>22.5250</td>\n",
       "      <td>NaN</td>\n",
>>>>>>> 637820ec704844114c0182c69fae6f202aa19823
       "      <td>1</td>\n",
       "      <td>Cardeza, Mr. Thomas Drake Martinez</td>\n",
       "      <td>1</td>\n",
       "      <td>36.0</td>\n",
       "      <td>0</td>\n",
       "      <td>1</td>\n",
       "      <td>PC 17755</td>\n",
       "      <td>512.3292</td>\n",
       "      <td>B51 B53 B55</td>\n",
       "      <td>2</td>\n",
       "      <td>7</td>\n",
       "      <td>0</td>\n",
       "      <td>4</td>\n",
       "      <td>1</td>\n",
       "      <td>1</td>\n",
       "    </tr>\n",
       "    <tr>\n",
<<<<<<< HEAD
       "      <th>372</th>\n",
       "      <td>373</td>\n",
       "      <td>0</td>\n",
       "      <td>3</td>\n",
       "      <td>Beavan, Mr. William Thomas</td>\n",
       "      <td>1</td>\n",
       "      <td>19.0</td>\n",
       "      <td>0</td>\n",
       "      <td>0</td>\n",
       "      <td>323951</td>\n",
       "      <td>8.0500</td>\n",
=======
       "      <th>348</th>\n",
       "      <td>349</td>\n",
       "      <td>1</td>\n",
       "      <td>3</td>\n",
       "      <td>Coutts, Master. William Loch \"William\"</td>\n",
       "      <td>1</td>\n",
       "      <td>3.0</td>\n",
       "      <td>1</td>\n",
       "      <td>1</td>\n",
       "      <td>C.A. 37671</td>\n",
       "      <td>15.9000</td>\n",
>>>>>>> 637820ec704844114c0182c69fae6f202aa19823
       "      <td>NaN</td>\n",
       "      <td>1</td>\n",
       "      <td>1</td>\n",
       "      <td>1</td>\n",
<<<<<<< HEAD
       "    </tr>\n",
       "    <tr>\n",
       "      <th>768</th>\n",
       "      <td>769</td>\n",
       "      <td>0</td>\n",
       "      <td>3</td>\n",
       "      <td>Moran, Mr. Daniel J</td>\n",
=======
       "      <td>1</td>\n",
       "      <td>0</td>\n",
       "      <td>4</td>\n",
       "    </tr>\n",
       "    <tr>\n",
       "      <th>46</th>\n",
       "      <td>47</td>\n",
       "      <td>0</td>\n",
       "      <td>3</td>\n",
       "      <td>Lennon, Mr. Denis</td>\n",
>>>>>>> 637820ec704844114c0182c69fae6f202aa19823
       "      <td>1</td>\n",
       "      <td>-0.5</td>\n",
       "      <td>1</td>\n",
       "      <td>0</td>\n",
<<<<<<< HEAD
       "      <td>371110</td>\n",
       "      <td>24.1500</td>\n",
=======
       "      <td>370371</td>\n",
       "      <td>15.5000</td>\n",
>>>>>>> 637820ec704844114c0182c69fae6f202aa19823
       "      <td>NaN</td>\n",
       "      <td>3</td>\n",
       "      <td>6</td>\n",
       "      <td>1</td>\n",
       "      <td>1</td>\n",
       "      <td>0</td>\n",
       "      <td>1</td>\n",
       "    </tr>\n",
       "    <tr>\n",
<<<<<<< HEAD
       "      <th>241</th>\n",
       "      <td>242</td>\n",
       "      <td>1</td>\n",
       "      <td>3</td>\n",
       "      <td>Murphy, Miss. Katherine \"Kate\"</td>\n",
       "      <td>0</td>\n",
       "      <td>-0.5</td>\n",
       "      <td>1</td>\n",
       "      <td>0</td>\n",
       "      <td>367230</td>\n",
       "      <td>15.5000</td>\n",
       "      <td>NaN</td>\n",
       "      <td>3</td>\n",
       "      <td>6</td>\n",
       "      <td>1</td>\n",
       "      <td>1</td>\n",
       "      <td>0</td>\n",
       "      <td>2</td>\n",
       "    </tr>\n",
       "    <tr>\n",
       "      <th>465</th>\n",
       "      <td>466</td>\n",
       "      <td>0</td>\n",
       "      <td>3</td>\n",
       "      <td>Goncalves, Mr. Manuel Estanslas</td>\n",
       "      <td>1</td>\n",
       "      <td>38.0</td>\n",
=======
       "      <th>531</th>\n",
       "      <td>532</td>\n",
       "      <td>0</td>\n",
       "      <td>3</td>\n",
       "      <td>Toufik, Mr. Nakli</td>\n",
       "      <td>1</td>\n",
       "      <td>-0.5</td>\n",
       "      <td>0</td>\n",
       "      <td>0</td>\n",
       "      <td>2641</td>\n",
       "      <td>7.2292</td>\n",
       "      <td>NaN</td>\n",
       "      <td>2</td>\n",
       "      <td>6</td>\n",
       "      <td>0</td>\n",
       "      <td>1</td>\n",
       "      <td>0</td>\n",
       "      <td>1</td>\n",
       "    </tr>\n",
       "    <tr>\n",
       "      <th>32</th>\n",
       "      <td>33</td>\n",
       "      <td>1</td>\n",
       "      <td>3</td>\n",
       "      <td>Glynn, Miss. Mary Agatha</td>\n",
>>>>>>> 637820ec704844114c0182c69fae6f202aa19823
       "      <td>0</td>\n",
       "      <td>-0.5</td>\n",
       "      <td>0</td>\n",
<<<<<<< HEAD
       "      <td>SOTON/O.Q. 3101306</td>\n",
       "      <td>7.0500</td>\n",
       "      <td>NaN</td>\n",
       "      <td>1</td>\n",
       "      <td>7</td>\n",
=======
       "      <td>0</td>\n",
       "      <td>335677</td>\n",
       "      <td>7.7500</td>\n",
       "      <td>NaN</td>\n",
       "      <td>3</td>\n",
       "      <td>6</td>\n",
>>>>>>> 637820ec704844114c0182c69fae6f202aa19823
       "      <td>0</td>\n",
       "      <td>1</td>\n",
       "      <td>0</td>\n",
       "      <td>2</td>\n",
       "    </tr>\n",
       "  </tbody>\n",
       "</table>\n",
       "</div>"
      ],
      "text/plain": [
<<<<<<< HEAD
       "     PassengerId  Survived  Pclass                                Name  Sex  \\\n",
       "679          680         1       1  Cardeza, Mr. Thomas Drake Martinez    1   \n",
       "372          373         0       3          Beavan, Mr. William Thomas    1   \n",
       "768          769         0       3                 Moran, Mr. Daniel J    1   \n",
       "241          242         1       3      Murphy, Miss. Katherine \"Kate\"    0   \n",
       "465          466         0       3     Goncalves, Mr. Manuel Estanslas    1   \n",
       "\n",
       "      Age  SibSp  Parch              Ticket      Fare        Cabin  Embarked  \\\n",
       "679  36.0      0      1            PC 17755  512.3292  B51 B53 B55         2   \n",
       "372  19.0      0      0              323951    8.0500          NaN         1   \n",
       "768  -0.5      1      0              371110   24.1500          NaN         3   \n",
       "241  -0.5      1      0              367230   15.5000          NaN         3   \n",
       "465  38.0      0      0  SOTON/O.Q. 3101306    7.0500          NaN         1   \n",
       "\n",
       "     AgeGroup  SibSpGroup  FareGroup  hasCabin  Title  \n",
       "679         7           0          4         1      1  \n",
       "372         5           0          1         0      1  \n",
       "768         6           1          1         0      1  \n",
       "241         6           1          1         0      2  \n",
       "465         7           0          1         0      1  "
=======
       "     PassengerId  Survived  Pclass                                    Name  \\\n",
       "508          509         0       3                Olsen, Mr. Henry Margido   \n",
       "348          349         1       3  Coutts, Master. William Loch \"William\"   \n",
       "46            47         0       3                       Lennon, Mr. Denis   \n",
       "531          532         0       3                       Toufik, Mr. Nakli   \n",
       "32            33         1       3                Glynn, Miss. Mary Agatha   \n",
       "\n",
       "     Sex   Age  SibSp  Parch      Ticket     Fare Cabin  Embarked  AgeGroup  \\\n",
       "508    1  28.0      0      0      C 4001  22.5250   NaN         1         6   \n",
       "348    1   3.0      1      1  C.A. 37671  15.9000   NaN         1         1   \n",
       "46     1  -0.5      1      0      370371  15.5000   NaN         3         6   \n",
       "531    1  -0.5      0      0        2641   7.2292   NaN         2         6   \n",
       "32     0  -0.5      0      0      335677   7.7500   NaN         3         6   \n",
       "\n",
       "     SibSpGroup  FareGroup  hasCabin  Title  \n",
       "508           0          1         0      1  \n",
       "348           1          1         0      4  \n",
       "46            1          1         0      1  \n",
       "531           0          1         0      1  \n",
       "32            0          1         0      2  "
>>>>>>> 637820ec704844114c0182c69fae6f202aa19823
      ]
     },
     "execution_count": 32,
     "metadata": {},
     "output_type": "execute_result"
    }
   ],
   "source": [
    "# check our dataframe\n",
    "df.sample(5)"
   ]
  },
  {
   "cell_type": "code",
   "execution_count": 33,
   "metadata": {
    "scrolled": true
   },
   "outputs": [
    {
     "name": "stdout",
     "output_type": "stream",
     "text": [
      "<class 'pandas.core.frame.DataFrame'>\n",
      "RangeIndex: 891 entries, 0 to 890\n",
      "Data columns (total 17 columns):\n",
      "PassengerId    891 non-null int64\n",
      "Survived       891 non-null int64\n",
      "Pclass         891 non-null int64\n",
      "Name           891 non-null object\n",
      "Sex            891 non-null int32\n",
      "Age            891 non-null float64\n",
      "SibSp          891 non-null int64\n",
      "Parch          891 non-null int64\n",
      "Ticket         891 non-null object\n",
      "Fare           891 non-null float64\n",
      "Cabin          204 non-null object\n",
      "Embarked       891 non-null int32\n",
      "AgeGroup       891 non-null int64\n",
      "SibSpGroup     891 non-null int32\n",
      "FareGroup      891 non-null int32\n",
      "hasCabin       891 non-null int32\n",
      "Title          891 non-null int64\n",
      "dtypes: float64(2), int32(5), int64(7), object(3)\n",
      "memory usage: 101.0+ KB\n"
     ]
    }
   ],
   "source": [
    "df.info()"
   ]
  },
  {
   "cell_type": "code",
   "execution_count": 34,
   "metadata": {
    "scrolled": true
   },
   "outputs": [],
   "source": [
    "# drop unnecessary columns, these columns won't be useful in analysis and prediction\n",
    "df = df.drop(['PassengerId','Name','Ticket', 'Fare', 'Cabin', 'Age', 'SibSp', 'Title'], axis=1)"
   ]
  },
  {
   "cell_type": "code",
   "execution_count": 35,
   "metadata": {},
   "outputs": [
    {
     "data": {
      "text/html": [
       "<div>\n",
       "<style scoped>\n",
       "    .dataframe tbody tr th:only-of-type {\n",
       "        vertical-align: middle;\n",
       "    }\n",
       "\n",
       "    .dataframe tbody tr th {\n",
       "        vertical-align: top;\n",
       "    }\n",
       "\n",
       "    .dataframe thead th {\n",
       "        text-align: right;\n",
       "    }\n",
       "</style>\n",
       "<table border=\"1\" class=\"dataframe\">\n",
       "  <thead>\n",
       "    <tr style=\"text-align: right;\">\n",
       "      <th></th>\n",
       "      <th>Survived</th>\n",
       "      <th>Pclass</th>\n",
       "      <th>Sex</th>\n",
       "      <th>Parch</th>\n",
       "      <th>Embarked</th>\n",
       "      <th>AgeGroup</th>\n",
       "      <th>SibSpGroup</th>\n",
       "      <th>FareGroup</th>\n",
       "      <th>hasCabin</th>\n",
       "    </tr>\n",
       "  </thead>\n",
       "  <tbody>\n",
       "    <tr>\n",
       "      <th>0</th>\n",
       "      <td>0</td>\n",
       "      <td>3</td>\n",
       "      <td>1</td>\n",
       "      <td>0</td>\n",
       "      <td>1</td>\n",
       "      <td>5</td>\n",
       "      <td>1</td>\n",
       "      <td>1</td>\n",
       "      <td>0</td>\n",
       "    </tr>\n",
       "    <tr>\n",
       "      <th>1</th>\n",
       "      <td>1</td>\n",
       "      <td>1</td>\n",
       "      <td>0</td>\n",
       "      <td>0</td>\n",
       "      <td>2</td>\n",
       "      <td>7</td>\n",
       "      <td>1</td>\n",
       "      <td>1</td>\n",
       "      <td>1</td>\n",
       "    </tr>\n",
       "    <tr>\n",
       "      <th>2</th>\n",
       "      <td>1</td>\n",
       "      <td>3</td>\n",
       "      <td>0</td>\n",
       "      <td>0</td>\n",
       "      <td>1</td>\n",
       "      <td>6</td>\n",
       "      <td>0</td>\n",
       "      <td>1</td>\n",
       "      <td>0</td>\n",
       "    </tr>\n",
       "    <tr>\n",
       "      <th>3</th>\n",
       "      <td>1</td>\n",
       "      <td>1</td>\n",
       "      <td>0</td>\n",
       "      <td>0</td>\n",
       "      <td>1</td>\n",
       "      <td>6</td>\n",
       "      <td>1</td>\n",
       "      <td>1</td>\n",
       "      <td>1</td>\n",
       "    </tr>\n",
       "    <tr>\n",
       "      <th>4</th>\n",
       "      <td>0</td>\n",
       "      <td>3</td>\n",
       "      <td>1</td>\n",
       "      <td>0</td>\n",
       "      <td>1</td>\n",
       "      <td>6</td>\n",
       "      <td>0</td>\n",
       "      <td>1</td>\n",
       "      <td>0</td>\n",
       "    </tr>\n",
       "  </tbody>\n",
       "</table>\n",
       "</div>"
      ],
      "text/plain": [
       "   Survived  Pclass  Sex  Parch  Embarked  AgeGroup  SibSpGroup  FareGroup  \\\n",
       "0         0       3    1      0         1         5           1          1   \n",
       "1         1       1    0      0         2         7           1          1   \n",
       "2         1       3    0      0         1         6           0          1   \n",
       "3         1       1    0      0         1         6           1          1   \n",
       "4         0       3    1      0         1         6           0          1   \n",
       "\n",
       "   hasCabin  \n",
       "0         0  \n",
       "1         1  \n",
       "2         0  \n",
       "3         1  \n",
       "4         0  "
      ]
     },
     "execution_count": 35,
     "metadata": {},
     "output_type": "execute_result"
    }
   ],
   "source": [
    "df.head()"
   ]
  },
  {
   "cell_type": "markdown",
   "metadata": {},
   "source": [
    "## 6. Using ML Models"
   ]
  },
  {
   "cell_type": "markdown",
   "metadata": {},
   "source": [
    "### split data"
   ]
  },
  {
   "cell_type": "code",
<<<<<<< HEAD
   "execution_count": 36,
=======
   "execution_count": 105,
>>>>>>> 637820ec704844114c0182c69fae6f202aa19823
   "metadata": {},
   "outputs": [],
   "source": [
    "from sklearn.model_selection import train_test_split\n",
    "\n",
    "X = df.drop(columns='Survived')\n",
    "y = df['Survived']\n",
    "\n",
    "predictors = X.loc[0:700]\n",
    "X_real_test = X.loc[700:]\n",
    "\n",
    "\n",
    "target = y.loc[0:700]\n",
    "y_real_test = y.loc[700:]\n",
    "\n",
    "\n",
    "\n",
    "X_train, X_test, y_train, y_test = train_test_split(predictors, target, test_size = 0.22, random_state = 0)"
   ]
  },
  {
   "cell_type": "code",
<<<<<<< HEAD
   "execution_count": 37,
=======
   "execution_count": 106,
>>>>>>> 637820ec704844114c0182c69fae6f202aa19823
   "metadata": {},
   "outputs": [
    {
     "data": {
      "text/html": [
       "<div>\n",
       "<style scoped>\n",
       "    .dataframe tbody tr th:only-of-type {\n",
       "        vertical-align: middle;\n",
       "    }\n",
       "\n",
       "    .dataframe tbody tr th {\n",
       "        vertical-align: top;\n",
       "    }\n",
       "\n",
       "    .dataframe thead th {\n",
       "        text-align: right;\n",
       "    }\n",
       "</style>\n",
       "<table border=\"1\" class=\"dataframe\">\n",
       "  <thead>\n",
       "    <tr style=\"text-align: right;\">\n",
       "      <th></th>\n",
       "      <th>Pclass</th>\n",
       "      <th>Sex</th>\n",
       "      <th>Parch</th>\n",
       "      <th>Embarked</th>\n",
       "      <th>AgeGroup</th>\n",
       "      <th>SibSpGroup</th>\n",
       "      <th>FareGroup</th>\n",
       "      <th>hasCabin</th>\n",
       "    </tr>\n",
       "  </thead>\n",
       "  <tbody>\n",
       "    <tr>\n",
       "      <th>482</th>\n",
       "      <td>3</td>\n",
       "      <td>1</td>\n",
       "      <td>0</td>\n",
       "      <td>1</td>\n",
       "      <td>7</td>\n",
       "      <td>0</td>\n",
       "      <td>1</td>\n",
       "      <td>0</td>\n",
       "    </tr>\n",
       "    <tr>\n",
       "      <th>355</th>\n",
       "      <td>3</td>\n",
       "      <td>1</td>\n",
       "      <td>0</td>\n",
       "      <td>1</td>\n",
       "      <td>6</td>\n",
       "      <td>0</td>\n",
       "      <td>1</td>\n",
       "      <td>0</td>\n",
       "    </tr>\n",
       "    <tr>\n",
       "      <th>35</th>\n",
       "      <td>1</td>\n",
       "      <td>1</td>\n",
       "      <td>0</td>\n",
       "      <td>1</td>\n",
       "      <td>7</td>\n",
       "      <td>1</td>\n",
       "      <td>1</td>\n",
       "      <td>0</td>\n",
       "    </tr>\n",
       "    <tr>\n",
       "      <th>455</th>\n",
       "      <td>3</td>\n",
       "      <td>1</td>\n",
       "      <td>0</td>\n",
       "      <td>2</td>\n",
       "      <td>6</td>\n",
       "      <td>0</td>\n",
       "      <td>1</td>\n",
       "      <td>0</td>\n",
       "    </tr>\n",
       "    <tr>\n",
       "      <th>310</th>\n",
       "      <td>1</td>\n",
       "      <td>0</td>\n",
       "      <td>0</td>\n",
       "      <td>2</td>\n",
       "      <td>6</td>\n",
       "      <td>0</td>\n",
       "      <td>1</td>\n",
       "      <td>1</td>\n",
       "    </tr>\n",
       "  </tbody>\n",
       "</table>\n",
       "</div>"
      ],
      "text/plain": [
       "     Pclass  Sex  Parch  Embarked  AgeGroup  SibSpGroup  FareGroup  hasCabin\n",
       "482       3    1      0         1         7           0          1         0\n",
       "355       3    1      0         1         6           0          1         0\n",
       "35        1    1      0         1         7           1          1         0\n",
       "455       3    1      0         2         6           0          1         0\n",
       "310       1    0      0         2         6           0          1         1"
      ]
     },
<<<<<<< HEAD
     "execution_count": 37,
=======
     "execution_count": 106,
>>>>>>> 637820ec704844114c0182c69fae6f202aa19823
     "metadata": {},
     "output_type": "execute_result"
    }
   ],
   "source": [
    "X_train.head()"
   ]
  },
  {
   "cell_type": "code",
<<<<<<< HEAD
   "execution_count": 38,
=======
   "execution_count": 107,
>>>>>>> 637820ec704844114c0182c69fae6f202aa19823
   "metadata": {},
   "outputs": [
    {
     "data": {
      "text/plain": [
       "482    0\n",
       "355    0\n",
       "35     0\n",
       "455    1\n",
       "310    1\n",
       "Name: Survived, dtype: int64"
      ]
     },
<<<<<<< HEAD
     "execution_count": 38,
=======
     "execution_count": 107,
>>>>>>> 637820ec704844114c0182c69fae6f202aa19823
     "metadata": {},
     "output_type": "execute_result"
    }
   ],
   "source": [
    "y_train.head()"
   ]
  },
  {
   "cell_type": "code",
<<<<<<< HEAD
   "execution_count": 39,
=======
   "execution_count": 108,
>>>>>>> 637820ec704844114c0182c69fae6f202aa19823
   "metadata": {},
   "outputs": [
    {
     "data": {
      "text/html": [
       "<div>\n",
       "<style scoped>\n",
       "    .dataframe tbody tr th:only-of-type {\n",
       "        vertical-align: middle;\n",
       "    }\n",
       "\n",
       "    .dataframe tbody tr th {\n",
       "        vertical-align: top;\n",
       "    }\n",
       "\n",
       "    .dataframe thead th {\n",
       "        text-align: right;\n",
       "    }\n",
       "</style>\n",
       "<table border=\"1\" class=\"dataframe\">\n",
       "  <thead>\n",
       "    <tr style=\"text-align: right;\">\n",
       "      <th></th>\n",
       "      <th>Pclass</th>\n",
       "      <th>Sex</th>\n",
       "      <th>Parch</th>\n",
       "      <th>Embarked</th>\n",
       "      <th>AgeGroup</th>\n",
       "      <th>SibSpGroup</th>\n",
       "      <th>FareGroup</th>\n",
       "      <th>hasCabin</th>\n",
       "    </tr>\n",
       "  </thead>\n",
       "  <tbody>\n",
       "    <tr>\n",
       "      <th>456</th>\n",
       "      <td>1</td>\n",
       "      <td>1</td>\n",
       "      <td>0</td>\n",
       "      <td>1</td>\n",
       "      <td>8</td>\n",
       "      <td>0</td>\n",
       "      <td>1</td>\n",
       "      <td>1</td>\n",
       "    </tr>\n",
       "    <tr>\n",
       "      <th>675</th>\n",
       "      <td>3</td>\n",
       "      <td>1</td>\n",
       "      <td>0</td>\n",
       "      <td>1</td>\n",
       "      <td>4</td>\n",
       "      <td>0</td>\n",
       "      <td>1</td>\n",
       "      <td>0</td>\n",
       "    </tr>\n",
       "    <tr>\n",
       "      <th>620</th>\n",
       "      <td>3</td>\n",
       "      <td>1</td>\n",
       "      <td>0</td>\n",
       "      <td>2</td>\n",
       "      <td>6</td>\n",
       "      <td>1</td>\n",
       "      <td>1</td>\n",
       "      <td>0</td>\n",
       "    </tr>\n",
       "    <tr>\n",
       "      <th>490</th>\n",
       "      <td>3</td>\n",
       "      <td>1</td>\n",
       "      <td>0</td>\n",
       "      <td>1</td>\n",
       "      <td>6</td>\n",
       "      <td>1</td>\n",
       "      <td>1</td>\n",
       "      <td>0</td>\n",
       "    </tr>\n",
       "    <tr>\n",
       "      <th>215</th>\n",
       "      <td>1</td>\n",
       "      <td>0</td>\n",
       "      <td>0</td>\n",
       "      <td>2</td>\n",
       "      <td>6</td>\n",
       "      <td>1</td>\n",
       "      <td>1</td>\n",
       "      <td>1</td>\n",
       "    </tr>\n",
       "  </tbody>\n",
       "</table>\n",
       "</div>"
      ],
      "text/plain": [
       "     Pclass  Sex  Parch  Embarked  AgeGroup  SibSpGroup  FareGroup  hasCabin\n",
       "456       1    1      0         1         8           0          1         1\n",
       "675       3    1      0         1         4           0          1         0\n",
       "620       3    1      0         2         6           1          1         0\n",
       "490       3    1      0         1         6           1          1         0\n",
       "215       1    0      0         2         6           1          1         1"
      ]
     },
<<<<<<< HEAD
     "execution_count": 39,
=======
     "execution_count": 108,
>>>>>>> 637820ec704844114c0182c69fae6f202aa19823
     "metadata": {},
     "output_type": "execute_result"
    }
   ],
   "source": [
    "X_test.head()"
   ]
  },
  {
   "cell_type": "code",
<<<<<<< HEAD
   "execution_count": 40,
=======
   "execution_count": 109,
>>>>>>> 637820ec704844114c0182c69fae6f202aa19823
   "metadata": {},
   "outputs": [
    {
     "data": {
      "text/plain": [
       "456    0\n",
       "675    0\n",
       "620    0\n",
       "490    0\n",
       "215    1\n",
       "Name: Survived, dtype: int64"
      ]
     },
<<<<<<< HEAD
     "execution_count": 40,
=======
     "execution_count": 109,
>>>>>>> 637820ec704844114c0182c69fae6f202aa19823
     "metadata": {},
     "output_type": "execute_result"
    }
   ],
   "source": [
    "y_test.head()"
   ]
  },
  {
   "cell_type": "code",
<<<<<<< HEAD
   "execution_count": 41,
=======
   "execution_count": 110,
>>>>>>> 637820ec704844114c0182c69fae6f202aa19823
   "metadata": {
    "scrolled": true
   },
   "outputs": [
    {
     "name": "stdout",
     "output_type": "stream",
     "text": [
      "<class 'pandas.core.frame.DataFrame'>\n",
      "Int64Index: 546 entries, 482 to 684\n",
      "Data columns (total 8 columns):\n",
      "Pclass        546 non-null int64\n",
      "Sex           546 non-null int32\n",
      "Parch         546 non-null int64\n",
      "Embarked      546 non-null int32\n",
      "AgeGroup      546 non-null int64\n",
      "SibSpGroup    546 non-null int32\n",
      "FareGroup     546 non-null int32\n",
      "hasCabin      546 non-null int32\n",
      "dtypes: int32(5), int64(3)\n",
      "memory usage: 27.7 KB\n"
     ]
    }
   ],
   "source": [
    "X_train.info()"
   ]
  },
  {
   "cell_type": "code",
<<<<<<< HEAD
   "execution_count": 42,
=======
   "execution_count": 111,
>>>>>>> 637820ec704844114c0182c69fae6f202aa19823
   "metadata": {
    "scrolled": true
   },
   "outputs": [
    {
     "name": "stdout",
     "output_type": "stream",
     "text": [
      "<class 'pandas.core.frame.DataFrame'>\n",
      "Int64Index: 155 entries, 456 to 21\n",
      "Data columns (total 8 columns):\n",
      "Pclass        155 non-null int64\n",
      "Sex           155 non-null int32\n",
      "Parch         155 non-null int64\n",
      "Embarked      155 non-null int32\n",
      "AgeGroup      155 non-null int64\n",
      "SibSpGroup    155 non-null int32\n",
      "FareGroup     155 non-null int32\n",
      "hasCabin      155 non-null int32\n",
      "dtypes: int32(5), int64(3)\n",
      "memory usage: 7.9 KB\n"
     ]
    }
   ],
   "source": [
    "X_test.info()"
   ]
  },
  {
   "cell_type": "markdown",
   "metadata": {},
   "source": [
    "![alt text](https://i.imgur.com/uipmEwt.png)"
   ]
  },
  {
   "cell_type": "markdown",
   "metadata": {},
   "source": [
    "### 3-Nearest Neighbor classification\n",
    "with majority vote method"
   ]
  },
  {
   "cell_type": "code",
<<<<<<< HEAD
   "execution_count": 43,
=======
   "execution_count": 112,
>>>>>>> 637820ec704844114c0182c69fae6f202aa19823
   "metadata": {},
   "outputs": [],
   "source": [
    "from sklearn.neighbors import KNeighborsClassifier\n",
    "knn = KNeighborsClassifier(n_neighbors=3)\n",
    "model_knn = knn.fit(X_train, y_train)\n",
    "y_pred = knn.predict(X_test)"
   ]
  },
  {
   "cell_type": "code",
<<<<<<< HEAD
   "execution_count": 44,
=======
   "execution_count": 113,
>>>>>>> 637820ec704844114c0182c69fae6f202aa19823
   "metadata": {
    "scrolled": true
   },
   "outputs": [
    {
     "name": "stdout",
     "output_type": "stream",
     "text": [
      "[[75 10]\n",
      " [30 40]]\n",
      "\n",
      "precision = 0.7419354838709677\n"
     ]
    }
   ],
   "source": [
    "from sklearn.metrics import confusion_matrix\n",
    "cm = confusion_matrix(y_test, y_pred)\n",
    "print(cm)\n",
    "print('\\nprecision = ' + str((cm[0][0] + cm[1][1])/ (cm[0][1] + cm[1][0] + cm[0][0] + cm[1][1])))"
   ]
  },
  {
   "cell_type": "code",
<<<<<<< HEAD
   "execution_count": 45,
   "metadata": {},
   "outputs": [
    {
     "data": {
      "text/plain": [
       "0    549\n",
       "1    342\n",
       "Name: Survived, dtype: int64"
      ]
     },
     "execution_count": 45,
     "metadata": {},
     "output_type": "execute_result"
=======
   "execution_count": 114,
   "metadata": {},
   "outputs": [
    {
     "name": "stdout",
     "output_type": "stream",
     "text": [
      "[[113   7]\n",
      " [ 22  49]]\n",
      "\n",
      "precision = 0.8481675392670157\n"
     ]
>>>>>>> 637820ec704844114c0182c69fae6f202aa19823
    }
   ],
   "source": [
    "y_pred = knn.predict(X_real_test)\n",
    "cm = confusion_matrix(y_real_test, y_pred)\n",
    "print(cm)\n",
    "print('\\nprecision = ' + str((cm[0][0] + cm[1][1])/ (cm[0][1] + cm[1][0] + cm[0][0] + cm[1][1])))"
   ]
  },
  {
   "cell_type": "markdown",
   "metadata": {},
   "source": [
    "### Naive Bayes classification"
   ]
  },
  {
   "cell_type": "code",
<<<<<<< HEAD
   "execution_count": 46,
=======
   "execution_count": 115,
>>>>>>> 637820ec704844114c0182c69fae6f202aa19823
   "metadata": {},
   "outputs": [],
   "source": [
    "from sklearn.naive_bayes import GaussianNB\n",
    "gnb = GaussianNB()\n",
    "model_gnb = gnb.fit(X_train, y_train)\n",
    "y_pred = gnb.predict(X_test)"
   ]
  },
  {
   "cell_type": "code",
<<<<<<< HEAD
   "execution_count": 47,
   "metadata": {},
=======
   "execution_count": 116,
   "metadata": {
    "scrolled": true
   },
>>>>>>> 637820ec704844114c0182c69fae6f202aa19823
   "outputs": [
    {
     "name": "stdout",
     "output_type": "stream",
     "text": [
      "[[71 14]\n",
      " [27 43]]\n",
      "\n",
      "precision = 0.7354838709677419\n"
     ]
    }
   ],
   "source": [
    "cm = confusion_matrix(y_test, y_pred)\n",
    "print(cm)\n",
    "print('\\nprecision = ' + str((cm[0][0] + cm[1][1])/ (cm[0][1] + cm[1][0] + cm[0][0] + cm[1][1])))"
   ]
  },
  {
   "cell_type": "code",
   "execution_count": 117,
   "metadata": {},
   "outputs": [
    {
     "name": "stdout",
     "output_type": "stream",
     "text": [
      "[[104  16]\n",
      " [ 20  51]]\n",
      "\n",
      "precision = 0.8115183246073299\n"
     ]
    }
   ],
   "source": [
    "y_pred = gnb.predict(X_real_test)\n",
    "cm = confusion_matrix(y_real_test, y_pred)\n",
    "print(cm)\n",
    "print('\\nprecision = ' + str((cm[0][0] + cm[1][1])/ (cm[0][1] + cm[1][0] + cm[0][0] + cm[1][1])))"
   ]
  },
  {
   "cell_type": "markdown",
   "metadata": {},
   "source": [
    "### Random Forest classification"
   ]
  },
  {
   "cell_type": "code",
<<<<<<< HEAD
   "execution_count": 48,
=======
   "execution_count": 118,
>>>>>>> 637820ec704844114c0182c69fae6f202aa19823
   "metadata": {},
   "outputs": [],
   "source": [
    "from sklearn.ensemble import RandomForestClassifier\n",
    "rf = RandomForestClassifier()\n",
    "model_rf = rf.fit(X_train, y_train)\n",
    "y_pred = rf.predict(X_test)"
   ]
  },
  {
   "cell_type": "code",
<<<<<<< HEAD
   "execution_count": 49,
=======
   "execution_count": 119,
>>>>>>> 637820ec704844114c0182c69fae6f202aa19823
   "metadata": {
    "scrolled": false
   },
   "outputs": [
    {
     "name": "stdout",
     "output_type": "stream",
     "text": [
<<<<<<< HEAD
      "[[102  18]\n",
      " [ 17  53]]\n",
      "\n",
      "precision = 0.8157894736842105\n"
=======
      "[[71 14]\n",
      " [29 41]]\n",
      "\n",
      "precision = 0.7225806451612903\n"
>>>>>>> 637820ec704844114c0182c69fae6f202aa19823
     ]
    }
   ],
   "source": [
    "cm = confusion_matrix(y_test, y_pred)\n",
    "print(cm)\n",
    "print('\\nprecision = ' + str((cm[0][0] + cm[1][1])/ (cm[0][1] + cm[1][0] + cm[0][0] + cm[1][1])))"
   ]
  },
  {
   "cell_type": "code",
<<<<<<< HEAD
   "execution_count": 50,
=======
   "execution_count": 120,
>>>>>>> 637820ec704844114c0182c69fae6f202aa19823
   "metadata": {},
   "outputs": [
    {
     "name": "stdout",
     "output_type": "stream",
     "text": [
      "[[104  16]\n",
      " [ 20  51]]\n",
      "\n",
      "precision = 0.8115183246073299\n"
     ]
    }
   ],
   "source": [
    "y_pred = rf.predict(X_real_test)\n",
    "cm = confusion_matrix(y_real_test, y_pred)\n",
    "print(cm)\n",
    "print('\\nprecision = ' + str((cm[0][0] + cm[1][1])/ (cm[0][1] + cm[1][0] + cm[0][0] + cm[1][1])))"
   ]
  },
  {
   "cell_type": "markdown",
   "metadata": {},
   "source": [
    "## 7. Using 10-Fold-CV"
   ]
  },
  {
   "cell_type": "code",
   "execution_count": 121,
   "metadata": {},
   "outputs": [],
   "source": [
    "# Necessary imports: \n",
    "from sklearn.cross_validation import cross_val_predict"
   ]
  },
  {
   "cell_type": "markdown",
   "metadata": {},
   "source": [
    "### 3-Nearest Neighbor classification"
   ]
  },
  {
   "cell_type": "code",
<<<<<<< HEAD
   "execution_count": 51,
=======
   "execution_count": 122,
   "metadata": {},
   "outputs": [
    {
     "name": "stdout",
     "output_type": "stream",
     "text": [
      "[0.76056338 0.70422535 0.8        0.74285714 0.82857143 0.88571429\n",
      " 0.78571429 0.78571429 0.85714286 0.72463768]\n",
      "Accuracy: 0.79 (+/- 0.11)\n"
     ]
    }
   ],
   "source": [
    "from sklearn.model_selection import cross_val_score\n",
    "scores = cross_val_score(model_knn, predictors, target, cv=10)\n",
    "print(scores) \n",
    "print(\"Accuracy: %0.2f (+/- %0.2f)\" % (scores.mean(), scores.std() * 2))"
   ]
  },
  {
   "cell_type": "code",
   "execution_count": 123,
>>>>>>> 637820ec704844114c0182c69fae6f202aa19823
   "metadata": {
    "scrolled": true
   },
   "outputs": [
    {
     "name": "stdout",
     "output_type": "stream",
     "text": [
      "[[106  14]\n",
      " [ 23  48]]\n",
      "\n",
      "precision = 0.806282722513089\n"
     ]
    }
   ],
   "source": [
    "predicted = cross_val_predict(model_knn, X_real_test, y_real_test)\n",
    "cm = confusion_matrix(y_real_test, predicted)\n",
    "print(cm)\n",
    "print('\\nprecision = ' + str((cm[0][0] + cm[1][1])/ (cm[0][1] + cm[1][0] + cm[0][0] + cm[1][1])))"
   ]
  },
  {
   "cell_type": "markdown",
   "metadata": {},
   "source": [
    "### Naive Bayes classification"
   ]
  },
  {
   "cell_type": "code",
<<<<<<< HEAD
   "execution_count": 52,
=======
   "execution_count": 124,
   "metadata": {},
   "outputs": [
    {
     "name": "stdout",
     "output_type": "stream",
     "text": [
      "[0.77464789 0.67605634 0.78571429 0.75714286 0.77142857 0.84285714\n",
      " 0.72857143 0.71428571 0.85714286 0.76811594]\n",
      "Accuracy: 0.77 (+/- 0.10)\n"
     ]
    }
   ],
   "source": [
    "from sklearn.model_selection import cross_val_score\n",
    "scores = cross_val_score(model_gnb, predictors, target, cv=10)\n",
    "print(scores) \n",
    "print(\"Accuracy: %0.2f (+/- %0.2f)\" % (scores.mean(), scores.std() * 2))"
   ]
  },
  {
   "cell_type": "code",
   "execution_count": 125,
>>>>>>> 637820ec704844114c0182c69fae6f202aa19823
   "metadata": {
    "scrolled": true
   },
   "outputs": [
    {
     "name": "stdout",
     "output_type": "stream",
     "text": [
      "[[119   1]\n",
      " [ 61  10]]\n",
      "\n",
      "precision = 0.675392670157068\n"
     ]
    }
   ],
   "source": [
    "predicted = cross_val_predict(model_gnb, X_real_test, y_real_test)\n",
    "cm = confusion_matrix(y_real_test, predicted)\n",
    "print(cm)\n",
    "print('\\nprecision = ' + str((cm[0][0] + cm[1][1])/ (cm[0][1] + cm[1][0] + cm[0][0] + cm[1][1])))"
   ]
  },
  {
   "cell_type": "markdown",
   "metadata": {},
   "source": [
    "### Random Forest classification"
   ]
  },
  {
   "cell_type": "code",
<<<<<<< HEAD
   "execution_count": 53,
=======
   "execution_count": 126,
>>>>>>> 637820ec704844114c0182c69fae6f202aa19823
   "metadata": {},
   "outputs": [
    {
     "name": "stdout",
     "output_type": "stream",
     "text": [
<<<<<<< HEAD
      "[1 1 0 1 0 0 0 0 0 1 0 1 0 0 1 1 0 0 0 1 0 0 1 0 0 0 0 1 1 0 0 1 1 1 0 0 0\n",
      " 0 1 1 1 1 0 1 0 0 0 1 0 1 0 0 1 1 0 0 1 0 1 0 1 1 1 0 0 1 1 0 0 0 0 0 0 0\n",
      " 0 1 0 0 1 0 0 0 1 0 1 0 0 0 1 0 0 0 1 0 0 0 0 1 1 0 0 0 0 0 0 0 0 0 0 1 0\n",
      " 1 0 0 1 0 0 0 0 0 0 0 0 1 0 0 0 0 0 0 0 0 1 1 0 0 1 0 0 1 1 0 0 0 0 0 0 0\n",
      " 0 0 0 1 0 0 0 0 1 0 0 0 0 1 0 0 0 1 1 0 0 0 0 0 1 0 0 0 0 1 0 0 0 1 0 1 0\n",
      " 0 1 0 1 0 1 0 0 1 1 1 0 0 1 1 0 0 0 0 0 1 0 0 0 0 0 1 0 0 0 1 0 0 1 0 0 0\n",
      " 0 0 0 0 0 0 0 0 1 0 0 0 0 0 0 1 0 0 1 1 0 0 0 1 0 1 0 0 0 1 0 0 1 0 1 1 1\n",
      " 1 0 0 1 0 1 0 0 0 1 1 0 0 1 0 1 1 0 0 0 0 0 0 0 0 0 0 0 0 0 1 1 1 0 0 0 0\n",
      " 0 1 0 1 1 0 0 1 0 1 1 1 0 1 1 1 1 0 0 0 1 0 1 1 0 0 1 1 0 1 0 0 0 1 1 0 0\n",
      " 0 1 0 1 1 0 0 1 1 0 0 0 1 1 0 1 0 0 0 0 0 0 0 1 1 1 1 0 0 0 0 0 0 1 1 1 1\n",
      " 1 0 0 0 0 1 1 0 1 0 1 1 0 1 0 0 0 1 0 1 0 0 0 1 1 0 0 0 0 1 0 0 0 0 1 0 0\n",
      " 1 0 0 0 0 1 0 0 0 1 1 0 1 0 0 0 1 0 0 1 1 0 0 0 1 0 0 0 1 0 1 1 0 1 0 0 1\n",
      " 0 1 1 0 1 0 0 0 1 1 0 0 0 1 1 0 0 0 0 0 0 0 0 0 0 1 0 0 1 1 1 0 0 0 0 1 0\n",
      " 0 0 0 1 0 1 0 0 0 0 0 0 0 0 0 1 0 1 0 0 1 1 0 1 1 1 0 0 0 0 0 0 1 0 0 1 0\n",
      " 0 0 1 0 0 1 0 0 1 0 0 0 1 0 0 0 0 1 0 1 0 1 1 0 0 0 1 0 1 0 0 1 0 0 0 0 1\n",
      " 0 1 0 1 1 0 0 0 0 0 0 0 0 0 0 0 1 0 1 0 0 1 1 0 0 1 1 0 0 0 1 0 0 0 0 0 1\n",
      " 0 1 0 0 1 0 0 1 1 0 0 0 0 0 0 0 1 1 1 0 1 0 0 1 0 0 1 0 0 0 0 0 0 0 0 1 0\n",
      " 0 0 0 1 0 0 1 0 0 0 0 0 1 0 0 1 1 0 0 0 1 0 1 0 1 1 0 0 1 0 0 0 0 0 0 0 0\n",
      " 0 0 0 1 1 0 1 0 0 0 0 0 0 0 1 1 0 0 0 0 0 0 0 1 0 1 0 0 0 0 0 1 1 0 1 0 1\n",
      " 0 0 0 1 0 1 1 1 0 0 0 0 0 1 1 0 0 1 0 0 0 0 0 1 1 0 1 1 1 0 0 0 0 0 0 0 0\n",
      " 0 0 1 0 0 0 0 1 0 0 1 1 0 0 1 1 0 0 0 1 0 0 0 1 0 1 0 1 0 0 0 0 1 0 1 0 0\n",
      " 0 0 1 1 1 0 0 0 0 0 0 1 0 0 0 0 0 0 0 1 0 0 1 0 1 1 1 0 0 0 1 0 1 0 0 0 1\n",
      " 0 1 1 0 0 0 1 0 0 0 0 0 0 1 0 1 1 1 0 0 0 1 0 0 0 0 0 0 1 0 0 0 0 0 0 1 0\n",
      " 0 1 1 1 0 1 0 1 0 0 0 1 0 0 1 1 1 0 1 0 1 1 0 1 1 0 0 0 1 1 0 1 0 0 0 0 1\n",
      " 0 0 0]\n",
      "[[483  66]\n",
      " [114 228]]\n",
      "\n",
      "precision = 0.797979797979798\n"
=======
      "[0.69014085 0.77464789 0.74285714 0.74285714 0.82857143 0.88571429\n",
      " 0.81428571 0.77142857 0.82857143 0.73913043]\n",
      "Accuracy: 0.78 (+/- 0.11)\n"
     ]
    }
   ],
   "source": [
    "from sklearn.model_selection import cross_val_score\n",
    "scores = cross_val_score(model_rf, predictors, target, cv=10)\n",
    "print(scores) \n",
    "print(\"Accuracy: %0.2f (+/- %0.2f)\" % (scores.mean(), scores.std() * 2))"
   ]
  },
  {
   "cell_type": "code",
   "execution_count": 127,
   "metadata": {
    "scrolled": true
   },
   "outputs": [
    {
     "name": "stdout",
     "output_type": "stream",
     "text": [
      "[[109  11]\n",
      " [ 20  51]]\n",
      "\n",
      "precision = 0.837696335078534\n"
>>>>>>> 637820ec704844114c0182c69fae6f202aa19823
     ]
    }
   ],
   "source": [
<<<<<<< HEAD
    "predicted = cross_val_predict(model_rf, X, y, cv=10)\n",
    "print(predicted)\n",
    "cm = confusion_matrix(y, predicted)\n",
=======
    "predicted = cross_val_predict(model_rf, X_real_test, y_real_test)\n",
    "cm = confusion_matrix(y_real_test, predicted)\n",
>>>>>>> 637820ec704844114c0182c69fae6f202aa19823
    "print(cm)\n",
    "print('\\nprecision = ' + str((cm[0][0] + cm[1][1])/ (cm[0][1] + cm[1][0] + cm[0][0] + cm[1][1])))"
   ]
  },
  {
   "cell_type": "code",
<<<<<<< HEAD
   "execution_count": 57,
   "metadata": {},
   "outputs": [],
   "source": [
    "predicted = pd.DataFrame(predicted)\n",
    "predicted.to_csv(\"./titanic_data_set/predicted.csv\")"
=======
   "execution_count": 129,
   "metadata": {},
   "outputs": [],
   "source": [
    "pd.DataFrame(predicted).to_csv('out.csv')"
   ]
  },
  {
   "cell_type": "code",
   "execution_count": 130,
   "metadata": {},
   "outputs": [],
   "source": [
    "pd.DataFrame(y_real_test).to_csv('out2.csv')"
>>>>>>> 637820ec704844114c0182c69fae6f202aa19823
   ]
  },
  {
   "cell_type": "markdown",
   "metadata": {},
   "source": [
    "## 8. Reference"
   ]
  },
  {
   "cell_type": "markdown",
   "metadata": {},
   "source": [
    "* https://www.kaggle.com/omarelgabry/a-journey-through-titanic?scriptVersionId=447802/notebook\n",
    "* http://scikit-learn.org/stable/modules/naive_bayes.html\n",
    "* http://scikit-learn.org/stable/modules/generated/sklearn.neighbors.KNeighborsClassifier.html\n",
    "* http://scikit-learn.org/stable/modules/generated/sklearn.ensemble.RandomForestClassifier.html\n",
    "* https://www.sanyamkapoor.com/machine-learning/confusion-matrix-visualization/\n",
    "* https://pandas.pydata.org/pandas-docs/stable/generated/pandas.Series.str.extract.html\n",
    "* http://www.ritchieng.com/machinelearning-one-hot-encoding/\n",
    "* https://towardsdatascience.com/train-test-split-and-cross-validation-in-python-80b61beca4b6\n",
    "* http://scikit-learn.org/stable/modules/generated/sklearn.model_selection.cross_val_score.html\n",
    "* http://scikit-learn.org/stable/modules/cross_validation.html\n",
    "* https://stackoverflow.com/questions/41458834/how-is-scikit-learn-cross-val-predict-accuracy-score-calculated"
   ]
<<<<<<< HEAD
=======
  },
  {
   "cell_type": "code",
   "execution_count": null,
   "metadata": {},
   "outputs": [],
   "source": []
  },
  {
   "cell_type": "code",
   "execution_count": null,
   "metadata": {},
   "outputs": [],
   "source": []
  },
  {
   "cell_type": "code",
   "execution_count": null,
   "metadata": {},
   "outputs": [],
   "source": []
  },
  {
   "cell_type": "code",
   "execution_count": null,
   "metadata": {},
   "outputs": [],
   "source": []
  },
  {
   "cell_type": "code",
   "execution_count": null,
   "metadata": {},
   "outputs": [],
   "source": []
  },
  {
   "cell_type": "code",
   "execution_count": null,
   "metadata": {},
   "outputs": [],
   "source": []
  },
  {
   "cell_type": "code",
   "execution_count": null,
   "metadata": {},
   "outputs": [],
   "source": []
  },
  {
   "cell_type": "code",
   "execution_count": null,
   "metadata": {},
   "outputs": [],
   "source": []
  },
  {
   "cell_type": "code",
   "execution_count": null,
   "metadata": {},
   "outputs": [],
   "source": []
  },
  {
   "cell_type": "code",
   "execution_count": null,
   "metadata": {},
   "outputs": [],
   "source": []
  },
  {
   "cell_type": "code",
   "execution_count": null,
   "metadata": {},
   "outputs": [],
   "source": []
  },
  {
   "cell_type": "code",
   "execution_count": null,
   "metadata": {},
   "outputs": [],
   "source": []
  },
  {
   "cell_type": "code",
   "execution_count": null,
   "metadata": {},
   "outputs": [],
   "source": []
  },
  {
   "cell_type": "code",
   "execution_count": null,
   "metadata": {},
   "outputs": [],
   "source": []
  },
  {
   "cell_type": "code",
   "execution_count": null,
   "metadata": {},
   "outputs": [],
   "source": []
  },
  {
   "cell_type": "code",
   "execution_count": null,
   "metadata": {},
   "outputs": [],
   "source": []
  },
  {
   "cell_type": "code",
   "execution_count": null,
   "metadata": {},
   "outputs": [],
   "source": []
  },
  {
   "cell_type": "code",
   "execution_count": null,
   "metadata": {},
   "outputs": [],
   "source": []
>>>>>>> 637820ec704844114c0182c69fae6f202aa19823
  }
 ],
 "metadata": {
  "hide_input": false,
  "kernel_info": {
   "name": "python3"
  },
  "kernelspec": {
   "display_name": "Python 3",
   "language": "python",
   "name": "python3"
  },
  "language_info": {
   "codemirror_mode": {
    "name": "ipython",
    "version": 3
   },
   "file_extension": ".py",
   "mimetype": "text/x-python",
   "name": "python",
   "nbconvert_exporter": "python",
   "pygments_lexer": "ipython3",
   "version": "3.6.5"
  },
  "nteract": {
   "version": "0.8.4"
  },
  "toc": {
   "base_numbering": 1,
   "nav_menu": {},
   "number_sections": false,
   "sideBar": true,
   "skip_h1_title": false,
   "title_cell": "Table of Contents",
   "title_sidebar": "Contents",
   "toc_cell": false,
   "toc_position": {
    "height": "calc(100% - 180px)",
    "left": "10px",
    "top": "150px",
    "width": "361px"
   },
   "toc_section_display": true,
   "toc_window_display": true
  },
  "varInspector": {
   "cols": {
    "lenName": 16,
    "lenType": 16,
    "lenVar": 40
   },
   "kernels_config": {
    "python": {
     "delete_cmd_postfix": "",
     "delete_cmd_prefix": "del ",
     "library": "var_list.py",
     "varRefreshCmd": "print(var_dic_list())"
    },
    "r": {
     "delete_cmd_postfix": ") ",
     "delete_cmd_prefix": "rm(",
     "library": "var_list.r",
     "varRefreshCmd": "cat(var_dic_list()) "
    }
   },
   "position": {
    "height": "144px",
    "left": "2104px",
    "right": "20px",
    "top": "119px",
    "width": "350px"
   },
   "types_to_exclude": [
    "module",
    "function",
    "builtin_function_or_method",
    "instance",
    "_Feature"
   ],
   "window_display": true
  }
 },
 "nbformat": 4,
 "nbformat_minor": 2
}
